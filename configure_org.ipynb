{
 "cells": [
  {
   "cell_type": "markdown",
   "metadata": {},
   "source": [
    "# Build Org\n",
    "*Jupyter Notebook to customize an ArcGIS Online organization UI & add users*"
   ]
  },
  {
   "cell_type": "code",
   "execution_count": 1,
   "metadata": {
    "collapsed": true
   },
   "outputs": [],
   "source": [
    "# common imports\n",
    "from arcgis.gis import GIS"
   ]
  },
  {
   "cell_type": "markdown",
   "metadata": {},
   "source": [
    "## User Input"
   ]
  },
  {
   "cell_type": "markdown",
   "metadata": {},
   "source": [
    "### GIS Configuration\n",
    "Organization to be built. Parameter information [here](https://developers.arcgis.com/python/guide/using-the-gis/)."
   ]
  },
  {
   "cell_type": "code",
   "execution_count": null,
   "metadata": {
    "collapsed": true
   },
   "outputs": [],
   "source": [
    "# org to be customized\n",
    "gis = GIS(\"<template GIS>\", \"<un>\", \"<pw>\")"
   ]
  },
  {
   "cell_type": "markdown",
   "metadata": {},
   "source": [
    "### UI Configuration\n",
    "Constants to define organization users and UI building blocks"
   ]
  },
  {
   "cell_type": "code",
   "execution_count": 2,
   "metadata": {
    "collapsed": true
   },
   "outputs": [],
   "source": [
    "# path to csv with users to be added\n",
    "USER_CSV = \"<CSV PATH>\"\n",
    "\n",
    "# groups to share with users\n",
    "GROUPS = [\"GROUP 1\", \"GROUP 2\"]\n",
    "\n",
    "# delivery organization UX component locations\n",
    "THUMBNAIL_PATH = \"<THUMBNAIL PATH>\"\n",
    "FOOTER_PATH = \"<FOOTER PATH>\"\n",
    "BANNER_PATH = \"<BANNER PATH>\"\n",
    "BACKGROUND_PATH = \"<BACKGROUND PATH>\"\n",
    "\n",
    "# featured content group\n",
    "FEATURED_GROUP = \"<GROUP>\""
   ]
  },
  {
   "cell_type": "markdown",
   "metadata": {},
   "source": [
    "### Utility Functions\n",
    "**NOTE** if you are unable to import local files, **replace the following cell** with the code in [**user_utils.py**](https://github.com/ArcGIS/aec-scripts/blob/master/utils/user_utils.py)"
   ]
  },
  {
   "cell_type": "code",
   "execution_count": 2,
   "metadata": {
    "collapsed": true
   },
   "outputs": [],
   "source": [
    "from utils.user_utils import add_users_csv"
   ]
  },
  {
   "cell_type": "markdown",
   "metadata": {},
   "source": [
    "## Execution"
   ]
  },
  {
   "cell_type": "markdown",
   "metadata": {},
   "source": [
    "### Add users"
   ]
  },
  {
   "cell_type": "code",
   "execution_count": null,
   "metadata": {
    "collapsed": true
   },
   "outputs": [],
   "source": [
    "# fetch groups where users will be addded\n",
    "share_groups = [gis.groups.search(g)[0] for g in GROUPS]\n",
    "# add users to the organization and specified groups\n",
    "add_users_csv(USER_CSV, gis, groups=share_groups)"
   ]
  },
  {
   "cell_type": "markdown",
   "metadata": {},
   "source": [
    "### Customize UI"
   ]
  },
  {
   "cell_type": "code",
   "execution_count": null,
   "metadata": {
    "collapsed": true
   },
   "outputs": [],
   "source": [
    "# set UX components\n",
    "ux = gis.admin.ux\n",
    "ux.set_background(BACKGROUND_PATH)\n",
    "ux.set_banner(BANNER_PATH)\n",
    "ux.set_logo(THUMBNAIL_PATH)\n",
    "\n",
    "# find and set featured group\n",
    "featured_group = gis.groups.search(FEATURED_GROUP)[0]\n",
    "ux.featured_content = {'group': featured_group}"
   ]
  }
 ],
 "metadata": {
  "kernelspec": {
   "display_name": "Python 3",
   "language": "python",
   "name": "python3"
  },
  "language_info": {
   "codemirror_mode": {
    "name": "ipython",
    "version": 3
   },
   "file_extension": ".py",
   "mimetype": "text/x-python",
   "name": "python",
   "nbconvert_exporter": "python",
   "pygments_lexer": "ipython3",
   "version": "3.6.3"
  }
 },
 "nbformat": 4,
 "nbformat_minor": 2
}
