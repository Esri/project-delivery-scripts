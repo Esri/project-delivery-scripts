{
 "cells": [
  {
   "cell_type": "markdown",
   "metadata": {},
   "source": [
    "## AEC Scripts"
   ]
  },
  {
   "cell_type": "code",
   "execution_count": 1,
   "metadata": {
    "collapsed": true
   },
   "outputs": [],
   "source": [
    "# common imports\n",
    "from arcgis.gis import GIS"
   ]
  },
  {
   "cell_type": "markdown",
   "metadata": {},
   "source": [
    "### User Input"
   ]
  },
  {
   "cell_type": "code",
   "execution_count": null,
   "metadata": {
    "collapsed": true
   },
   "outputs": [],
   "source": [
    "# log in to respective portals\n",
    "template = GIS(\"<template GIS>\", \"<un>\", \"<pw>\") #admin?\n",
    "project = GIS(\"<project GIS>\", \"<un>\", \"<pw>\") #L2 publisher++?\n",
    "delivery = GIS(\"<delivery GIS>\", \"<un>\", \"<pw>\") #admin?"
   ]
  },
  {
   "cell_type": "code",
   "execution_count": 5,
   "metadata": {
    "collapsed": true
   },
   "outputs": [],
   "source": [
    "# user-defined constants\n",
    "PROJECT_GROUPS = [\"data\", \"maps\", \"internal apps\"] \n",
    "DELIVERY_GROUPS = [\"external apps\"]\n",
    "NAME_STRUCTURE = \"<PROJECT NAME> {}\"\n",
    "FOLDER = NAME_STRUCTURE.format(\"Content\")"
   ]
  },
  {
   "cell_type": "markdown",
   "metadata": {},
   "source": [
    "### Copying Functions\n",
    "_*NOTE If unable to import local files, __replace__ the following cell with the __code here___"
   ]
  },
  {
   "cell_type": "code",
   "execution_count": null,
   "metadata": {
    "collapsed": true
   },
   "outputs": [],
   "source": [
    "from clone_utils import copy_group_and_items"
   ]
  },
  {
   "cell_type": "markdown",
   "metadata": {},
   "source": [
    "### Execution"
   ]
  },
  {
   "cell_type": "code",
   "execution_count": null,
   "metadata": {
    "collapsed": true
   },
   "outputs": [],
   "source": [
    "# get groups\n",
    "template_project_groups = [template.groups.search(\"title:{}\".format(group))[0] for group in PROJECT_GROUPS]\n",
    "template_delivery_groups = [template.groups.search(\"title:{}\".format(group))[0] for group in DELIVERY_GROUPS]\n",
    "\n",
    "# update titles to reflect projects\n",
    "def modify(copy):\n",
    "    copy['title'] = NAME_STRUCTURE.format(copy['title'])\n",
    "    return copy\n",
    "\n",
    "#define function arguments\n",
    "item_args = {\n",
    "    \"owner\": project.users.me,\n",
    "    \"folder\": FOLDER,\n",
    "    \"modify_items\": modify\n",
    "}\n",
    "group_args = {\"modify\": modify}\n",
    "\n",
    "# copy the groups\n",
    "project_groups = [copy_group_and_items(template, group, project, group_args, item_args)\\\n",
    "                  for group in template_project_groups]\n",
    "delivery_groups = [copy_group_and_items(template, group, delivery, group_args, item_args)\\\n",
    "                  for group in template_delivery_groups]"
   ]
  }
 ],
 "metadata": {
  "kernelspec": {
   "display_name": "Python 3",
   "language": "python",
   "name": "python3"
  },
  "language_info": {
   "codemirror_mode": {
    "name": "ipython",
    "version": 3
   },
   "file_extension": ".py",
   "mimetype": "text/x-python",
   "name": "python",
   "nbconvert_exporter": "python",
   "pygments_lexer": "ipython3",
   "version": "3.6.3"
  }
 },
 "nbformat": 4,
 "nbformat_minor": 2
}
