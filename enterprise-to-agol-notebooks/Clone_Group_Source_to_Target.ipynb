{
 "cells": [
  {
   "cell_type": "markdown",
   "metadata": {},
   "source": [
    "# Clone Group Source to Target\n",
    "In this notebook, a group will be cloned from the source organization to a target organization. \n",
    "\n",
    "## Getting Started:\n",
    "1. Find the group IDs for the template groups. These can be found by navigating to the group page and looking in the URL (for example, if the URL is http://envisioning.maps.arcgis.com/home/group.html?id=a7903db4086641b98570bce5856a6364#overview, the group ID is \"a7903db4086641b98570bce5856a6364\". Example set-up in the project organization:\n",
    "    - test-group (ID \"a7903db4086641b98570bce5856a6364\") contains:\n",
    "        - Sample Layer\n",
    "        - Sample Map\n",
    "    - test-group-2 (ID \"4d7ff4f81d6340428ef290b7de801204\") contains:\n",
    "        - Sample WebApp\n",
    "2. Change the variables in the first code cell. Example variables:\n",
    "    - SOURCE_URL = \"https://envisioning.maps.arcgis.com\"\n",
    "    - SOURCE_USERNAME = \"admin\"\n",
    "    - SOURCE_GROUP_IDS = [\"a7903db4086641b98570bce5856a6364\", \"4d7ff4f81d6340428ef290b7de801204\"]\n",
    "    - TARGET_URL = \"https://envisioning.maps.arcgis.com\"\n",
    "    - TARGET_USERNAME = \"admin\"\n",
    "    - COPY_PREFIX = \"ACME\"\n",
    "3. Run the notebook cell by cell. \n",
    "    - In code cell 3, you will need to enter the password for the source username when prompted\n",
    "    - In code cell 4, you will need to enter the password for the target username when prompted\n",
    "4. After running this notebook, the source group will be cloned into a new target organization group. "
   ]
  },
  {
   "cell_type": "code",
   "execution_count": null,
   "metadata": {},
   "outputs": [],
   "source": [
    "# Global Variables set by user **change these values before running**\n",
    "\n",
    "# URL of the portal with the template content\n",
    "SOURCE_URL = \"https://my-enterprise.maps.arcgis.com\"\n",
    "\n",
    "# username for source portal log-on (admin)\n",
    "SOURCE_USERNAME = \"my_user_name\"\n",
    "\n",
    "# template content groups that will be shared with delivery org #aec-test-group, aec-test-group-2\n",
    "SOURCE_GROUP_ID = \"6fd586038d76406594d72ed2cb348e41\"\n",
    "\n",
    "# URL of the portal to receive the template content\n",
    "TARGET_URL = \"https://my-other-enterprise.maps.arcgis.com\"\n",
    "\n",
    "# username for the target portal log-on (admin)\n",
    "TARGET_USERNAME"
   ]
  },
  {
   "cell_type": "code",
   "execution_count": null,
   "metadata": {},
   "outputs": [],
   "source": [
    "# import libraries\n",
    "from arcgis.gis import GIS\n",
    "from IPython.display import display"
   ]
  },
  {
   "cell_type": "code",
   "execution_count": null,
   "metadata": {},
   "outputs": [],
   "source": [
    "print('Logging into {}'.format(SOURCE_URL))\n",
    "source = GIS(SOURCE_URL, SOURCE_USERNAME)"
   ]
  },
  {
   "cell_type": "code",
   "execution_count": null,
   "metadata": {},
   "outputs": [],
   "source": [
    "print('Logging into {}'.format(TARGET_URL))\n",
    "target = GIS(TARGET_URL,TARGET_USERNAME)"
   ]
  },
  {
   "cell_type": "code",
   "execution_count": null,
   "metadata": {},
   "outputs": [],
   "source": [
    "# Search for group by ID\n",
    "source_groups = source.groups.search(SOURCE_GROUP_ID)\n",
    "source_groups"
   ]
  },
  {
   "cell_type": "code",
   "execution_count": null,
   "metadata": {},
   "outputs": [],
   "source": [
    "# Get group object\n",
    "source_group = source_groups[0]\n",
    "source_group"
   ]
  },
  {
   "cell_type": "code",
   "execution_count": null,
   "metadata": {},
   "outputs": [],
   "source": [
    "# Get group items\n",
    "source_items = source_group.content()\n",
    "source_items"
   ]
  },
  {
   "cell_type": "code",
   "execution_count": null,
   "metadata": {},
   "outputs": [],
   "source": [
    "import tempfile\n",
    "if not target.groups.search(source_group.title):\n",
    "    try:\n",
    "        with tempfile.TemporaryDirectory() as temp_dir:\n",
    "            thumbnail_file = source_group.download_thumbnail(temp_dir)\n",
    "            \n",
    "            #create a group in the target portal with all the properties of the group in the source\n",
    "            target_group = target.groups.create(title = source_group.title,\n",
    "                                                 tags = source_group.tags,\n",
    "                                                 description = source_group.description,\n",
    "                                                 snippet = source_group.snippet,\n",
    "                                                 access = source_group.access, \n",
    "                                                 thumbnail= thumbnail_file,\n",
    "                                                 is_invitation_only = True,\n",
    "                                                 sort_field = 'avgRating',\n",
    "                                                 sort_order ='asc',\n",
    "                                                 is_view_only=True)\n",
    "            #display the group\n",
    "            display(target_group)\n",
    "            \n",
    "    except Exception as e:\n",
    "        print('Group {} could not be created'.format(source_group.title))\n",
    "        print(e)\n",
    "else:\n",
    "    print('Group {} already exists in the portal'.format(source_group.title))\n",
    "    target_group = target.groups.search(source_group.title)[0]"
   ]
  },
  {
   "cell_type": "code",
   "execution_count": null,
   "metadata": {},
   "outputs": [],
   "source": [
    "#making a list for the items to be cloned in the target portal\n",
    "items_to_be_cloned = list(source_items)\n",
    "\n",
    "#checking for the presence of the item in the target portal \n",
    "for item in source_items:\n",
    "    searched_items = target.content.search(query='title:'+item.title, item_type = item.type)   \n",
    "    \n",
    "    for s_item in searched_items:\n",
    "        \n",
    "        if s_item.title == item.title:\n",
    "            \n",
    "            #if an item is not a part of the group in the target portal then share it \n",
    "            if s_item not in target_group.content():\n",
    "                s_item.share(groups= [target_group])\n",
    "            \n",
    "            #remove the already existing item from the list of items to be cloned\n",
    "            items_to_be_cloned.remove(item)                \n",
    "            \n",
    "            #display the item\n",
    "            display(s_item)      \n",
    "                     \n",
    "            break"
   ]
  },
  {
   "cell_type": "code",
   "execution_count": null,
   "metadata": {},
   "outputs": [],
   "source": [
    "#cloning all items that were not present on the portal before\n",
    "for item in items_to_be_cloned:    \n",
    "    try:\n",
    "        with tempfile.TemporaryDirectory() as temp_dir:\n",
    "            thumbnail_file = item.download_thumbnail(temp_dir)\n",
    "            metadata_file = item.download_metadata(temp_dir)\n",
    "            target_item_properties = {'title': item.title,\n",
    "                                      'tags': item.tags,\n",
    "                                      'text':item.get_data(True),\n",
    "                                      'type':item.type,\n",
    "                                      'url':item.url\n",
    "                                     }       \n",
    "            #create an item\n",
    "            target_item = target.content.add(target_item_properties, thumbnail=thumbnail_file)\n",
    "            \n",
    "            #share that item with the group on the target portal\n",
    "            target_item.share(groups=[target_group])\n",
    "            \n",
    "            #display the item\n",
    "            display(target_item)\n",
    "            \n",
    "    except Exception as e:\n",
    "        print('Item {} could not be created in the target portal'.format(item.title))\n",
    "        print(e)"
   ]
  }
 ],
 "metadata": {
  "kernelspec": {
   "display_name": "Python 3",
   "language": "python",
   "name": "python3"
  },
  "language_info": {
   "codemirror_mode": {
    "name": "ipython",
    "version": 3
   },
   "file_extension": ".py",
   "mimetype": "text/x-python",
   "name": "python",
   "nbconvert_exporter": "python",
   "pygments_lexer": "ipython3",
   "version": "3.7.10"
  }
 },
 "nbformat": 4,
 "nbformat_minor": 4
}
