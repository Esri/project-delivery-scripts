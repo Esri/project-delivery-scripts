{
 "cells": [
  {
   "cell_type": "markdown",
   "metadata": {},
   "source": [
    "# AEC Scripts"
   ]
  },
  {
   "cell_type": "code",
   "execution_count": 1,
   "metadata": {
    "collapsed": true
   },
   "outputs": [],
   "source": [
    "# common imports\n",
    "from arcgis.gis import GIS"
   ]
  },
  {
   "cell_type": "markdown",
   "metadata": {},
   "source": [
    "## User Input\n",
    "#### GIS Configuration\n",
    "For each GIS, enter portal url (such as `https://www.arcgis.com` for ArcGIS Online), username, and password"
   ]
  },
  {
   "cell_type": "code",
   "execution_count": null,
   "metadata": {
    "collapsed": true
   },
   "outputs": [],
   "source": [
    "# log in to respective portals\n",
    "template = GIS(\"<template GIS>\", \"<un>\", \"<pw>\")\n",
    "project = GIS(\"<project GIS>\", \"<un>\", \"<pw>\")\n",
    "delivery = GIS(\"<delivery GIS>\", \"<un>\", \"<pw>\")"
   ]
  },
  {
   "cell_type": "markdown",
   "metadata": {},
   "source": [
    "#### Script Configuration\n",
    "Defines how to clone the template organization"
   ]
  },
  {
   "cell_type": "code",
   "execution_count": 5,
   "metadata": {
    "collapsed": true
   },
   "outputs": [],
   "source": [
    "# path to csv with users to be added\n",
    "USER_CSV = \"<CSV PATH>\"\n",
    "\n",
    "# groups to be copied from template to project organization\n",
    "PROJECT_GROUPS = [\"data\", \"maps\", \"internal apps\"]\n",
    "# groups to be copied from template to delivery organization\n",
    "DELIVERY_GROUPS = [\"external apps\"]\n",
    "\n",
    "# new item name structure, {} replaced by old item name\n",
    "NAME_STRUCTURE = \"<PROJECT NAME> {}\"\n",
    "# user folder for new items\n",
    "FOLDER = NAME_STRUCTURE.format(\"Content\")\n",
    "\n",
    "# delivery organization UX component locations\n",
    "THUMBNAIL_PATH = \"<THUMBNAIL PATH>\"\n",
    "FOOTER_PATH = \"<FOOTER PATH>\"\n",
    "BANNER_PATH = \"<BANNER PATH>\"\n",
    "BACKGROUND_PATH = \"<BACKGROUND PATH\"\n",
    "# featured content group\n",
    "FEATURED_GROUP = \"data\""
   ]
  },
  {
   "cell_type": "markdown",
   "metadata": {},
   "source": [
    "## Utility Functions\n",
    "*NOTE If unable to import local files, __replace__ the following cell with the __[code here](https://github.com/ArcGIS/aec-scripts/blob/master/clone_utils.py)__"
   ]
  },
  {
   "cell_type": "code",
   "execution_count": null,
   "metadata": {
    "collapsed": true
   },
   "outputs": [],
   "source": [
    "from clone_utils import copy_group_and_items, add_users_csv"
   ]
  },
  {
   "cell_type": "markdown",
   "metadata": {},
   "source": [
    "## Execution\n",
    "#### Copy Groups and Items"
   ]
  },
  {
   "cell_type": "code",
   "execution_count": null,
   "metadata": {
    "collapsed": true
   },
   "outputs": [],
   "source": [
    "# get groups\n",
    "template_project_groups = [template.groups.search(group)[0] for group in PROJECT_GROUPS]\n",
    "template_delivery_groups = [template.groups.search(group)[0] for group in DELIVERY_GROUPS]\n",
    "\n",
    "# update titles to reflect projects\n",
    "def modify(copy):\n",
    "    copy['title'] = NAME_STRUCTURE.format(copy['title'])\n",
    "    return copy\n",
    "\n",
    "#define function arguments\n",
    "item_args = {\n",
    "    \"owner\": project.users.me,\n",
    "    \"folder\": FOLDER,\n",
    "    \"modify_items\": modify\n",
    "}\n",
    "group_args = {\"modify\": modify}\n",
    "\n",
    "# copy the groups\n",
    "project_groups = [copy_group_and_items(template, group, project, group_args, item_args)\n",
    "                  for group in template_project_groups]\n",
    "delivery_groups = [copy_group_and_items(template, group, delivery, group_args, item_args)\n",
    "                  for group in template_delivery_groups]"
   ]
  },
  {
   "cell_type": "markdown",
   "metadata": {},
   "source": [
    "#### Add Users"
   ]
  },
  {
   "cell_type": "code",
   "execution_count": null,
   "metadata": {
    "collapsed": true
   },
   "outputs": [],
   "source": [
    "# add users to delivery org\n",
    "add_users_csv(USER_CSV, delivery, groups=delivery_groups)"
   ]
  },
  {
   "cell_type": "markdown",
   "metadata": {},
   "source": [
    "#### Customize Delivery Organization UI"
   ]
  },
  {
   "cell_type": "code",
   "execution_count": null,
   "metadata": {
    "collapsed": true
   },
   "outputs": [],
   "source": [
    "ux = delivery.admin.ux\n",
    "ux.set_background(BACKGROUND_PATH)\n",
    "ux.set_banner(BANNER_PATH)\n",
    "ux.set_logo(THUMBNAIL_PATH)\n",
    "\n",
    "featured_group = next(group for group in delivery_groups if group.title == FEATURED_GROUP)\n",
    "ux.featured_content = {'group': featured_group}"
   ]
  }
 ],
 "metadata": {
  "kernelspec": {
   "display_name": "Python 3",
   "language": "python",
   "name": "python3"
  },
  "language_info": {
   "codemirror_mode": {
    "name": "ipython",
    "version": 3
   },
   "file_extension": ".py",
   "mimetype": "text/x-python",
   "name": "python",
   "nbconvert_exporter": "python",
   "pygments_lexer": "ipython3",
   "version": "3.6.3"
  }
 },
 "nbformat": 4,
 "nbformat_minor": 2
}
