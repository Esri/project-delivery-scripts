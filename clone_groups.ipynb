{
 "cells": [
  {
   "cell_type": "markdown",
   "metadata": {},
   "source": [
    "# AEC Scripts"
   ]
  },
  {
   "cell_type": "code",
   "execution_count": null,
   "metadata": {
    "collapsed": true
   },
   "outputs": [],
   "source": [
    "# common imports\n",
    "from arcgis.gis import GIS"
   ]
  },
  {
   "cell_type": "markdown",
   "metadata": {},
   "source": [
    "## User Input\n",
    "#### GIS Configuration\n",
    "For each GIS, enter portal url (such as `https://www.arcgis.com` for ArcGIS Online), username, and password"
   ]
  },
  {
   "cell_type": "code",
   "execution_count": null,
   "metadata": {
    "collapsed": true
   },
   "outputs": [],
   "source": [
    "# log in to respective portals\n",
    "template = GIS(\"<template GIS>\", \"<un>\", \"<pw>\")\n",
    "project = GIS(\"<project GIS>\", \"<un>\", \"<pw>\")\n",
    "delivery = GIS(\"<delivery GIS>\", \"<un>\", \"<pw>\")"
   ]
  },
  {
   "cell_type": "markdown",
   "metadata": {},
   "source": [
    "#### Script Configuration\n",
    "Defines how to clone the template organization"
   ]
  },
  {
   "cell_type": "code",
   "execution_count": null,
   "metadata": {
    "collapsed": true
   },
   "outputs": [],
   "source": [
    "# groups to be copied from template to project organization\n",
    "PROJECT_GROUPS = [\"data\", \"maps\", \"internal apps\"]\n",
    "# groups to be copied from template to delivery organization\n",
    "DELIVERY_GROUPS = [\"external apps\"]\n",
    "\n",
    "# new item name structure, {} replaced by item name\n",
    "NAME_STRUCTURE = \"<PROJECT NAME> {}\"\n",
    "# user folder for new items, as is creates string \"<PROJECT NAME> Content\"\n",
    "FOLDER = NAME_STRUCTURE.format(\"Content\")"
   ]
  },
  {
   "cell_type": "markdown",
   "metadata": {},
   "source": [
    "## Utility Functions"
   ]
  },
  {
   "cell_type": "code",
   "execution_count": null,
   "metadata": {},
   "outputs": [],
   "source": [
    "from utils.clone_utils import search_group_title, search_item_title, clone_items_modify"
   ]
  },
  {
   "cell_type": "markdown",
   "metadata": {},
   "source": [
    "## Execution\n",
    "#### Copy Groups and Items"
   ]
  },
  {
   "cell_type": "code",
   "execution_count": null,
   "metadata": {
    "collapsed": true
   },
   "outputs": [],
   "source": [
    "# update title functions\n",
    "def modify_item(item, target):\n",
    "    title = NAME_STRUCTURE.format(item.title)\n",
    "    while search_item_title(target, title):\n",
    "        title = input(\"Title `{0}` for ITEM `{1}` already exists \\n new title: \"\n",
    "                         .format(title, item.title))\n",
    "    return {\"title\": title}\n",
    "def modify_group(group, expected_title, target):\n",
    "    title = NAME_STRUCTURE.format(expected_title)\n",
    "    while search_group_title(target, title):\n",
    "        title = input(\"Title `{0}` for GROUP `{1}` already exists \\n new title: \"\n",
    "                         .format(title, expected_title))\n",
    "    return {\"title\": title}"
   ]
  },
  {
   "cell_type": "code",
   "execution_count": null,
   "metadata": {
    "collapsed": true
   },
   "outputs": [],
   "source": [
    "# get groups\n",
    "template_project_groups = [search_group_title(template, title) for title in PROJECT_GROUPS]\n",
    "template_delivery_groups = [search_group_title(template, title) for title in DELIVERY_GROUPS]\n",
    "\n",
    "# copy the groups\n",
    "project_results = clone_items_modify(template_project_groups, project,\n",
    "                                     modify_item_callback=modify_item, modify_group_callback=modify_group,\n",
    "                                     copy_data=False, search_existing_items=False, folder=FOLDER)\n",
    "delivery_results = clone_items_modify(template_delivery_groups, delivery,\n",
    "                                     modify_item_callback=modify_item, modify_group_callback=modify_group,\n",
    "                                     copy_data=False, search_existing_items=False, folder=FOLDER)"
   ]
  }
 ],
 "metadata": {
  "kernelspec": {
   "display_name": "Python 3",
   "language": "python",
   "name": "python3"
  },
  "language_info": {
   "codemirror_mode": {
    "name": "ipython",
    "version": 3
   },
   "file_extension": ".py",
   "mimetype": "text/x-python",
   "name": "python",
   "nbconvert_exporter": "python",
   "pygments_lexer": "ipython3",
   "version": "3.6.3"
  }
 },
 "nbformat": 4,
 "nbformat_minor": 2
}
