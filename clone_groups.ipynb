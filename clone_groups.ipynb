{
 "cells": [
  {
   "cell_type": "markdown",
   "metadata": {},
   "source": [
    "# Clone Groups\n",
    "*Jupyter Notebook to clone groups and their items*"
   ]
  },
  {
   "cell_type": "code",
   "execution_count": null,
   "metadata": {
    "collapsed": true
   },
   "outputs": [],
   "source": [
    "# common imports\n",
    "from arcgis.gis import GIS\n",
    "from IPython.display import display\n",
    "from getpass import getpass"
   ]
  },
  {
   "cell_type": "markdown",
   "metadata": {},
   "source": [
    "## User Input"
   ]
  },
  {
   "cell_type": "markdown",
   "metadata": {},
   "source": [
    "### GIS Configuration\n",
    "Parameter information [here](https://developers.arcgis.com/python/guide/using-the-gis/).\n",
    "* **template** - the ArcGIS Online organization that contains the default groups & items\n",
    "* **project** - the organization used by the AEC firm to work on the project\n",
    "* **delivery_orgs** - an array of organizations used to deliver project work to 3rd parties"
   ]
  },
  {
   "cell_type": "code",
   "execution_count": null,
   "metadata": {},
   "outputs": [],
   "source": [
    "# log in to respective portals\n",
    "template_pw = getpass(prompt=\"Template PW\")\n",
    "project_pw = getpass(prompt=\"Project PW\")\n",
    "delivery_pw_1 = getpass(prompt=\"Delivery PW\")\n",
    "\n",
    "template = GIS(\"<template GIS>\", \"<un>\", template_pw)\n",
    "project = GIS(\"<project GIS>\", \"<un>\", project_pw)\n",
    "delivery_orgs = [GIS(\"<delivery GIS>\", \"<un>\", delivery_pw_1)]"
   ]
  },
  {
   "cell_type": "markdown",
   "metadata": {},
   "source": [
    "### Clone Configuration\n",
    "Defines the groups that will be cloned and the naming structures of cloned items & groups"
   ]
  },
  {
   "cell_type": "code",
   "execution_count": null,
   "metadata": {
    "collapsed": true
   },
   "outputs": [],
   "source": [
    "# groups to be copied from template to project organization\n",
    "PROJECT_GROUPS = [\"<GROUP 1>\", \"<GROUP 2>\", \"<GROUP 3>\"]\n",
    "# groups to be copied from template to delivery organization\n",
    "DELIVERY_GROUPS = [\"<GROUP 4>\"]\n",
    "\n",
    "# new item name structure, {} replaced by item name\n",
    "NAME_STRUCTURE = \"<PROJECT NAME> {}\"\n",
    "# user folder for new items, as is creates string \"<PROJECT NAME> Content\"\n",
    "FOLDER = NAME_STRUCTURE.format(\"Content\")"
   ]
  },
  {
   "cell_type": "markdown",
   "metadata": {},
   "source": [
    "### Utility Functions\n",
    "**NOTE** if you are unable to import local files, **replace the following cell** with the code in [**clone_utils.py**](https://github.com/ArcGIS/aec-scripts/blob/master/utils/clone_utils.py)"
   ]
  },
  {
   "cell_type": "code",
   "execution_count": null,
   "metadata": {
    "collapsed": true
   },
   "outputs": [],
   "source": [
    "from utils.clone_utils import search_group_title, search_item_title, clone_items_modify"
   ]
  },
  {
   "cell_type": "markdown",
   "metadata": {},
   "source": [
    "## Execution"
   ]
  },
  {
   "cell_type": "markdown",
   "metadata": {},
   "source": [
    "### Modify Functions\n",
    "*functions to modify the title of the cloned items & groups*"
   ]
  },
  {
   "cell_type": "code",
   "execution_count": null,
   "metadata": {
    "collapsed": true
   },
   "outputs": [],
   "source": [
    "# update title functions\n",
    "def modify_item(item, target):\n",
    "    title = NAME_STRUCTURE.format(item.title)\n",
    "    while search_item_title(target, title):\n",
    "        title = input(\"Title `{0}` for ITEM `{1}` already exists \\n new title: \"\n",
    "                         .format(title, item.title))\n",
    "    return {\"title\": title}\n",
    "def modify_group(group, expected_title, target):\n",
    "    title = NAME_STRUCTURE.format(expected_title)\n",
    "    while search_group_title(target, title):\n",
    "        title = input(\"Title `{0}` for GROUP `{1}` already exists \\n new title: \"\n",
    "                         .format(title, expected_title))\n",
    "    return {\"title\": title}"
   ]
  },
  {
   "cell_type": "markdown",
   "metadata": {},
   "source": [
    "### Clone"
   ]
  },
  {
   "cell_type": "markdown",
   "metadata": {},
   "source": [
    "#### Project Groups"
   ]
  },
  {
   "cell_type": "code",
   "execution_count": null,
   "metadata": {
    "collapsed": true
   },
   "outputs": [],
   "source": [
    "# get project template groups\n",
    "template_project_groups = [search_group_title(template, title) for title in PROJECT_GROUPS]\n",
    "\n",
    "# print project template groups\n",
    "for group in template_project_groups:\n",
    "    display(group)"
   ]
  },
  {
   "cell_type": "code",
   "execution_count": null,
   "metadata": {
    "collapsed": true
   },
   "outputs": [],
   "source": [
    "# copy project groups to project org\n",
    "for group in template_project_groups:\n",
    "    clone_res = clone_items_modify(group, project,\n",
    "                                   modify_item_callback=modify_item,\n",
    "                                   modify_group_callback=modify_group,\n",
    "                                   copy_data=False, search_existing_items=False, folder=FOLDER)\n",
    "    display(clone_res)"
   ]
  },
  {
   "cell_type": "markdown",
   "metadata": {},
   "source": [
    "#### Delivery Groups"
   ]
  },
  {
   "cell_type": "code",
   "execution_count": null,
   "metadata": {
    "collapsed": true
   },
   "outputs": [],
   "source": [
    "# get delivery template groups\n",
    "template_delivery_groups = [search_group_title(template, title) for title in DELIVERY_GROUPS]\n",
    "\n",
    "# print delivery template groups\n",
    "for group in template_delivery_groups:\n",
    "    display(group)"
   ]
  },
  {
   "cell_type": "code",
   "execution_count": null,
   "metadata": {
    "collapsed": true
   },
   "outputs": [],
   "source": [
    "# copy delivery groups to delivery orgs\n",
    "for delivery in delivery_orgs:\n",
    "    for group in template_delivery_groups:\n",
    "        clone_res = clone_items_modify(group, delivery,\n",
    "                                       modify_item_callback=modify_item,\n",
    "                                       modify_group_callback=modify_group,\n",
    "                                       copy_data=False, search_existing_items=False, folder=FOLDER)\n",
    "        display(clone_res)"
   ]
  }
 ],
 "metadata": {
  "kernelspec": {
   "display_name": "Python 3",
   "language": "python",
   "name": "python3"
  },
  "language_info": {
   "codemirror_mode": {
    "name": "ipython",
    "version": 3
   },
   "file_extension": ".py",
   "mimetype": "text/x-python",
   "name": "python",
   "nbconvert_exporter": "python",
   "pygments_lexer": "ipython3",
   "version": "3.6.3"
  }
 },
 "nbformat": 4,
 "nbformat_minor": 2
}
