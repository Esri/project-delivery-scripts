{
 "cells": [
  {
   "cell_type": "markdown",
   "metadata": {},
   "source": [
    "# Setup Collaboration\n",
    "In this notebook, we establish a collaboration between an ArcGIS Online Organization and an ArcGIS Enterprise system, with the Online Organization as the host. There will be a group added to the collaboration in Enterprise, and another in AGOL. After the notebook has run, these groups will share data and items by copy (if possible) and by reference (if copy is not possible). Server Service items are the only things know that cannot be synced by copy and will have to be synced by reference. After the notebook has run, there will be a folder in each org's content that will have the same title as the collaboration title and will contain all the content from the other participant in the collaboration.\n",
    "\n",
    "\n",
    "## Getting Started:\n",
    "1. Ensure that there is a group set up that you will use for collaboration in both Online and Enterprise. These can be empty or have items in them and do not need to have the same name.\n",
    "2. Find the group IDs for the collaboration groups in ArcGIS Online and Enterprise. These can be found by navigating to the group page and looking in the URL (for example, if the URL is http://envisioning.maps.arcgis.com/home/group.html?id=a7903db4086641b98570bce5856a6364#overview, the group ID is \"a7903db4086641b98570bce5856a6364\".\n",
    "3. Ensure that \"Enable Sync\" is checked on each item's setting page in each group.\n",
    "4. Change the variables in cell 1. The Host and Guest accounts need to be admins. Example variables:\n",
    "    - HOST_URL = \"https://envisioning.maps.arcgis.com\"\n",
    "    - HOST_USERNAME = \"portaladmin\" \n",
    "    - GUEST_URL = \"https://pdoscriptdev.esri.com/portal\"\n",
    "    - GUEST_USERNAME = \"admin\"\n",
    "    - HOST_GROUP_ID = \"4d7ff4f81d6340428ef290b7de801204\"\n",
    "    - COLLAB_NAME = \"Enterprise and Online\"\n",
    "    - WORKSPACE_NAME = \"Sample Workspace\"\n",
    "    - DESCRIPTION = \"Data sharing sample between Enterprise and Online\"\n",
    "    - EXPIRATION = 24\n",
    "    - LOCAL_TMP_DIR = \"/Users/joesmith/Documents/tmp\" (Mac) or \"C:/Users/joesmith/Documents/tmp\" (Windows)\n",
    "5. Run the notebook cell by cell.\n",
    "    - In code cell 3, you will need to enter the passwords for the Host and Guest organizations when prompted.\n",
    "    - Code cells 4 and 10 will show the guest and host groups to be added to the collaboration - ensure they are correct.\n",
    "    - Code cell 13 will print the collaborations in the host and guest GIS. They should both show the COLLAB_NAME you specified.\n",
    "6. After running in order to make the content sync sooner than 24 hours, you need to open up the Enterprise Portal, go to Organization > Collaborations > click on the collaboration name > click on the gear icon under Action, and then click Edit Workspace. Click sync at scheduled intervals and set it to repeat as frequently as you'd like, so it will do the first sync whenever you specify. Make sure this dialog box also says Feature layers are sent as copies, not references. The workspace will say that sync failed, even if it has not tried to sync yet. After the first sync that you schedule manually has happened, you can check if the content sync has succeeded or failed. These steps will be automated in a future version of this script.\n",
    "\n",
    "## Troubleshooting: \n",
    "After the first scheduled sync, you can view the logs on the portal machine (if the portal url is \"https://pdoscriptdev.esri.com/portal\", go to \"https://pdoscriptdev.esri.com/portal/portaladmin/logs/\") to see if there were any errors with the sync (ex. layers that were not able to sync by copy). If any layers failed to sync by copy and are synced by reference instead, they will need to be unshared and reshared, after the issue is fixed. You can find more information about this in the [`Collaboration FAQs`](https://enterprise.arcgis.com/en/portal/latest/administer/windows/common-questions-for-distributed-collaboration.htm). If a feature layer syncs by copy, the feature layer will show as feature layer (hosted) for the guest, but if it syncs by reference, it will just show as a feature layer.\n"
   ]
  },
  {
   "cell_type": "code",
   "execution_count": null,
   "metadata": {},
   "outputs": [],
   "source": [
    "# Global Variables Set by User **change these values before running script**\n",
    "\n",
    "# host organization is the ArcGIS Online Org - needs to be admin account\n",
    "HOST_URL = \"https://ps-cc.maps.arcgis.com\"\n",
    "HOST_USERNAME = \"gbushong_PS_CC\"\n",
    "\n",
    "# guest organization is the Enterprise Portal - needs to be admin account\n",
    "GUEST_URL = \"https://amicaent.esri.com/portal\"\n",
    "GUEST_USERNAME = \"admin\"\n",
    "\n",
    "# this group in the host org contains items to share in the collaboration or is empty\n",
    "# this should be empty most of the time\n",
    "HOST_GROUP_ID = \"6fd586038d76406594d72ed2cb348e41\" #aec-test-group\n",
    "\n",
    "# this group in the guest org contains items to share in the collaboration or is empty\n",
    "GUEST_GROUP_ID = \"c14c069f2b9a4f72905c49e28373394d\" #aec-enterprise-group\n",
    "\n",
    "# this will be the name of the collaboration and the name of the folder created in enterprise\n",
    "COLLAB_NAME = \"Enterprise + Online\"\n",
    "\n",
    "# name of the workspace that the groups will be added to\n",
    "WORKSPACE_NAME = \"Enterprise Workspace\"\n",
    "\n",
    "# description for the collaboration and workspace\n",
    "DESCRIPTION = \"Data sharing sample between Enterprise and Online\"\n",
    "\n",
    "# host contact info\n",
    "HOST_FIRST = \"Joe\"\n",
    "HOST_LAST = \"Smith\"\n",
    "HOST_EMAIL = \"jsmith@sample.com\"\n",
    "\n",
    "# guest contact info\n",
    "GUEST_FIRST = \"Judy\"\n",
    "GUEST_LAST = \"Smith\"\n",
    "GUEST_EMAIL = \"jsmith1@sample.com\"\n",
    "\n",
    "# local folder to temporarily save invitation and response docs into\n",
    "LOCAL_TMP_DIR = \"/Users/grac9792/OneDrive - Esri/pdo-scripts\""
   ]
  },
  {
   "cell_type": "code",
   "execution_count": null,
   "metadata": {},
   "outputs": [],
   "source": [
    "# import libraries\n",
    "from arcgis.gis import GIS\n",
    "from arcgis.gis import Group\n",
    "from arcgis.gis.admin import Collaboration"
   ]
  },
  {
   "cell_type": "code",
   "execution_count": null,
   "metadata": {},
   "outputs": [],
   "source": [
    "# connect to host GIS, the new ArcGIS Online instance\n",
    "print(\"Connecting to {} with username {}...\".format(HOST_URL, HOST_USERNAME))\n",
    "host_gis = GIS(HOST_URL, HOST_USERNAME)\n",
    "\n",
    "# connect to guest GIS, the ArcGIS Enterprise instance\n",
    "print(\"Connecting to {} with username {}...\".format(GUEST_URL, GUEST_USERNAME))\n",
    "guest_gis = GIS(GUEST_URL, GUEST_USERNAME, verify_cert=False)"
   ]
  },
  {
   "cell_type": "code",
   "execution_count": null,
   "metadata": {},
   "outputs": [],
   "source": [
    "# search for sharing groups in host gis\n",
    "host_group = Group(host_gis, HOST_GROUP_ID)\n",
    "host_group"
   ]
  },
  {
   "cell_type": "code",
   "execution_count": null,
   "metadata": {},
   "outputs": [],
   "source": [
    "# create a collaboration\n",
    "host_collab = host_gis.admin.collaborations.create(name=COLLAB_NAME, description=DESCRIPTION,\n",
    "                                                  workspace_name=WORKSPACE_NAME,\n",
    "                                                  workspace_description=DESCRIPTION,\n",
    "                                                  portal_group_id=host_group.id,\n",
    "                                                  host_contact_first_name=HOST_FIRST,\n",
    "                                                  host_contact_last_name=HOST_LAST,\n",
    "                                                  host_contact_email_address=HOST_EMAIL,\n",
    "                                                  access_mode='sendAndReceive')\n",
    "\n",
    "collab_id = host_collab['id']\n",
    "host_collab"
   ]
  },
  {
   "cell_type": "code",
   "execution_count": null,
   "metadata": {},
   "outputs": [],
   "source": [
    "# set privileges for the new workspace in the new collaboration\n",
    "config = [{host_collab.workspaces[0]['id']:'sendAndReceive'}]\n",
    "\n",
    "# invite the guest GIS to the collaboration and download the invitation file\n",
    "invite_file = host_collab.invite_participant(config_json=config, expiration=24, \n",
    "                                             guest_portal_url=GUEST_URL,\n",
    "                                             save_path=LOCAL_TMP_DIR)\n",
    "\n",
    "# print the path to the invite file\n",
    "invite_file"
   ]
  },
  {
   "cell_type": "code",
   "execution_count": null,
   "metadata": {},
   "outputs": [],
   "source": [
    "# accept the invitation at the participant GIS\n",
    "guest_gis.admin.collaborations.accept_invitation(first_name=GUEST_FIRST, last_name=GUEST_LAST,\n",
    "                                                 email=GUEST_EMAIL,\n",
    "                                                 invitation_file=invite_file)"
   ]
  },
  {
   "cell_type": "code",
   "execution_count": null,
   "metadata": {},
   "outputs": [],
   "source": [
    "# get the correct guest collaboration based off shared collaboration id\n",
    "guest_collab = Collaboration(guest_gis.admin.collaborations, collab_id)\n",
    "type(guest_collab)"
   ]
  },
  {
   "cell_type": "code",
   "execution_count": null,
   "metadata": {},
   "outputs": [],
   "source": [
    "# now export a response file that can be sent back to the host GIS\n",
    "response_file = guest_collab.export_invitation(out_folder=LOCAL_TMP_DIR)\n",
    "response_file\n",
    "\n",
    "# accept the collaboration response at the host GIS\n",
    "host_collab.import_invitation_response(response_file)"
   ]
  },
  {
   "cell_type": "code",
   "execution_count": null,
   "metadata": {},
   "outputs": [],
   "source": [
    "# get guest portal id\n",
    "guest_portal_id = guest_collab.workspaces[0]['participantsWithoutGroupLinks'][0]['portalId']\n",
    "print(guest_portal_id)\n",
    "\n",
    "host_portal_id = guest_collab.workspaces[0]['participantGroupLinks'][0]['portalId']\n",
    "print(host_portal_id)\n",
    "\n",
    "# find the guest groups to add to collaboration workspace\n",
    "guest_group = Group(guest_gis, GUEST_GROUP_ID)\n",
    "guest_group"
   ]
  },
  {
   "cell_type": "code",
   "execution_count": null,
   "metadata": {},
   "outputs": [],
   "source": [
    "# join a group from the guest GIS to the collaboration\n",
    "guest_collab.add_group_to_workspace(portal_group=guest_group, workspace=guest_collab.workspaces[0])\n",
    "\n",
    "# get workspace ID\n",
    "workspace_id = guest_collab.workspaces[0]['id']\n",
    "\n",
    "# get portal ID\n",
    "host_portal_id = guest_collab['collaborationHostPortalId']\n",
    "host_portal_id"
   ]
  },
  {
   "cell_type": "code",
   "execution_count": null,
   "metadata": {},
   "outputs": [],
   "source": [
    "# verify the collaboration\n",
    "print(\"Collaborations on host GIS:\")\n",
    "for collab in host_gis.admin.collaborations.list():\n",
    "    print(collab.name)\n",
    "    \n",
    "print(\"-----------------------------\")\n",
    "print(\"Collaborations on guest GIS:\")\n",
    "for collab in guest_gis.admin.collaborations.list():\n",
    "    print(collab.name)"
   ]
  },
  {
   "cell_type": "code",
   "execution_count": null,
   "metadata": {},
   "outputs": [],
   "source": []
  }
 ],
 "metadata": {
  "kernelspec": {
   "display_name": "Python 3",
   "language": "python",
   "name": "python3"
  },
  "language_info": {
   "codemirror_mode": {
    "name": "ipython",
    "version": 3
   },
   "file_extension": ".py",
   "mimetype": "text/x-python",
   "name": "python",
   "nbconvert_exporter": "python",
   "pygments_lexer": "ipython3",
   "version": "3.7.10"
  }
 },
 "nbformat": 4,
 "nbformat_minor": 4
}
