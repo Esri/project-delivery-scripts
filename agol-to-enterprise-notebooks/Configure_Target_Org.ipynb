{
 "cells": [
  {
   "cell_type": "markdown",
   "metadata": {},
   "source": [
    "# Configure Target Org\n",
    "\n",
    "In this notebook, the target organization's User Interface will be customized with banner, boackground, thumbnail images, a description, a footer, and a featured group shown on the homepage. \n",
    "\n",
    "## Getting Started\n",
    "1. Create a config file directory. Inside the config folder put all png and txt files that will be used to customize your target organization. We will include the following files.\n",
    "    - Organization background image\n",
    "    - Organization banner image\n",
    "    - Organization thumbnail image\n",
    "    - Organization description text file\n",
    "    - Organization footer text file\n",
    "2. Change the variables in code cell 1. Example variables:\n",
    "    - TARGET_URL = \"https://esrienergy.maps.arcgis.com\"\n",
    "    - TARGET_USERNAME = \"portaladmin\"\n",
    "    - FOLDER = \"/my/config/dir/Sample_Config\" \n",
    "    - FEATURED_GROUP_ID = \"4f4fcac023dc430294cea226231ab448\"\n",
    "    - THUMBNAIL_FILENAME = \"thumbnail.png\"\n",
    "    - FOOTER_FILENAME = \"footer.txt\"\n",
    "    - BACKGROUND_FILENAME = \"background.png\"\n",
    "    - BANNER_FILENAME = \"banner.png\"\n",
    "    - DESCRIPTION_FILENAME = \"description.txt\"\n",
    "3. Run the notebook cell by cell.\n",
    "    - In code cell 4, you will need to enter the passwords for the project and delivery organizations when prompted\n",
    "4. After running the notebook you will have a customized target organization. "
   ]
  },
  {
   "cell_type": "code",
   "execution_count": null,
   "metadata": {},
   "outputs": [],
   "source": [
    "# Global Variables Set by User **change these values before running script**\n",
    "\n",
    "# URL of the portal that will be customized and have users added\n",
    "TARGET_URL = \"https://my-target-enterprise.maps.arcgis.com\"\n",
    "\n",
    "# Delivery username for log-on (needs to be admin)\n",
    "TARGET_USERNAME = \"my-target-login\"\n",
    "\n",
    "# delivery org UX Component locations - local full path\n",
    "FOLDER = \"/my/config/dir/Sample_Config\" \n",
    "\n",
    "# featured group to display on delivery home page\n",
    "FEATURED_GROUP_ID = \"3ed4d38dc942410ab294f65f459c2c33\"\n",
    "\n",
    "# filenames of UI components and user file, which are located in FOLDER\n",
    "THUMBNAIL_FILENAME = \"thumbnail.png\"\n",
    "FOOTER_FILENAME = \"footer.txt\"\n",
    "BACKGROUND_FILENAME = \"background.png\"\n",
    "BANNER_FILENAME = \"banner.png\"\n",
    "DESCRIPTION_FILENAME = \"description.txt\"\n",
    "USERS_FILENAME = \"users.csv\""
   ]
  },
  {
   "cell_type": "code",
   "execution_count": null,
   "metadata": {},
   "outputs": [],
   "source": [
    "# import libraries\n",
    "from arcgis.gis import GIS\n",
    "from arcgis.gis import Group\n",
    "from arcgis.gis import UserManager\n",
    "import os\n",
    "import csv"
   ]
  },
  {
   "cell_type": "code",
   "execution_count": null,
   "metadata": {},
   "outputs": [],
   "source": [
    "# get UI component filepaths\n",
    "THUMBNAIL = os.path.join(FOLDER, THUMBNAIL_FILENAME)\n",
    "FOOTER = os.path.join(FOLDER, FOOTER_FILENAME)\n",
    "BACKGROUND = os.path.join(FOLDER, BACKGROUND_FILENAME)\n",
    "BANNER = os.path.join(FOLDER, BANNER_FILENAME)\n",
    "DESCRIPTION = os.path.join(FOLDER, DESCRIPTION_FILENAME)"
   ]
  },
  {
   "cell_type": "code",
   "execution_count": null,
   "metadata": {},
   "outputs": [],
   "source": [
    "# connect to delivery orgs\n",
    "\n",
    "print(\"Connecting to {} with username {}...\".format(TARGET_URL, TARGET_USERNAME))\n",
    "delivery = GIS(TARGET_URL, TARGET_USERNAME)"
   ]
  },
  {
   "cell_type": "code",
   "execution_count": null,
   "metadata": {},
   "outputs": [],
   "source": [
    "# customize UI by setting background, banner, logo, etc.\n",
    "ux = delivery.admin.ux\n",
    "ux.set_background(BACKGROUND)\n",
    "ux.set_banner(BANNER)\n",
    "ux.set_logo(THUMBNAIL)\n",
    "\n",
    "# read description text file and set portal description\n",
    "with open(DESCRIPTION, 'r') as f:\n",
    "    description = f.read()\n",
    "    ux.description = description\n",
    "    \n",
    "# find and set featured group\n",
    "if FEATURED_GROUP_ID:\n",
    "    featured_group = Group(delivery, FEATURED_GROUP_ID)\n",
    "    ux.featured_content = {'group': featured_group}"
   ]
  }
 ],
 "metadata": {
  "kernelspec": {
   "display_name": "Python 3",
   "language": "python",
   "name": "python3"
  },
  "language_info": {
   "codemirror_mode": {
    "name": "ipython",
    "version": 3
   },
   "file_extension": ".py",
   "mimetype": "text/x-python",
   "name": "python",
   "nbconvert_exporter": "python",
   "pygments_lexer": "ipython3",
   "version": "3.7.10"
  }
 },
 "nbformat": 4,
 "nbformat_minor": 4
}
