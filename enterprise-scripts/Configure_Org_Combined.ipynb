{
 "cells": [
  {
   "cell_type": "code",
   "execution_count": 2,
   "metadata": {},
   "outputs": [],
   "source": [
    "# import libraries\n",
    "from arcgis.gis import GIS\n",
    "import os\n",
    "\n",
    "# Global Variables Set by User\n",
    "PROJECT_URL = \"https://envisioning.maps.arcgis.com\"\n",
    "PROJECT_USERNAME = \"GBushongENV\"\n",
    "DELIVERY_URL = \"https://esrienergy.maps.arcgis.com\"\n",
    "DELIVERY_USERNAME = \"PDOAdmin\"\n",
    "GROUPS = [] # delivery groups to share with *ALL* users\n",
    "FEATURED_GROUP = \"aec-test-group-2\" # featured group to display on delivery home page\n",
    "FOLDER = \"/Users/grac9792/Downloads/Sample_Config\" # delivery org UX Component locations - local full path\n",
    "\n",
    "# paths to UI pictures and user file\n",
    "THUMBNAIL = os.path.join(FOLDER, \"png-thumbnail-2.png\")\n",
    "FOOTER = os.path.join(FOLDER, \"footer.txt\")\n",
    "BACKGROUND = os.path.join(FOLDER, \"background.png\")\n",
    "BANNER = os.path.join(FOLDER, \"banner.jpg\")\n",
    "DESCRIPTION = os.path.join(FOLDER, \"description.txt\")\n",
    "USERS = os.path.join(FOLDER, \"users.csv\") # include instructions on what this file should look like\n",
    "\n",
    "# message that will be sent to all users when they receive the invitations to join the group\n",
    "MESSAGE = \"You are invited to join a group!\""
   ]
  },
  {
   "cell_type": "code",
   "execution_count": 3,
   "metadata": {},
   "outputs": [
    {
     "name": "stdout",
     "output_type": "stream",
     "text": [
      "Enter password: ········\n",
      "Enter password: ········\n"
     ]
    }
   ],
   "source": [
    "# delivery org to be customized\n",
    "project = GIS(PROJECT_URL, PROJECT_USERNAME)\n",
    "delivery = GIS(DELIVERY_URL, DELIVERY_USERNAME)"
   ]
  },
  {
   "cell_type": "code",
   "execution_count": 4,
   "metadata": {},
   "outputs": [],
   "source": [
    "# code from user_utils.py\n",
    "\"\"\"utility functions to assist with adding users\"\"\"\n",
    "import csv\n",
    "from arcgis.gis import UserManager\n",
    "\n",
    "USER_FIELDS = [\"username\", \"password\", \"firstname\", \"lastname\", \"email\", \"role\", \"groups\", \"level\"\n",
    "              \"description\", \"provider\", \"idp_username\"]\n",
    "\n",
    "def optional_args_handler(key, user, default=None):\n",
    "    var = None\n",
    "    if key in user:\n",
    "        var = user[key]\n",
    "    else:\n",
    "        if default: var = default\n",
    "    return var\n",
    "\n",
    "def add_user(user, origin, target, groups=None):\n",
    "    \"\"\"Add user to the gis\n",
    "    * Abstraction for creating from dict such as with csv\n",
    "    * Handles moving to groups\n",
    "\n",
    "    args:\n",
    "    user -- a dictionary containing user fields, see fields:\n",
    "        http://esri.github.io/arcgis-python-api/apidoc/html/arcgis.gis.toc.html#arcgis.gis.UserManager.create\n",
    "    origin -- the org that the groups for the user to be added to exist\n",
    "    target -- gis object where users are added\n",
    "    groups -- (optional) destination groups, compliments those in dict (default [])\n",
    "    field_map -- (optional) change keys from defaults in USER_FIELDS to those in dict\n",
    "    \"\"\"\n",
    "\n",
    "    # set defaults\n",
    "    groups = groups if groups else []\n",
    "\n",
    "    try:\n",
    "        print(\"INFO: Creating user {}\".format(user[\"username\"]))\n",
    "        desc = optional_args_handler('description', user)\n",
    "        thumbnail = optional_args_handler('thumbnail', user)\n",
    "        role = optional_args_handler('role', user, 'org_user') # default is org_user\n",
    "        provider = optional_args_handler('provider', user, 'arcgis') # default is 'arcgis'\n",
    "        idp = optional_args_handler('idp_username', user)\n",
    "        level = optional_args_handler('level', user, '2') # default is 2\n",
    "        \n",
    "        if role not in ['org_user', 'org_publisher', 'org_admin', 'org_viewer']:\n",
    "            role = 'org_user'\n",
    "                        \n",
    "        # create array of groups for user\n",
    "        group_str = user.pop('groups', None)\n",
    "        if group_str:\n",
    "            group_list = group_str.split(\",\")\n",
    "            for g in group_list:\n",
    "                group_search = origin.groups.search(g)\n",
    "                if group_search:\n",
    "                    groups.append(group_search[0])\n",
    "        print(groups)\n",
    "        \n",
    "        result = target.users.create(username=user['username'], password=user['password'], firstname=user['firstname'], \n",
    "                                  lastname=user['lastname'], email=user['email'], description=desc,\n",
    "                                  role=role, provider=provider, idp_username=idp, level=level, thumbnail=thumbnail)\n",
    "\n",
    "        # create users returns None if it was unsuccessful which is very unhelpful!!\n",
    "        if not result:\n",
    "            print(\"Did not create user: Check username {}\".format(user['username']))\n",
    "            return\n",
    "\n",
    "        # Add user to groups\n",
    "        print(\"adding to groups\")\n",
    "        for g in groups:\n",
    "            try:\n",
    "                res = g.invite_by_email(user['email'], '{} {},\\n{}}'.format(user['firstname'], user['lastname'], MESSAGE))\n",
    "                print(res)\n",
    "            except Exception as e:\n",
    "                print(\"ERR: Could not add user {} to group {}: {}\".format(user['username'], g, e))\n",
    "        return result\n",
    "\n",
    "    except Exception as e:\n",
    "        print(\"ERR: Could not create user {}: {}\".format(user['username'], e))\n",
    "\n",
    "def add_users_csv(csv_file, origin, target, groups=None):\n",
    "    \"\"\"Add users from csv to gis\n",
    "    * Convenient abstraction for csvs\n",
    "\n",
    "    args:\n",
    "    csv_file -- path to csv with users to create\n",
    "    gis -- gis object where users are added\n",
    "    groups -- (optional) destination groups, compliments those in csv (default [])\n",
    "    field_map -- (optional) change keys from defaults in USER_FIELDS to those in csv, see fields:\n",
    "    http://esri.github.io/arcgis-python-api/apidoc/html/arcgis.gis.toc.html#arcgis.gis.UserManager.create\n",
    "    \"\"\"\n",
    "    results = []\n",
    "    with open(csv_file, 'r') as users_csv:\n",
    "        users = csv.DictReader(users_csv)\n",
    "        for user in users:\n",
    "            result = add_user(user, origin, target, groups=groups)\n",
    "            results.append(result)\n",
    "    return results"
   ]
  },
  {
   "cell_type": "code",
   "execution_count": 5,
   "metadata": {},
   "outputs": [
    {
     "name": "stdout",
     "output_type": "stream",
     "text": [
      "INFO: Creating user ljccstudent1\n",
      "[<Group title:\"aec-test-group\" owner:GBushongENV>]\n"
     ]
    },
    {
     "name": "stderr",
     "output_type": "stream",
     "text": [
      "Unable to create ljccstudent1\n"
     ]
    },
    {
     "name": "stdout",
     "output_type": "stream",
     "text": [
      "Unable to create ljccstudent1\n",
      "Did not create user: Check username ljccstudent1\n",
      "INFO: Creating user ljccstudent2\n",
      "[<Group title:\"aec-test-group\" owner:GBushongENV>, <Group title:\"aec-test-group-2\" owner:GBushongENV>]\n"
     ]
    },
    {
     "name": "stderr",
     "output_type": "stream",
     "text": [
      "Unable to create ljccstudent2\n"
     ]
    },
    {
     "name": "stdout",
     "output_type": "stream",
     "text": [
      "Unable to create ljccstudent2\n",
      "Did not create user: Check username ljccstudent2\n",
      "INFO: Creating user ljccstudent3\n",
      "[<Group title:\"aec-test-group-2\" owner:GBushongENV>]\n"
     ]
    },
    {
     "name": "stderr",
     "output_type": "stream",
     "text": [
      "Unable to create ljccstudent3\n"
     ]
    },
    {
     "name": "stdout",
     "output_type": "stream",
     "text": [
      "Unable to create ljccstudent3\n",
      "Did not create user: Check username ljccstudent3\n",
      "INFO: Creating user ljccstudent4\n",
      "[<Group title:\"aec-test-group\" owner:GBushongENV>, <Group title:\"aec-test-group-2\" owner:GBushongENV>]\n"
     ]
    },
    {
     "name": "stderr",
     "output_type": "stream",
     "text": [
      "Unable to create ljccstudent4\n"
     ]
    },
    {
     "name": "stdout",
     "output_type": "stream",
     "text": [
      "Unable to create ljccstudent4\n",
      "Did not create user: Check username ljccstudent4\n"
     ]
    },
    {
     "data": {
      "text/plain": [
       "[None, None, None, None]"
      ]
     },
     "execution_count": 5,
     "metadata": {},
     "output_type": "execute_result"
    }
   ],
   "source": [
    "#fetch groups where *ALL* users will be added\n",
    "share_groups = [gis.groups.search(g)[0] for g in GROUPS]\n",
    "\n",
    "# add users to the delivery org and invite them to groups in project org\n",
    "add_users_csv(USERS, project, delivery, groups=share_groups)"
   ]
  },
  {
   "cell_type": "code",
   "execution_count": 7,
   "metadata": {},
   "outputs": [],
   "source": [
    "# customize UI -- this code works, don't run it again\n",
    "ux = delivery.admin.ux\n",
    "ux.set_background(BACKGROUND)\n",
    "ux.set_banner(BANNER)\n",
    "ux.set_logo(THUMBNAIL)\n",
    "\n",
    "# read description text file and set value\n",
    "with open(DESCRIPTION, 'r') as f:\n",
    "    description = f.read()\n",
    "    ux.description = description\n",
    "    \n",
    "# find and set featured group\n",
    "featured_group = delivery.groups.search(FEATURED_GROUP)[0]\n",
    "ux.featured_content = {'group': featured_group}"
   ]
  },
  {
   "cell_type": "code",
   "execution_count": null,
   "metadata": {},
   "outputs": [],
   "source": []
  }
 ],
 "metadata": {
  "kernelspec": {
   "display_name": "Python 3",
   "language": "python",
   "name": "python3"
  },
  "language_info": {
   "codemirror_mode": {
    "name": "ipython",
    "version": 3
   },
   "file_extension": ".py",
   "mimetype": "text/x-python",
   "name": "python",
   "nbconvert_exporter": "python",
   "pygments_lexer": "ipython3",
   "version": "3.7.1"
  }
 },
 "nbformat": 4,
 "nbformat_minor": 2
}
