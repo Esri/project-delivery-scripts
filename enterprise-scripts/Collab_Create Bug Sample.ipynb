{
 "cells": [
  {
   "cell_type": "code",
   "execution_count": 1,
   "metadata": {},
   "outputs": [],
   "source": [
    "# host organization is the ArcGIS Online Org\n",
    "HOST_URL = \"https://envisioning.maps.arcgis.com\"\n",
    "HOST_USERNAME = \"GBushongENV\"\n",
    "\n",
    "# this group in the host org contains items to share or is empty\n",
    "HOST_GROUP_ID = \"4d7ff4f81d6340428ef290b7de801204\"\n",
    "\n",
    "# this will be the name of the collaboration and the name of the folder created in enterprise\n",
    "COLLAB_NAME = \"Enterprise + Online\"\n",
    "\n",
    "# name of the workspace that the groups will be added to\n",
    "WORKSPACE_NAME = \"Enterprise Workspace\"\n",
    "\n",
    "# description for the collaboration and workspace\n",
    "DESCRIPTION = \"Data sharing sample between Enterprise and Online\"\n",
    "\n",
    "# host contact info\n",
    "FIRST_NAME = \"Grace\"\n",
    "LAST_NAME = \"Bushong\"\n",
    "EMAIL = \"gbushong@esri.com\""
   ]
  },
  {
   "cell_type": "code",
   "execution_count": 2,
   "metadata": {},
   "outputs": [],
   "source": [
    "# import libraries\n",
    "from arcgis.gis import GIS\n",
    "from arcgis.gis import Group\n",
    "from arcgis.gis.admin import Collaboration"
   ]
  },
  {
   "cell_type": "code",
   "execution_count": 3,
   "metadata": {},
   "outputs": [
    {
     "name": "stdout",
     "output_type": "stream",
     "text": [
      "Connecting to https://envisioning.maps.arcgis.com with username GBushongENV...\n",
      "Enter password: ········\n"
     ]
    },
    {
     "data": {
      "text/html": [
       "<div class=\"9item_container\" style=\"height: auto; overflow: hidden; border: 1px solid #cfcfcf; border-radius: 2px; background: #f6fafa; line-height: 1.21429em; padding: 10px;\">\n",
       "                    <div class=\"item_left\" style=\"width: 210px; float: left;\">\n",
       "                       <a href='https://Envisioning.maps.arcgis.com/home/group.html?id=4d7ff4f81d6340428ef290b7de801204' target='_blank'>\n",
       "                        <img src='https://Envisioning.maps.arcgis.com/home/images/group-no-image.png' class=\"itemThumbnail\">\n",
       "                       </a>\n",
       "                    </div>\n",
       "\n",
       "                    <div class=\"item_right\" style=\"float: none; width: auto; overflow: hidden;\">\n",
       "                        <a href='https://Envisioning.maps.arcgis.com/home/group.html?id=4d7ff4f81d6340428ef290b7de801204' target='_blank'><b>aec-test-group</b>\n",
       "                        </a>\n",
       "                        <br/>\n",
       "                        <br/><b>Summary</b>: To be used for testing aec scripts\n",
       "                        <br/><b>Description</b>: None\n",
       "                        <br/><b>Owner</b>: GBushongENV\n",
       "                        <br/><b>Created</b>: November 27, 2018\n",
       "\n",
       "                    </div>\n",
       "                </div>\n",
       "                "
      ],
      "text/plain": [
       "<Group title:\"aec-test-group\" owner:GBushongENV>"
      ]
     },
     "execution_count": 3,
     "metadata": {},
     "output_type": "execute_result"
    }
   ],
   "source": [
    "# connect to host GIS, the new ArcGIS Online instance\n",
    "print(\"Connecting to {} with username {}...\".format(HOST_URL, HOST_USERNAME))\n",
    "host_gis = GIS(HOST_URL, HOST_USERNAME)\n",
    "\n",
    "# search for sharing groups in host gis\n",
    "host_group = Group(host_gis, HOST_GROUP_ID)\n",
    "host_group"
   ]
  },
  {
   "cell_type": "code",
   "execution_count": 4,
   "metadata": {},
   "outputs": [
    {
     "name": "stderr",
     "output_type": "stream",
     "text": [
      "Unable to create collaboration\n",
      "Configuration must be a valid JSON object.\n"
     ]
    },
    {
     "ename": "RuntimeError",
     "evalue": "Unable to create collaboration\nConfiguration must be a valid JSON object.\n(Error Code: 400)",
     "output_type": "error",
     "traceback": [
      "\u001b[0;31m---------------------------------------------------------------------------\u001b[0m",
      "\u001b[0;31mRuntimeError\u001b[0m                              Traceback (most recent call last)",
      "\u001b[0;32m<ipython-input-4-295c54671912>\u001b[0m in \u001b[0;36m<module>\u001b[0;34m\u001b[0m\n\u001b[1;32m      7\u001b[0m                                                   \u001b[0mhost_contact_last_name\u001b[0m\u001b[0;34m=\u001b[0m\u001b[0mLAST_NAME\u001b[0m\u001b[0;34m,\u001b[0m\u001b[0;34m\u001b[0m\u001b[0;34m\u001b[0m\u001b[0m\n\u001b[1;32m      8\u001b[0m                                                   \u001b[0mhost_contact_email_address\u001b[0m\u001b[0;34m=\u001b[0m\u001b[0mEMAIL\u001b[0m\u001b[0;34m,\u001b[0m\u001b[0;34m\u001b[0m\u001b[0;34m\u001b[0m\u001b[0m\n\u001b[0;32m----> 9\u001b[0;31m                                                   access_mode='sendAndReceive')\n\u001b[0m",
      "\u001b[0;32m~/geosaurus/src/arcgis/gis/admin/_collaboration.py\u001b[0m in \u001b[0;36mcreate\u001b[0;34m(self, name, description, workspace_name, workspace_description, portal_group_id, host_contact_first_name, host_contact_last_name, host_contact_email_address, access_mode)\u001b[0m\n\u001b[1;32m    103\u001b[0m \u001b[0;34m\u001b[0m\u001b[0m\n\u001b[1;32m    104\u001b[0m         \u001b[0mdata_path\u001b[0m \u001b[0;34m=\u001b[0m \u001b[0;34m\"%s/createCollaboration\"\u001b[0m \u001b[0;34m%\u001b[0m \u001b[0mself\u001b[0m\u001b[0;34m.\u001b[0m\u001b[0m_basepath\u001b[0m\u001b[0;34m\u001b[0m\u001b[0;34m\u001b[0m\u001b[0m\n\u001b[0;32m--> 105\u001b[0;31m         \u001b[0mres\u001b[0m \u001b[0;34m=\u001b[0m \u001b[0mself\u001b[0m\u001b[0;34m.\u001b[0m\u001b[0m_portal\u001b[0m\u001b[0;34m.\u001b[0m\u001b[0mcon\u001b[0m\u001b[0;34m.\u001b[0m\u001b[0mpost\u001b[0m\u001b[0;34m(\u001b[0m\u001b[0mdata_path\u001b[0m\u001b[0;34m,\u001b[0m \u001b[0mparams\u001b[0m\u001b[0;34m)\u001b[0m\u001b[0;34m\u001b[0m\u001b[0;34m\u001b[0m\u001b[0m\n\u001b[0m\u001b[1;32m    106\u001b[0m         \u001b[0;32mif\u001b[0m \u001b[0;34m'collaboration'\u001b[0m \u001b[0;32min\u001b[0m \u001b[0mres\u001b[0m \u001b[0;32mand\u001b[0m\u001b[0;31m \u001b[0m\u001b[0;31m\\\u001b[0m\u001b[0;34m\u001b[0m\u001b[0;34m\u001b[0m\u001b[0m\n\u001b[1;32m    107\u001b[0m            \u001b[0;34m'id'\u001b[0m \u001b[0;32min\u001b[0m \u001b[0mres\u001b[0m\u001b[0;34m[\u001b[0m\u001b[0;34m'collaboration'\u001b[0m\u001b[0;34m]\u001b[0m\u001b[0;34m:\u001b[0m\u001b[0;34m\u001b[0m\u001b[0;34m\u001b[0m\u001b[0m\n",
      "\u001b[0;32m~/geosaurus/src/arcgis/_impl/connection.py\u001b[0m in \u001b[0;36mpost\u001b[0;34m(self, path, postdata, files, ssl, compress, is_retry, use_ordered_dict, add_token, verify_cert, token, try_json, out_folder, file_name, force_bytes, add_headers)\u001b[0m\n\u001b[1;32m   1157\u001b[0m                                          verify_cert=verify_cert, is_retry=True)\n\u001b[1;32m   1158\u001b[0m \u001b[0;34m\u001b[0m\u001b[0m\n\u001b[0;32m-> 1159\u001b[0;31m                 \u001b[0mself\u001b[0m\u001b[0;34m.\u001b[0m\u001b[0m_handle_json_error\u001b[0m\u001b[0;34m(\u001b[0m\u001b[0mresp_json\u001b[0m\u001b[0;34m[\u001b[0m\u001b[0;34m'error'\u001b[0m\u001b[0;34m]\u001b[0m\u001b[0;34m,\u001b[0m \u001b[0merrorcode\u001b[0m\u001b[0;34m)\u001b[0m\u001b[0;34m\u001b[0m\u001b[0;34m\u001b[0m\u001b[0m\n\u001b[0m\u001b[1;32m   1160\u001b[0m                 \u001b[0;32mreturn\u001b[0m \u001b[0;32mNone\u001b[0m\u001b[0;34m\u001b[0m\u001b[0;34m\u001b[0m\u001b[0m\n\u001b[1;32m   1161\u001b[0m \u001b[0;34m\u001b[0m\u001b[0m\n",
      "\u001b[0;32m~/geosaurus/src/arcgis/_impl/connection.py\u001b[0m in \u001b[0;36m_handle_json_error\u001b[0;34m(self, error, errorcode)\u001b[0m\n\u001b[1;32m   1178\u001b[0m \u001b[0;34m\u001b[0m\u001b[0m\n\u001b[1;32m   1179\u001b[0m         \u001b[0merrormessage\u001b[0m \u001b[0;34m=\u001b[0m \u001b[0merrormessage\u001b[0m \u001b[0;34m+\u001b[0m \u001b[0;34m\"\\n(Error Code: \"\u001b[0m \u001b[0;34m+\u001b[0m \u001b[0mstr\u001b[0m\u001b[0;34m(\u001b[0m\u001b[0merrorcode\u001b[0m\u001b[0;34m)\u001b[0m \u001b[0;34m+\u001b[0m\u001b[0;34m\")\"\u001b[0m\u001b[0;34m\u001b[0m\u001b[0;34m\u001b[0m\u001b[0m\n\u001b[0;32m-> 1180\u001b[0;31m         \u001b[0;32mraise\u001b[0m \u001b[0mRuntimeError\u001b[0m\u001b[0;34m(\u001b[0m\u001b[0merrormessage\u001b[0m\u001b[0;34m)\u001b[0m\u001b[0;34m\u001b[0m\u001b[0;34m\u001b[0m\u001b[0m\n\u001b[0m\u001b[1;32m   1181\u001b[0m \u001b[0;34m\u001b[0m\u001b[0m\n\u001b[1;32m   1182\u001b[0m \u001b[0;32mclass\u001b[0m \u001b[0m_StrictURLopener\u001b[0m\u001b[0;34m(\u001b[0m\u001b[0mrequest\u001b[0m\u001b[0;34m.\u001b[0m\u001b[0mFancyURLopener\u001b[0m\u001b[0;34m)\u001b[0m\u001b[0;34m:\u001b[0m\u001b[0;34m\u001b[0m\u001b[0;34m\u001b[0m\u001b[0m\n",
      "\u001b[0;31mRuntimeError\u001b[0m: Unable to create collaboration\nConfiguration must be a valid JSON object.\n(Error Code: 400)"
     ]
    }
   ],
   "source": [
    "# create a collaboration\n",
    "host_collab = host_gis.admin.collaborations.create(name=COLLAB_NAME, description=DESCRIPTION,\n",
    "                                                  workspace_name=WORKSPACE_NAME,\n",
    "                                                  workspace_description=DESCRIPTION,\n",
    "                                                  portal_group_id=host_group.id,\n",
    "                                                  host_contact_first_name=FIRST_NAME,\n",
    "                                                  host_contact_last_name=LAST_NAME,\n",
    "                                                  host_contact_email_address=EMAIL,\n",
    "                                                  access_mode='sendAndReceive')"
   ]
  },
  {
   "cell_type": "code",
   "execution_count": null,
   "metadata": {},
   "outputs": [],
   "source": []
  }
 ],
 "metadata": {
  "kernelspec": {
   "display_name": "Python 3",
   "language": "python",
   "name": "python3"
  },
  "language_info": {
   "codemirror_mode": {
    "name": "ipython",
    "version": 3
   },
   "file_extension": ".py",
   "mimetype": "text/x-python",
   "name": "python",
   "nbconvert_exporter": "python",
   "pygments_lexer": "ipython3",
   "version": "3.6.8"
  }
 },
 "nbformat": 4,
 "nbformat_minor": 2
}
