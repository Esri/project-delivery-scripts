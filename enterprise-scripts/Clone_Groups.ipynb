{
 "cells": [
  {
   "cell_type": "code",
   "execution_count": 1,
   "metadata": {},
   "outputs": [],
   "source": [
    "# Global Variables set by user **change these values before running**\n",
    "\n",
    "# URL of the portal with the template content\n",
    "SOURCE_PORTAL = \"https://my-online.maps.arcgis.com\"\n",
    "\n",
    "# username for project portal log-on (admin)\n",
    "SOURCE_USERNAME = \"gbushong_PS_CC\"\n",
    "\n",
    "# template content groups that will be shared with delivery org\n",
    "SOURCE_GROUP_IDS = [\"6fd586038d76406594d72ed2cb348e41\"]\n",
    "\n",
    "# the word that will be appended to the front to distinguish these copies of the template items and groups\n",
    "COPY_PREFIX = \"Louisville\""
   ]
  },
  {
   "cell_type": "code",
   "execution_count": 2,
   "metadata": {},
   "outputs": [],
   "source": [
    "# import libraries\n",
    "from arcgis.gis import GIS\n",
    "from IPython.display import display\n",
    "from arcgis.gis import Group\n",
    "from arcgis.gis import Item\n",
    "import tempfile"
   ]
  },
  {
   "cell_type": "code",
   "execution_count": 3,
   "metadata": {},
   "outputs": [
    {
     "name": "stdout",
     "output_type": "stream",
     "text": [
      "Connecting to https://ps-cc.maps.arcgis.com with username gbushong_PS_CC...\n",
      "Enter password: ········\n"
     ]
    }
   ],
   "source": [
    "# connection to Project organization and setting naming conventions\n",
    "print(\"Connecting to {} with username {}...\".format(SOURCE_PORTAL, SOURCE_USERNAME))\n",
    "project = GIS(SOURCE_PORTAL, SOURCE_USERNAME)\n",
    "\n",
    "FOLDER_SUFFIX = \"Content\"\n",
    "GROUP_NAME_STRUCTURE = COPY_PREFIX + \"-{}\"\n",
    "NAME_STRUCTURE = COPY_PREFIX + \" {}\"\n",
    "FOLDER = NAME_STRUCTURE.format(FOLDER_SUFFIX)"
   ]
  },
  {
   "cell_type": "code",
   "execution_count": 4,
   "metadata": {},
   "outputs": [],
   "source": [
    "# Creation of functions to be used later\n",
    "def search_by_title(target, title, obj_type):\n",
    "    \"\"\"search org for an existing item with title\n",
    "    args:\n",
    "    target -- target GIS to search\n",
    "    title -- item or group to search\n",
    "    obj_type -- can be \"item\" or \"group\"\n",
    "    \"\"\"\n",
    "    try:\n",
    "        if(obj_type == \"group\"):\n",
    "            s_items = target.groups.search(title)\n",
    "        elif(obj_type == \"item\"):\n",
    "            s_items = target.content.search(query='title:{}'.format(title))\n",
    "        for s_item in s_items:\n",
    "            if s_item.title == title:\n",
    "                return s_item\n",
    "        return None\n",
    "    except Exception as e:\n",
    "        print(\"Search by title failed with args {}, {} and {}: {}\".format(target, title, obj_type, e))\n",
    "\n",
    "def modify_item(item, target):\n",
    "    \"\"\"Rename cloned items\"\"\"\n",
    "    try:\n",
    "        title = NAME_STRUCTURE.format(item.title)\n",
    "        while search_by_title(target, title, \"item\"):\n",
    "            title = input(\"Title `{0}` for ITEM `{1}` already exists \\nNew title: \".format(title, item.title))\n",
    "        return {\"title\": title}\n",
    "    except Exception as e:\n",
    "        print(\"Modify Item failed with args {} and {}: {}\".format(item, target, e))\n",
    "\n",
    "def modify_group(expected_title, target):\n",
    "    \"\"\"Rename cloned groups\"\"\"\n",
    "    try:\n",
    "        title = GROUP_NAME_STRUCTURE.format(expected_title)\n",
    "        while search_by_title(target, title, \"group\"):\n",
    "            title = input(\"Title `{0}` for GROUP `{1}` already exists \\nNew title: \".format(title, expected_title))\n",
    "        return title\n",
    "    except Exception as e:\n",
    "        print(\"Modify Group failed with args {} and {}: {}\".format(expected_title, target, e))\n",
    "\n",
    "def clone_group_modify(group, target):\n",
    "    \"\"\"Clone group and call renaming function\"\"\"\n",
    "    try:\n",
    "        new_group_title = modify_group(group.title, target)\n",
    "        with tempfile.TemporaryDirectory() as temp_dir:\n",
    "            thumbnail_file = group.download_thumbnail(temp_dir)\n",
    "            target_group = target.groups.create(title=new_group_title, tags=group.tags,\n",
    "                                                description=group.description, snippet=group.snippet,\n",
    "                                                access=group.access, thumbnail=thumbnail_file,\n",
    "                                                is_invitation_only=True, sort_field='avgRating',\n",
    "                                                sort_order='asc', is_view_only=False)\n",
    "            display(target_group)\n",
    "        return target_group\n",
    "    except Exception as e:\n",
    "        print('Group {} could not be created: {}'.format(new_group_title, e))\n",
    "        return None\n",
    "        \n",
    "def clone_items_modify(group, target, **kwargs):\n",
    "    \"\"\"Clone groups and items to a target GIS\n",
    "    * Abstraction over arcgis.gis.ContentManager.clone_items that also renames items and groups\n",
    "\n",
    "    args:\n",
    "    group -- group containing items to be cloned. cloned group name based off 'GROUP_NAME_STRUCTURE'\n",
    "    target -- target gis where items or groups will be cloned\n",
    "    **kwargs:\n",
    "    all additional args go into the gis.ContentManager.clone_items function described here:\n",
    "    https://esri.github.io/arcgis-python-api/apidoc/html/arcgis.gis.toc.html?highlight=clone_items#arcgis.gis.ContentManager.clone_items\n",
    "    \"\"\"\n",
    "    try:\n",
    "        # clone the group\n",
    "        new_group = clone_group_modify(group, target)\n",
    "        group_map = {group.id: new_group.id} # put cloned items in the new group just created\n",
    "\n",
    "        # clone items in the specified group to the folder\n",
    "        items = [group]\n",
    "        results = target.content.clone_items(items, group_mapping=group_map, **kwargs) \n",
    "\n",
    "        # update each result\n",
    "        for result in results:\n",
    "            if isinstance(result, Item):\n",
    "                props = modify_item(result, target)\n",
    "                args = {}\n",
    "                args['data'] = props.pop('data', None)\n",
    "                args['thumbnail'] = props.pop('thumbnail', None)\n",
    "                args['metadata'] = props.pop('metadata', None)\n",
    "                args['item_properties'] = props\n",
    "                result.update(**args)\n",
    "            else:\n",
    "                print(result)\n",
    "        return results\n",
    "    except Exception as e:\n",
    "        print(\"Clone Items modify failed with arguments {}, and {}: {}\".format(group, target, e))"
   ]
  },
  {
   "cell_type": "code",
   "execution_count": 5,
   "metadata": {},
   "outputs": [
    {
     "data": {
      "text/html": [
       "<div class=\"9item_container\" style=\"height: auto; overflow: hidden; border: 1px solid #cfcfcf; border-radius: 2px; background: #f6fafa; line-height: 1.21429em; padding: 10px;\">\n",
       "                    <div class=\"item_left\" style=\"width: 210px; float: left;\">\n",
       "                       <a href='https://PS-CC.maps.arcgis.com/home/group.html?id=6fd586038d76406594d72ed2cb348e41' target='_blank'>\n",
       "                        <img src='https://PS-CC.maps.arcgis.com/home/images/group-no-image.png' class=\"itemThumbnail\">\n",
       "                       </a>\n",
       "                    </div>\n",
       "\n",
       "                    <div class=\"item_right\" style=\"float: none; width: auto; overflow: hidden;\">\n",
       "                        <a href='https://PS-CC.maps.arcgis.com/home/group.html?id=6fd586038d76406594d72ed2cb348e41' target='_blank'><b>PDO Test Group</b>\n",
       "                        </a>\n",
       "                        <br/>\n",
       "                        <br/><b>Summary</b>: None\n",
       "                        <br/><b>Description</b>: None\n",
       "                        <br/><b>Owner</b>: gbushong_PS_CC\n",
       "                        <br/><b>Created</b>: June 08, 2021\n",
       "\n",
       "                    </div>\n",
       "                </div>\n",
       "                "
      ],
      "text/plain": [
       "<Group title:\"PDO Test Group\" owner:gbushong_PS_CC>"
      ]
     },
     "metadata": {},
     "output_type": "display_data"
    },
    {
     "name": "stdout",
     "output_type": "stream",
     "text": [
      "[<Item title:\"ACRES\" type:Map Image Layer owner:gbushong_PS_CC>, <Item title:\"PDO Test Feature Layer\" type:Feature Layer Collection owner:gbushong_PS_CC>, <Item title:\"PDO Test Locator\" type:Geocoding Layer owner:gbushong_PS_CC>, <Item title:\"Test Category Gallery Web App\" type:Web Mapping Application owner:gbushong_PS_CC>, <Item title:\"Test Dashboard\" type:Dashboard owner:gbushong_PS_CC>, <Item title:\"test StoryMap\" type:StoryMap owner:gbushong_PS_CC>, <Item title:\"Untitled experience 1\" type:Web Experience owner:gbushong_PS_CC>]\n"
     ]
    }
   ],
   "source": [
    "# get and print template project groups to copy in the project org\n",
    "project_groups = [Group(project, ids) for ids in SOURCE_GROUP_IDS]\n",
    "\n",
    "for group in project_groups:\n",
    "    display(group)\n",
    "    print(group.content())"
   ]
  },
  {
   "cell_type": "code",
   "execution_count": 7,
   "metadata": {},
   "outputs": [
    {
     "name": "stdout",
     "output_type": "stream",
     "text": [
      "Title `Louisville-PDO Test Group` for GROUP `PDO Test Group` already exists \n",
      "New title: Lvlle-Enterprise\n"
     ]
    },
    {
     "data": {
      "text/html": [
       "<div class=\"9item_container\" style=\"height: auto; overflow: hidden; border: 1px solid #cfcfcf; border-radius: 2px; background: #f6fafa; line-height: 1.21429em; padding: 10px;\">\n",
       "                    <div class=\"item_left\" style=\"width: 210px; float: left;\">\n",
       "                       <a href='https://PS-CC.maps.arcgis.com/home/group.html?id=3ed4d38dc942410ab294f65f459c2c33' target='_blank'>\n",
       "                        <img src='https://PS-CC.maps.arcgis.com/home/images/group-no-image.png' class=\"itemThumbnail\">\n",
       "                       </a>\n",
       "                    </div>\n",
       "\n",
       "                    <div class=\"item_right\" style=\"float: none; width: auto; overflow: hidden;\">\n",
       "                        <a href='https://PS-CC.maps.arcgis.com/home/group.html?id=3ed4d38dc942410ab294f65f459c2c33' target='_blank'><b>Lvlle-Enterprise</b>\n",
       "                        </a>\n",
       "                        <br/>\n",
       "                        <br/><b>Summary</b>: None\n",
       "                        <br/><b>Description</b>: None\n",
       "                        <br/><b>Owner</b>: gbushong_PS_CC\n",
       "                        <br/><b>Created</b>: July 08, 2021\n",
       "\n",
       "                    </div>\n",
       "                </div>\n",
       "                "
      ],
      "text/plain": [
       "<Group title:\"Lvlle-Enterprise\" owner:gbushong_PS_CC>"
      ]
     },
     "metadata": {},
     "output_type": "display_data"
    },
    {
     "name": "stdout",
     "output_type": "stream",
     "text": [
      "Title `Louisville ACRES` for ITEM `ACRES` already exists \n",
      "New title: Lvlle Acres\n",
      "Title `Louisville Test Category Gallery Web App` for ITEM `Test Category Gallery Web App` already exists \n",
      "New title: Lvlle Web App\n",
      "Title `Louisville PDO Test Feature Layer` for ITEM `PDO Test Feature Layer` already exists \n",
      "New title: Lvlle Feature Layer\n",
      "Title `Louisville PDO Test Locator` for ITEM `PDO Test Locator` already exists \n",
      "New title: Lvlle Locator\n",
      "Title `Louisville Test Dashboard` for ITEM `Test Dashboard` already exists \n",
      "New title: Lvlle Dashboard\n",
      "Title `Louisville test StoryMap` for ITEM `test StoryMap` already exists \n",
      "New title: Lvlle StoryMap\n",
      "Title `Louisville Untitled experience 1` for ITEM `Untitled experience 1` already exists \n",
      "New title: Lvlle Experience Builder\n"
     ]
    },
    {
     "data": {
      "text/plain": [
       "[<Item title:\"Lvlle Acres\" type:Map Image Layer owner:gbushong_PS_CC>,\n",
       " <Item title:\"Lvlle Web App\" type:Web Mapping Application owner:gbushong_PS_CC>,\n",
       " <Item title:\"Lvlle Feature Layer\" type:Feature Layer Collection owner:gbushong_PS_CC>,\n",
       " <Item title:\"Lvlle Locator\" type:Geocoding Layer owner:gbushong_PS_CC>,\n",
       " <Item title:\"Lvlle Dashboard\" type:Dashboard owner:gbushong_PS_CC>,\n",
       " <Item title:\"Lvlle StoryMap\" type:StoryMap owner:gbushong_PS_CC>,\n",
       " <Item title:\"Lvlle Experience Builder\" type:Web Experience owner:gbushong_PS_CC>]"
      ]
     },
     "metadata": {},
     "output_type": "display_data"
    }
   ],
   "source": [
    "# copy and rename project groups in project org (create external-facing version)\n",
    "for group in project_groups:\n",
    "    clone_res = clone_items_modify(group, project, copy_data=False, search_existing_items=False, folder=FOLDER)\n",
    "    display(clone_res)"
   ]
  },
  {
   "cell_type": "code",
   "execution_count": null,
   "metadata": {},
   "outputs": [],
   "source": []
  }
 ],
 "metadata": {
  "kernelspec": {
   "display_name": "Python 3",
   "language": "python",
   "name": "python3"
  },
  "language_info": {
   "codemirror_mode": {
    "name": "ipython",
    "version": 3
   },
   "file_extension": ".py",
   "mimetype": "text/x-python",
   "name": "python",
   "nbconvert_exporter": "python",
   "pygments_lexer": "ipython3",
   "version": "3.7.10"
  }
 },
 "nbformat": 4,
 "nbformat_minor": 2
}
