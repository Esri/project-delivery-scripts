{
 "cells": [
  {
   "cell_type": "code",
   "execution_count": 1,
   "metadata": {},
   "outputs": [],
   "source": [
    "# Global Variables Set by User **change these values before running script**\n",
    "\n",
    "# host organization is the ArcGIS Online Org - needs to be admin account\n",
    "HOST_URL = \"https://envisioning.maps.arcgis.com\"\n",
    "HOST_USERNAME = \"GBushongENV\"\n",
    "\n",
    "# guest organization is the Enterprise Portal - needs to be admin account\n",
    "GUEST_URL = \"https://pdoscriptdev.esri.com/portal\"\n",
    "GUEST_USERNAME = \"admin\"\n",
    "\n",
    "# this group in the host org contains items to share in the collaboration or is empty\n",
    "HOST_GROUP_ID = \"4d7ff4f81d6340428ef290b7de801204\"\n",
    "\n",
    "# this group in the guest org contains items to share in the collaboration or is empty\n",
    "GUEST_GROUP_ID = \"51b8c8ec928e4a1bba1f801395796880\"\n",
    "\n",
    "# this will be the name of the collaboration and the name of the folder created in enterprise\n",
    "COLLAB_NAME = \"Enterprise + Online\"\n",
    "\n",
    "# name of the workspace that the groups will be added to\n",
    "WORKSPACE_NAME = \"Enterprise Workspace\"\n",
    "\n",
    "# description for the collaboration and workspace\n",
    "DESCRIPTION = \"Data sharing sample between Enterprise and Online\"\n",
    "\n",
    "# how many hours from sending the invitation should be valid for (integer)\n",
    "EXPIRATION = 24\n",
    "\n",
    "# host contact info\n",
    "HOST_FIRST = \"Joe\"\n",
    "HOST_LAST = \"Smith\"\n",
    "HOST_EMAIL = \"jsmith@sample.com\"\n",
    "\n",
    "# guest contact info\n",
    "GUEST_FIRST = \"Judy\"\n",
    "GUEST_LAST = \"Smith\"\n",
    "GUEST_EMAIL = \"jsmith1@sample.com\"\n",
    "\n",
    "# local folder to temporarily save invitation and response docs into\n",
    "LOCAL_TMP_DIR = \"/Users/grac9792/Documents/pdo-scripts\""
   ]
  },
  {
   "cell_type": "code",
   "execution_count": 2,
   "metadata": {},
   "outputs": [],
   "source": [
    "# import libraries\n",
    "from arcgis.gis import GIS\n",
    "from arcgis.gis import Group\n",
    "from arcgis.gis.admin import Collaboration"
   ]
  },
  {
   "cell_type": "code",
   "execution_count": 3,
   "metadata": {},
   "outputs": [
    {
     "name": "stdout",
     "output_type": "stream",
     "text": [
      "Connecting to https://envisioning.maps.arcgis.com with username GBushongENV...\n",
      "Enter password: ········\n",
      "Connecting to https://pdoscriptdev.esri.com/portal with username admin...\n",
      "Enter password: ········\n"
     ]
    }
   ],
   "source": [
    "# connect to host GIS, the new ArcGIS Online instance\n",
    "print(\"Connecting to {} with username {}...\".format(HOST_URL, HOST_USERNAME))\n",
    "host_gis = GIS(HOST_URL, HOST_USERNAME)\n",
    "\n",
    "# connect to guest GIS, the ArcGIS Enterprise instance\n",
    "print(\"Connecting to {} with username {}...\".format(GUEST_URL, GUEST_USERNAME))\n",
    "guest_gis = GIS(GUEST_URL, GUEST_USERNAME, verify_cert=False)"
   ]
  },
  {
   "cell_type": "code",
   "execution_count": null,
   "metadata": {},
   "outputs": [],
   "source": []
  },
  {
   "cell_type": "code",
   "execution_count": 4,
   "metadata": {},
   "outputs": [
    {
     "data": {
      "text/html": [
       "<div class=\"9item_container\" style=\"height: auto; overflow: hidden; border: 1px solid #cfcfcf; border-radius: 2px; background: #f6fafa; line-height: 1.21429em; padding: 10px;\">\n",
       "                    <div class=\"item_left\" style=\"width: 210px; float: left;\">\n",
       "                       <a href='https://Envisioning.maps.arcgis.com/home/group.html?id=4d7ff4f81d6340428ef290b7de801204' target='_blank'>\n",
       "                        <img src='https://Envisioning.maps.arcgis.com/home/images/group-no-image.png' class=\"itemThumbnail\">\n",
       "                       </a>\n",
       "                    </div>\n",
       "\n",
       "                    <div class=\"item_right\" style=\"float: none; width: auto; overflow: hidden;\">\n",
       "                        <a href='https://Envisioning.maps.arcgis.com/home/group.html?id=4d7ff4f81d6340428ef290b7de801204' target='_blank'><b>aec-test-group</b>\n",
       "                        </a>\n",
       "                        <br/>\n",
       "                        <br/><b>Summary</b>: To be used for testing aec scripts\n",
       "                        <br/><b>Description</b>: None\n",
       "                        <br/><b>Owner</b>: GBushongENV\n",
       "                        <br/><b>Created</b>: November 27, 2018\n",
       "\n",
       "                    </div>\n",
       "                </div>\n",
       "                "
      ],
      "text/plain": [
       "<Group title:\"aec-test-group\" owner:GBushongENV>"
      ]
     },
     "execution_count": 4,
     "metadata": {},
     "output_type": "execute_result"
    }
   ],
   "source": [
    "# search for sharing groups in host gis\n",
    "host_group = Group(host_gis, HOST_GROUP_ID)\n",
    "host_group"
   ]
  },
  {
   "cell_type": "code",
   "execution_count": 6,
   "metadata": {},
   "outputs": [
    {
     "name": "stderr",
     "output_type": "stream",
     "text": [
      "Unable to create collaboration\n",
      "Portal group with group id '4d7ff4f81d6340428ef290b7de801204' must not be already linked to a collaboration workspace.\n"
     ]
    },
    {
     "ename": "RuntimeError",
     "evalue": "Unable to create collaboration\nPortal group with group id '4d7ff4f81d6340428ef290b7de801204' must not be already linked to a collaboration workspace.\n(Error Code: 400)",
     "output_type": "error",
     "traceback": [
      "\u001b[0;31m---------------------------------------------------------------------------\u001b[0m",
      "\u001b[0;31mRuntimeError\u001b[0m                              Traceback (most recent call last)",
      "\u001b[0;32m<ipython-input-6-279bb19e8985>\u001b[0m in \u001b[0;36m<module>\u001b[0;34m\u001b[0m\n\u001b[1;32m      7\u001b[0m                                                   \u001b[0mhost_contact_last_name\u001b[0m\u001b[0;34m=\u001b[0m\u001b[0mHOST_LAST\u001b[0m\u001b[0;34m,\u001b[0m\u001b[0;34m\u001b[0m\u001b[0;34m\u001b[0m\u001b[0m\n\u001b[1;32m      8\u001b[0m                                                   \u001b[0mhost_contact_email_address\u001b[0m\u001b[0;34m=\u001b[0m\u001b[0mHOST_EMAIL\u001b[0m\u001b[0;34m,\u001b[0m\u001b[0;34m\u001b[0m\u001b[0;34m\u001b[0m\u001b[0m\n\u001b[0;32m----> 9\u001b[0;31m                                                   access_mode='sendAndReceive')\n\u001b[0m\u001b[1;32m     10\u001b[0m \u001b[0;34m\u001b[0m\u001b[0m\n\u001b[1;32m     11\u001b[0m \u001b[0mcollab_id\u001b[0m \u001b[0;34m=\u001b[0m \u001b[0mhost_collab\u001b[0m\u001b[0;34m[\u001b[0m\u001b[0;34m'id'\u001b[0m\u001b[0;34m]\u001b[0m\u001b[0;34m\u001b[0m\u001b[0;34m\u001b[0m\u001b[0m\n",
      "\u001b[0;32m~/.local/share/virtualenvs/grac9792-1tvUfdOI/lib/python3.7/site-packages/arcgis/gis/admin/_collaboration.py\u001b[0m in \u001b[0;36mcreate\u001b[0;34m(self, name, description, workspace_name, workspace_description, portal_group_id, host_contact_first_name, host_contact_last_name, host_contact_email_address, access_mode)\u001b[0m\n\u001b[1;32m    103\u001b[0m         }\n\u001b[1;32m    104\u001b[0m         \u001b[0mdata_path\u001b[0m \u001b[0;34m=\u001b[0m \u001b[0;34m\"%s/createCollaboration\"\u001b[0m \u001b[0;34m%\u001b[0m \u001b[0mself\u001b[0m\u001b[0;34m.\u001b[0m\u001b[0m_basepath\u001b[0m\u001b[0;34m\u001b[0m\u001b[0;34m\u001b[0m\u001b[0m\n\u001b[0;32m--> 105\u001b[0;31m         \u001b[0mres\u001b[0m \u001b[0;34m=\u001b[0m \u001b[0mself\u001b[0m\u001b[0;34m.\u001b[0m\u001b[0m_portal\u001b[0m\u001b[0;34m.\u001b[0m\u001b[0mcon\u001b[0m\u001b[0;34m.\u001b[0m\u001b[0mpost\u001b[0m\u001b[0;34m(\u001b[0m\u001b[0mdata_path\u001b[0m\u001b[0;34m,\u001b[0m \u001b[0mparams\u001b[0m\u001b[0;34m)\u001b[0m\u001b[0;34m\u001b[0m\u001b[0;34m\u001b[0m\u001b[0m\n\u001b[0m\u001b[1;32m    106\u001b[0m         \u001b[0;32mif\u001b[0m \u001b[0;34m'collaboration'\u001b[0m \u001b[0;32min\u001b[0m \u001b[0mres\u001b[0m \u001b[0;32mand\u001b[0m\u001b[0;31m \u001b[0m\u001b[0;31m\\\u001b[0m\u001b[0;34m\u001b[0m\u001b[0;34m\u001b[0m\u001b[0m\n\u001b[1;32m    107\u001b[0m            \u001b[0;34m'id'\u001b[0m \u001b[0;32min\u001b[0m \u001b[0mres\u001b[0m\u001b[0;34m[\u001b[0m\u001b[0;34m'collaboration'\u001b[0m\u001b[0;34m]\u001b[0m\u001b[0;34m:\u001b[0m\u001b[0;34m\u001b[0m\u001b[0;34m\u001b[0m\u001b[0m\n",
      "\u001b[0;32m~/.local/share/virtualenvs/grac9792-1tvUfdOI/lib/python3.7/site-packages/arcgis/_impl/connection.py\u001b[0m in \u001b[0;36mpost\u001b[0;34m(self, path, postdata, files, ssl, compress, is_retry, use_ordered_dict, add_token, verify_cert, token, try_json, out_folder, file_name, force_bytes, add_headers)\u001b[0m\n\u001b[1;32m   1157\u001b[0m                                          verify_cert=verify_cert, is_retry=True)\n\u001b[1;32m   1158\u001b[0m \u001b[0;34m\u001b[0m\u001b[0m\n\u001b[0;32m-> 1159\u001b[0;31m                 \u001b[0mself\u001b[0m\u001b[0;34m.\u001b[0m\u001b[0m_handle_json_error\u001b[0m\u001b[0;34m(\u001b[0m\u001b[0mresp_json\u001b[0m\u001b[0;34m[\u001b[0m\u001b[0;34m'error'\u001b[0m\u001b[0;34m]\u001b[0m\u001b[0;34m,\u001b[0m \u001b[0merrorcode\u001b[0m\u001b[0;34m)\u001b[0m\u001b[0;34m\u001b[0m\u001b[0;34m\u001b[0m\u001b[0m\n\u001b[0m\u001b[1;32m   1160\u001b[0m                 \u001b[0;32mreturn\u001b[0m \u001b[0;32mNone\u001b[0m\u001b[0;34m\u001b[0m\u001b[0;34m\u001b[0m\u001b[0m\n\u001b[1;32m   1161\u001b[0m \u001b[0;34m\u001b[0m\u001b[0m\n",
      "\u001b[0;32m~/.local/share/virtualenvs/grac9792-1tvUfdOI/lib/python3.7/site-packages/arcgis/_impl/connection.py\u001b[0m in \u001b[0;36m_handle_json_error\u001b[0;34m(self, error, errorcode)\u001b[0m\n\u001b[1;32m   1178\u001b[0m \u001b[0;34m\u001b[0m\u001b[0m\n\u001b[1;32m   1179\u001b[0m         \u001b[0merrormessage\u001b[0m \u001b[0;34m=\u001b[0m \u001b[0merrormessage\u001b[0m \u001b[0;34m+\u001b[0m \u001b[0;34m\"\\n(Error Code: \"\u001b[0m \u001b[0;34m+\u001b[0m \u001b[0mstr\u001b[0m\u001b[0;34m(\u001b[0m\u001b[0merrorcode\u001b[0m\u001b[0;34m)\u001b[0m \u001b[0;34m+\u001b[0m\u001b[0;34m\")\"\u001b[0m\u001b[0;34m\u001b[0m\u001b[0;34m\u001b[0m\u001b[0m\n\u001b[0;32m-> 1180\u001b[0;31m         \u001b[0;32mraise\u001b[0m \u001b[0mRuntimeError\u001b[0m\u001b[0;34m(\u001b[0m\u001b[0merrormessage\u001b[0m\u001b[0;34m)\u001b[0m\u001b[0;34m\u001b[0m\u001b[0;34m\u001b[0m\u001b[0m\n\u001b[0m\u001b[1;32m   1181\u001b[0m \u001b[0;34m\u001b[0m\u001b[0m\n\u001b[1;32m   1182\u001b[0m \u001b[0;32mclass\u001b[0m \u001b[0m_StrictURLopener\u001b[0m\u001b[0;34m(\u001b[0m\u001b[0mrequest\u001b[0m\u001b[0;34m.\u001b[0m\u001b[0mFancyURLopener\u001b[0m\u001b[0;34m)\u001b[0m\u001b[0;34m:\u001b[0m\u001b[0;34m\u001b[0m\u001b[0;34m\u001b[0m\u001b[0m\n",
      "\u001b[0;31mRuntimeError\u001b[0m: Unable to create collaboration\nPortal group with group id '4d7ff4f81d6340428ef290b7de801204' must not be already linked to a collaboration workspace.\n(Error Code: 400)"
     ]
    }
   ],
   "source": [
    "# create a collaboration\n",
    "host_collab = host_gis.admin.collaborations.create(name=COLLAB_NAME, description=DESCRIPTION,\n",
    "                                                  workspace_name=WORKSPACE_NAME,\n",
    "                                                  workspace_description=DESCRIPTION,\n",
    "                                                  portal_group_id=host_group.id,\n",
    "                                                  host_contact_first_name=HOST_FIRST,\n",
    "                                                  host_contact_last_name=HOST_LAST,\n",
    "                                                  host_contact_email_address=HOST_EMAIL,\n",
    "                                                  access_mode='sendAndReceive')\n",
    "\n",
    "collab_id = host_collab['id']\n",
    "host_collab"
   ]
  },
  {
   "cell_type": "code",
   "execution_count": 7,
   "metadata": {},
   "outputs": [
    {
     "data": {
      "text/plain": [
       "'/Users/grac9792/Documents/pdo-scripts/collaboration-pdoscriptdev.esri.com.invite'"
      ]
     },
     "execution_count": 7,
     "metadata": {},
     "output_type": "execute_result"
    }
   ],
   "source": [
    "# set privileges for the new workspace in the new collaboration\n",
    "config = [{host_collab.workspaces[0]['id']:'sendAndReceive'}]\n",
    "\n",
    "# invite the guest GIS to the collaboration and download the invitation file\n",
    "invite_file = host_collab.invite_participant(config_json=config, expiration=EXPIRATION, \n",
    "                                             guest_portal_url=GUEST_URL,\n",
    "                                             save_path=LOCAL_TMP_DIR)\n",
    "\n",
    "# print the path to the invite file\n",
    "invite_file"
   ]
  },
  {
   "cell_type": "code",
   "execution_count": 8,
   "metadata": {},
   "outputs": [
    {
     "data": {
      "text/plain": [
       "{'success': True}"
      ]
     },
     "execution_count": 8,
     "metadata": {},
     "output_type": "execute_result"
    }
   ],
   "source": [
    "# accept the invitation at the participant GIS\n",
    "guest_gis.admin.collaborations.accept_invitation(first_name=GUEST_FIRST, last_name=GUEST_LAST,\n",
    "                                                email=GUEST_EMAIL,\n",
    "                                                invitation_file=invite_file)"
   ]
  },
  {
   "cell_type": "code",
   "execution_count": 9,
   "metadata": {},
   "outputs": [
    {
     "data": {
      "text/plain": [
       "arcgis.gis.admin._collaboration.Collaboration"
      ]
     },
     "execution_count": 9,
     "metadata": {},
     "output_type": "execute_result"
    }
   ],
   "source": [
    "# get the correct guest collaboration based off shared collaboration id\n",
    "guest_collab = Collaboration(guest_gis.admin.collaborations, collab_id)\n",
    "type(guest_collab)"
   ]
  },
  {
   "cell_type": "code",
   "execution_count": 10,
   "metadata": {},
   "outputs": [
    {
     "data": {
      "text/plain": [
       "'/Users/grac9792/Documents/pdo-scripts/collaboration-pdoscriptdev.esri.com.response'"
      ]
     },
     "execution_count": 10,
     "metadata": {},
     "output_type": "execute_result"
    }
   ],
   "source": [
    "# now export a response file that can be sent back to the host GIS\n",
    "response_file = guest_collab.export_invitation(out_folder=LOCAL_TMP_DIR)\n",
    "response_file"
   ]
  },
  {
   "cell_type": "code",
   "execution_count": 11,
   "metadata": {},
   "outputs": [
    {
     "name": "stdout",
     "output_type": "stream",
     "text": [
      "39dde654-828b-4a97-ad02-92e952a33ff9\n",
      "9F2Q47vO7UfnIjjV\n"
     ]
    },
    {
     "data": {
      "text/html": [
       "<div class=\"9item_container\" style=\"height: auto; overflow: hidden; border: 1px solid #cfcfcf; border-radius: 2px; background: #f6fafa; line-height: 1.21429em; padding: 10px;\">\n",
       "                    <div class=\"item_left\" style=\"width: 210px; float: left;\">\n",
       "                       <a href='https://pdoscriptdev.esri.com/portal/home/group.html?id=51b8c8ec928e4a1bba1f801395796880' target='_blank'>\n",
       "                        <img src='https://pdoscriptdev.esri.com/portal/home/images/group-no-image.png' class=\"itemThumbnail\">\n",
       "                       </a>\n",
       "                    </div>\n",
       "\n",
       "                    <div class=\"item_right\" style=\"float: none; width: auto; overflow: hidden;\">\n",
       "                        <a href='https://pdoscriptdev.esri.com/portal/home/group.html?id=51b8c8ec928e4a1bba1f801395796880' target='_blank'><b>aec-enterprise-group</b>\n",
       "                        </a>\n",
       "                        <br/>\n",
       "                        <br/><b>Summary</b>: None\n",
       "                        <br/><b>Description</b>: None\n",
       "                        <br/><b>Owner</b>: admin\n",
       "                        <br/><b>Created</b>: December 12, 2018\n",
       "\n",
       "                    </div>\n",
       "                </div>\n",
       "                "
      ],
      "text/plain": [
       "<Group title:\"aec-enterprise-group\" owner:admin>"
      ]
     },
     "execution_count": 11,
     "metadata": {},
     "output_type": "execute_result"
    }
   ],
   "source": [
    "# get guest portal id\n",
    "guest_portal_id = guest_collab.workspaces[0]['participantsWithoutGroupLinks'][0]['portalId']\n",
    "print(guest_portal_id)\n",
    "\n",
    "host_portal_id = guest_collab.workspaces[0]['participantGroupLinks'][0]['portalId']\n",
    "print(host_portal_id)\n",
    "\n",
    "# find the guest groups to add to collaboration workspace\n",
    "guest_group = Group(guest_gis, GUEST_GROUP_ID)\n",
    "guest_group"
   ]
  },
  {
   "cell_type": "code",
   "execution_count": 12,
   "metadata": {},
   "outputs": [
    {
     "data": {
      "text/plain": [
       "'9F2Q47vO7UfnIjjV'"
      ]
     },
     "execution_count": 12,
     "metadata": {},
     "output_type": "execute_result"
    }
   ],
   "source": [
    "# join a group from the guest GIS to the collaboration\n",
    "guest_collab.add_group_to_workspace(portal_group=guest_group, workspace=guest_collab.workspaces[0])\n",
    "\n",
    "# get workspace ID\n",
    "workspace_id = guest_collab.workspaces[0]['id']\n",
    "\n",
    "# get portal ID\n",
    "host_portal_id = guest_collab['collaborationHostPortalId']\n",
    "host_portal_id"
   ]
  },
  {
   "cell_type": "code",
   "execution_count": 13,
   "metadata": {},
   "outputs": [
    {
     "data": {
      "text/plain": [
       "{'success': True}"
      ]
     },
     "execution_count": 13,
     "metadata": {},
     "output_type": "execute_result"
    }
   ],
   "source": [
    "# accept the collaboration response at the host GIS\n",
    "host_collab.import_invitation_response(response_file)"
   ]
  },
  {
   "cell_type": "code",
   "execution_count": 14,
   "metadata": {},
   "outputs": [
    {
     "name": "stdout",
     "output_type": "stream",
     "text": [
      "Collaborations on host GIS:\n",
      "Enterprise + Online\n",
      "-----------------------------\n",
      "Collaborations on guest GIS:\n",
      "Enterprise + Online\n"
     ]
    }
   ],
   "source": [
    "# verify the collaboration\n",
    "print(\"Collaborations on host GIS:\")\n",
    "for collab in host_gis.admin.collaborations.list():\n",
    "    print(collab.name)\n",
    "    \n",
    "print(\"-----------------------------\")\n",
    "print(\"Collaborations on guest GIS:\")\n",
    "for collab in guest_gis.admin.collaborations.list():\n",
    "    print(collab.name)"
   ]
  },
  {
   "cell_type": "code",
   "execution_count": null,
   "metadata": {},
   "outputs": [],
   "source": []
  }
 ],
 "metadata": {
  "kernelspec": {
   "display_name": "Python 3",
   "language": "python",
   "name": "python3"
  },
  "language_info": {
   "codemirror_mode": {
    "name": "ipython",
    "version": 3
   },
   "file_extension": ".py",
   "mimetype": "text/x-python",
   "name": "python",
   "nbconvert_exporter": "python",
   "pygments_lexer": "ipython3",
   "version": "3.7.1"
  }
 },
 "nbformat": 4,
 "nbformat_minor": 2
}
