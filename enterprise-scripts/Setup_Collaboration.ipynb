{
 "cells": [
  {
   "cell_type": "code",
   "execution_count": 30,
   "metadata": {},
   "outputs": [],
   "source": [
    "# import libraries\n",
    "from arcgis.gis import GIS"
   ]
  },
  {
   "cell_type": "code",
   "execution_count": 31,
   "metadata": {},
   "outputs": [
    {
     "name": "stdout",
     "output_type": "stream",
     "text": [
      "Enter password: ········\n",
      "Enter password: ········\n"
     ]
    }
   ],
   "source": [
    "# connect to guest GIS, the ArcGIS Enterprise instance\n",
    "guest_gis = GIS(\"https://pdoscriptdev.esri.com/portal\", \"admin\", verify_cert=False)\n",
    "\n",
    "# connect to host GIS, the new ArcGIS Online instance\n",
    "host_gis = GIS(\"https://envisioning.maps.arcgis.com\", \"GBushongENV\")"
   ]
  },
  {
   "cell_type": "code",
   "execution_count": 32,
   "metadata": {},
   "outputs": [
    {
     "data": {
      "text/html": [
       "<div class=\"9item_container\" style=\"height: auto; overflow: hidden; border: 1px solid #cfcfcf; border-radius: 2px; background: #f6fafa; line-height: 1.21429em; padding: 10px;\">\n",
       "                    <div class=\"item_left\" style=\"width: 210px; float: left;\">\n",
       "                       <a href='https://Envisioning.maps.arcgis.com/home/group.html?id=ee213017ab39402fb933d01c8bbe2e87' target='_blank'>\n",
       "                        <img src='https://Envisioning.maps.arcgis.com/home/images/group-no-image.png' class=\"itemThumbnail\">\n",
       "                       </a>\n",
       "                    </div>\n",
       "\n",
       "                    <div class=\"item_right\" style=\"float: none; width: auto; overflow: hidden;\">\n",
       "                        <a href='https://Envisioning.maps.arcgis.com/home/group.html?id=ee213017ab39402fb933d01c8bbe2e87' target='_blank'><b>TEST-1</b>\n",
       "                        </a>\n",
       "                        <br/>\n",
       "                        <br/><b>Summary</b>: To be used for testing aec scripts\n",
       "                        <br/><b>Description</b>: None\n",
       "                        <br/><b>Owner</b>: GBushongENV\n",
       "                        <br/><b>Created</b>: December 07, 2018\n",
       "\n",
       "                    </div>\n",
       "                </div>\n",
       "                "
      ],
      "text/plain": [
       "<Group title:\"TEST-1\" owner:GBushongENV>"
      ]
     },
     "execution_count": 32,
     "metadata": {},
     "output_type": "execute_result"
    }
   ],
   "source": [
    "# groups: aec-enterprise-group aec-enterprise-group-2\n",
    "# search for the sample group in guest gis\n",
    "guest_group = guest_gis.groups.search(\"aec-enterprise-group\")[0]\n",
    "guest_group\n",
    "\n",
    "# search for sample groups in host gis\n",
    "host_group = host_gis.groups.search(\"TEST-1\")[0]\n",
    "host_group"
   ]
  },
  {
   "cell_type": "code",
   "execution_count": 33,
   "metadata": {},
   "outputs": [
    {
     "data": {
      "text/plain": [
       "{'id': 'eb00db3a48d642d891bac7b55c8ec5ea',\n",
       " 'name': 'Enterprise + Online',\n",
       " 'description': 'Data sharing sample between Enterprise and Online',\n",
       " 'collaborationHostPortalId': '9F2Q47vO7UfnIjjV',\n",
       " 'config': {'ownerUsername': 'GBushongENV'},\n",
       " 'created': 1544660272000,\n",
       " 'modified': 1544660272000}"
      ]
     },
     "execution_count": 33,
     "metadata": {},
     "output_type": "execute_result"
    }
   ],
   "source": [
    "# create a collaboration\n",
    "description='Data sharing sample between Enterprise and Online'\n",
    "host_collab = host_gis.admin.collaborations.create(name='Enterprise + Online', description=description,\n",
    "                                                  workspace_name='Enterprise sharing',\n",
    "                                                  workspace_description=description,\n",
    "                                                  portal_group_id=host_group.id,\n",
    "                                                  host_contact_first_name='Grace',\n",
    "                                                  host_contact_last_name='Bushong',\n",
    "                                                  host_contact_email_address='gbushong@esri.com',\n",
    "                                                  access_mode='sendAndReceive')\n",
    "host_collab"
   ]
  },
  {
   "cell_type": "code",
   "execution_count": 34,
   "metadata": {},
   "outputs": [
    {
     "data": {
      "text/plain": [
       "[{'id': '309cc37f04634bd188a7508651acdfab',\n",
       "  'name': 'Enterprise sharing',\n",
       "  'description': 'Data sharing sample between Enterprise and Online',\n",
       "  'collaborationId': 'eb00db3a48d642d891bac7b55c8ec5ea',\n",
       "  'config': {'maxItemSizeInMB': 1024,\n",
       "   'maxReplicationPackageSizeInMB': 5120,\n",
       "   'copyByRefIfCopyFail': True},\n",
       "  'created': 1544660272000,\n",
       "  'modified': 1544660272000,\n",
       "  'lastSyncSuccess': -1,\n",
       "  'participantGroupLinks': [{'portalId': '9F2Q47vO7UfnIjjV',\n",
       "    'portalGroupId': 'ee213017ab39402fb933d01c8bbe2e87',\n",
       "    'portalGroupName': 'TEST-1',\n",
       "    'config': {'enableRealtimeSync': True, 'copyFeatureServiceData': False},\n",
       "    'accessMode': 'sendAndReceive',\n",
       "    'canSyncWorkspace': False}],\n",
       "  'participantsWithoutGroupLinks': []}]"
      ]
     },
     "execution_count": 34,
     "metadata": {},
     "output_type": "execute_result"
    }
   ],
   "source": [
    "# get the list of workspaces available as part of the collaboration\n",
    "host_collab.workspaces"
   ]
  },
  {
   "cell_type": "code",
   "execution_count": 35,
   "metadata": {},
   "outputs": [
    {
     "data": {
      "text/plain": [
       "'/Users/grac9792/Documents/pdo-scripts/collaboration-pdoscriptdev.esri.com.invite'"
      ]
     },
     "execution_count": 35,
     "metadata": {},
     "output_type": "execute_result"
    }
   ],
   "source": [
    "# compose the list of collaboration workspaces and the privileges for each\n",
    "config = [{host_collab.workspaces[0]['id']:'sendAndReceive'}]\n",
    "\n",
    "# invite the guest GIS and download the invitation file\n",
    "invite_file = host_collab.invite_participant(config_json=config, expiration=24, \n",
    "                                             guest_portal_url=\"https://pdoscriptdev.esri.com/portal\",\n",
    "                                             save_path=\"/Users/grac9792/Documents/pdo-scripts\")\n",
    "\n",
    "# print the path to the invite file\n",
    "invite_file"
   ]
  },
  {
   "cell_type": "markdown",
   "metadata": {},
   "source": [
    "## Accept the invitation at the participant GIS"
   ]
  },
  {
   "cell_type": "code",
   "execution_count": 36,
   "metadata": {},
   "outputs": [
    {
     "data": {
      "text/plain": [
       "{'success': True}"
      ]
     },
     "execution_count": 36,
     "metadata": {},
     "output_type": "execute_result"
    }
   ],
   "source": [
    "guest_gis.admin.collaborations.accept_invitation(first_name='Grace', last_name='Bushong',\n",
    "                                                email='gbushong@esri.com',\n",
    "                                                invitation_file=invite_file)"
   ]
  },
  {
   "cell_type": "code",
   "execution_count": 37,
   "metadata": {},
   "outputs": [
    {
     "data": {
      "text/plain": [
       "[{'id': 'eb00db3a48d642d891bac7b55c8ec5ea',\n",
       "  'name': 'Enterprise + Online',\n",
       "  'description': 'Data sharing sample between Enterprise and Online',\n",
       "  'collaborationHostPortalId': '9F2Q47vO7UfnIjjV',\n",
       "  'config': {'ownerUsername': 'admin'},\n",
       "  'created': 1544660287952,\n",
       "  'modified': 1544660287952}]"
      ]
     },
     "execution_count": 37,
     "metadata": {},
     "output_type": "execute_result"
    }
   ],
   "source": [
    "# get the list of collaborations on the guest GIS and pick teh one created earlier\n",
    "guest_gis.admin.collaborations.list()"
   ]
  },
  {
   "cell_type": "code",
   "execution_count": 38,
   "metadata": {},
   "outputs": [
    {
     "data": {
      "text/plain": [
       "arcgis.gis.admin._collaboration.Collaboration"
      ]
     },
     "execution_count": 38,
     "metadata": {},
     "output_type": "execute_result"
    }
   ],
   "source": [
    "# in this case, there are two collaborations and the second one is the relevant one (id)\n",
    "guest_collab = guest_gis.admin.collaborations.list()[0]\n",
    "type(guest_collab)"
   ]
  },
  {
   "cell_type": "markdown",
   "metadata": {},
   "source": [
    "# Export the response file"
   ]
  },
  {
   "cell_type": "code",
   "execution_count": 39,
   "metadata": {},
   "outputs": [
    {
     "data": {
      "text/plain": [
       "'/Users/grac9792/Documents/pdo-scripts/collaboration-pdoscriptdev.esri.com.response'"
      ]
     },
     "execution_count": 39,
     "metadata": {},
     "output_type": "execute_result"
    }
   ],
   "source": [
    "# now export a response file that can be sent back to the host GIS\n",
    "response_file = guest_collab.export_invitation(out_folder = \"/Users/grac9792/Documents/pdo-scripts/\")\n",
    "response_file"
   ]
  },
  {
   "cell_type": "markdown",
   "metadata": {},
   "source": [
    "## Join a Group to the Collaboration in the guest GIS"
   ]
  },
  {
   "cell_type": "code",
   "execution_count": 40,
   "metadata": {},
   "outputs": [
    {
     "data": {
      "text/plain": [
       "[{'id': '309cc37f04634bd188a7508651acdfab',\n",
       "  'name': 'Enterprise sharing',\n",
       "  'description': 'Data sharing sample between Enterprise and Online',\n",
       "  'collaborationId': 'eb00db3a48d642d891bac7b55c8ec5ea',\n",
       "  'config': {'maxItemSizeInMB': 1024,\n",
       "   'maxReplicationPackageSizeInMB': 5120,\n",
       "   'copyByRefIfCopyFail': True},\n",
       "  'created': 1544660288659,\n",
       "  'modified': 1544660288659,\n",
       "  'lastSyncSuccess': -1,\n",
       "  'participantGroupLinks': [{'portalId': '9F2Q47vO7UfnIjjV',\n",
       "    'accessMode': 'sendAndReceive',\n",
       "    'config': {}}],\n",
       "  'participantsWithoutGroupLinks': [{'portalId': '39dde654-828b-4a97-ad02-92e952a33ff9',\n",
       "    'accessMode': 'sendAndReceive',\n",
       "    'config': {}}]}]"
      ]
     },
     "execution_count": 40,
     "metadata": {},
     "output_type": "execute_result"
    }
   ],
   "source": [
    "# first get the list of workspaces in the guest collaboration\n",
    "guest_collab.workspaces"
   ]
  },
  {
   "cell_type": "code",
   "execution_count": 41,
   "metadata": {},
   "outputs": [
    {
     "data": {
      "text/html": [
       "<div class=\"9item_container\" style=\"height: auto; overflow: hidden; border: 1px solid #cfcfcf; border-radius: 2px; background: #f6fafa; line-height: 1.21429em; padding: 10px;\">\n",
       "                    <div class=\"item_left\" style=\"width: 210px; float: left;\">\n",
       "                       <a href='https://pdoscriptdev.esri.com/portal/home/group.html?id=51b8c8ec928e4a1bba1f801395796880' target='_blank'>\n",
       "                        <img src='https://pdoscriptdev.esri.com/portal/home/images/group-no-image.png' class=\"itemThumbnail\">\n",
       "                       </a>\n",
       "                    </div>\n",
       "\n",
       "                    <div class=\"item_right\" style=\"float: none; width: auto; overflow: hidden;\">\n",
       "                        <a href='https://pdoscriptdev.esri.com/portal/home/group.html?id=51b8c8ec928e4a1bba1f801395796880' target='_blank'><b>aec-enterprise-group</b>\n",
       "                        </a>\n",
       "                        <br/>\n",
       "                        <br/><b>Summary</b>: None\n",
       "                        <br/><b>Description</b>: None\n",
       "                        <br/><b>Owner</b>: admin\n",
       "                        <br/><b>Created</b>: December 12, 2018\n",
       "\n",
       "                    </div>\n",
       "                </div>\n",
       "                "
      ],
      "text/plain": [
       "<Group title:\"aec-enterprise-group\" owner:admin>"
      ]
     },
     "execution_count": 41,
     "metadata": {},
     "output_type": "execute_result"
    }
   ],
   "source": [
    "guest_group"
   ]
  },
  {
   "cell_type": "code",
   "execution_count": 42,
   "metadata": {},
   "outputs": [
    {
     "data": {
      "text/plain": [
       "{'success': True}"
      ]
     },
     "execution_count": 42,
     "metadata": {},
     "output_type": "execute_result"
    }
   ],
   "source": [
    "guest_collab.add_group_to_workspace(portal_group=guest_group, workspace=guest_collab.workspaces[0])"
   ]
  },
  {
   "cell_type": "code",
   "execution_count": 43,
   "metadata": {},
   "outputs": [
    {
     "data": {
      "text/plain": [
       "{'success': True}"
      ]
     },
     "execution_count": 43,
     "metadata": {},
     "output_type": "execute_result"
    }
   ],
   "source": [
    "## Accept the collboration response at the host GIS\n",
    "host_collab.import_invitation_response(response_file)"
   ]
  },
  {
   "cell_type": "code",
   "execution_count": 46,
   "metadata": {},
   "outputs": [
    {
     "name": "stdout",
     "output_type": "stream",
     "text": [
      "Collaborations on host GIS:\n",
      "Enterprise + Online\n",
      "collab_One Step Collab\n",
      "-----------------------------\n",
      "Collaborations on guest GIS:\n",
      "Enterprise + Online\n",
      "collab_One Step Collab\n"
     ]
    }
   ],
   "source": [
    "# verify the collaboration\n",
    "print(\"Collaborations on host GIS:\")\n",
    "for collab in host_gis.admin.collaborations.list():\n",
    "    print(collab.name)\n",
    "    \n",
    "print(\"-----------------------------\")\n",
    "print(\"Collaborations on guest GIS:\")\n",
    "for collab in guest_gis.admin.collaborations.list():\n",
    "    print(collab.name)"
   ]
  },
  {
   "cell_type": "code",
   "execution_count": 45,
   "metadata": {},
   "outputs": [
    {
     "data": {
      "text/plain": [
       "True"
      ]
     },
     "execution_count": 45,
     "metadata": {},
     "output_type": "execute_result"
    }
   ],
   "source": [
    "# one-step collaboration alternative\n",
    "host_gis.admin.collaborations.collaborate_with(guest_gis=guest_gis, collaboration_name='One Step Collab',\n",
    "                                               collaboration_description='Data sharing in one step')"
   ]
  },
  {
   "cell_type": "code",
   "execution_count": null,
   "metadata": {},
   "outputs": [],
   "source": []
  }
 ],
 "metadata": {
  "kernelspec": {
   "display_name": "Python 3",
   "language": "python",
   "name": "python3"
  },
  "language_info": {
   "codemirror_mode": {
    "name": "ipython",
    "version": 3
   },
   "file_extension": ".py",
   "mimetype": "text/x-python",
   "name": "python",
   "nbconvert_exporter": "python",
   "pygments_lexer": "ipython3",
   "version": "3.7.1"
  }
 },
 "nbformat": 4,
 "nbformat_minor": 2
}
