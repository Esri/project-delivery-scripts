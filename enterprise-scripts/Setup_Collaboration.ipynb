{
 "cells": [
  {
   "cell_type": "code",
   "execution_count": 20,
   "metadata": {},
   "outputs": [],
   "source": [
    "# variables for the user to input\n",
    "\n",
    "# host organization is the ArcGIS Online Org\n",
    "HOST_URL = \"https://envisioning.maps.arcgis.com\"\n",
    "HOST_USERNAME = \"GBushongENV\"\n",
    "\n",
    "# guest organization is the Enterprise Portal\n",
    "GUEST_URL = \"https://pdoscriptdev.esri.com/portal\"\n",
    "GUEST_USERNAME = \"admin\"\n",
    "\n",
    "# this group in the host org contains items to share or is empty\n",
    "COLLAB_HOST_GROUP = \"TEST-1\"\n",
    "\n",
    "# this group in the guest org contains items to share or is empty\n",
    "COLLAB_GUEST_GROUP = \"aec-enterprise-group\"\n",
    "\n",
    "# this will be the name of the collaboration and the name of the folder created in enterprise\n",
    "COLLAB_NAME = \"Enterprise + Online\"\n",
    "\n",
    "# name of the workspace that the groups will be added to\n",
    "WORKSPACE_NAME = \"Enterprise Workspace\"\n",
    "\n",
    "# description for the collaboration and workspace\n",
    "DESCRIPTION = \"Data sharing sample between Enterprise and Online\"\n",
    "\n",
    "# how many hours from sending the invitation should be valid for (integer)\n",
    "EXPIRATION = 24\n",
    "\n",
    "# host contact info\n",
    "FIRST_NAME = \"Grace\"\n",
    "LAST_NAME = \"Bushong\"\n",
    "EMAIL = \"gbushong@esri.com\"\n",
    "\n",
    "# guest contact info\n",
    "GUEST_FIRST = \"Grace\"\n",
    "GUEST_LAST = \"Bushong\"\n",
    "GUEST_EMAIL = \"gbushong@esri.com\"\n",
    "\n",
    "# local folder to temporarily save invitation and response docs into\n",
    "LOCAL_TMP_DIR = \"/Users/grac9792/Documents/pdo-scripts\""
   ]
  },
  {
   "cell_type": "code",
   "execution_count": 31,
   "metadata": {},
   "outputs": [],
   "source": [
    "# import libraries\n",
    "from arcgis.gis import GIS\n",
    "from arcgis.gis.admin import Collaboration"
   ]
  },
  {
   "cell_type": "code",
   "execution_count": 3,
   "metadata": {},
   "outputs": [
    {
     "name": "stdout",
     "output_type": "stream",
     "text": [
      "Enter password: ········\n",
      "Enter password: ········\n"
     ]
    }
   ],
   "source": [
    "# connect to guest GIS, the ArcGIS Enterprise instance\n",
    "guest_gis = GIS(GUEST_URL, GUEST_USERNAME, verify_cert=False)\n",
    "\n",
    "# connect to host GIS, the new ArcGIS Online instance\n",
    "host_gis = GIS(HOST_URL, HOST_USERNAME)"
   ]
  },
  {
   "cell_type": "markdown",
   "metadata": {},
   "source": [
    "# Create a Collaboration"
   ]
  },
  {
   "cell_type": "code",
   "execution_count": 21,
   "metadata": {},
   "outputs": [
    {
     "data": {
      "text/html": [
       "<div class=\"9item_container\" style=\"height: auto; overflow: hidden; border: 1px solid #cfcfcf; border-radius: 2px; background: #f6fafa; line-height: 1.21429em; padding: 10px;\">\n",
       "                    <div class=\"item_left\" style=\"width: 210px; float: left;\">\n",
       "                       <a href='https://Envisioning.maps.arcgis.com/home/group.html?id=ee213017ab39402fb933d01c8bbe2e87' target='_blank'>\n",
       "                        <img src='https://Envisioning.maps.arcgis.com/home/images/group-no-image.png' class=\"itemThumbnail\">\n",
       "                       </a>\n",
       "                    </div>\n",
       "\n",
       "                    <div class=\"item_right\" style=\"float: none; width: auto; overflow: hidden;\">\n",
       "                        <a href='https://Envisioning.maps.arcgis.com/home/group.html?id=ee213017ab39402fb933d01c8bbe2e87' target='_blank'><b>TEST-1</b>\n",
       "                        </a>\n",
       "                        <br/>\n",
       "                        <br/><b>Summary</b>: To be used for testing aec scripts\n",
       "                        <br/><b>Description</b>: None\n",
       "                        <br/><b>Owner</b>: GBushongENV\n",
       "                        <br/><b>Created</b>: December 07, 2018\n",
       "\n",
       "                    </div>\n",
       "                </div>\n",
       "                "
      ],
      "text/plain": [
       "<Group title:\"TEST-1\" owner:GBushongENV>"
      ]
     },
     "execution_count": 21,
     "metadata": {},
     "output_type": "execute_result"
    }
   ],
   "source": [
    "# search for sample groups in host gis\n",
    "host_group = host_gis.groups.search('title:{}'.format(COLLAB_HOST_GROUP))[0]\n",
    "host_group"
   ]
  },
  {
   "cell_type": "code",
   "execution_count": 22,
   "metadata": {},
   "outputs": [
    {
     "name": "stdout",
     "output_type": "stream",
     "text": [
      "2310456340dd48938656358281013872\n"
     ]
    },
    {
     "data": {
      "text/plain": [
       "{'id': '2310456340dd48938656358281013872',\n",
       " 'name': 'Enterprise + Online',\n",
       " 'description': 'Data sharing sample between Enterprise and Online',\n",
       " 'collaborationHostPortalId': '9F2Q47vO7UfnIjjV',\n",
       " 'config': {'ownerUsername': 'GBushongENV'},\n",
       " 'created': 1544826752000,\n",
       " 'modified': 1544826752000}"
      ]
     },
     "execution_count": 22,
     "metadata": {},
     "output_type": "execute_result"
    }
   ],
   "source": [
    "# create a collaboration\n",
    "host_collab = host_gis.admin.collaborations.create(name=COLLAB_NAME, description=DESCRIPTION,\n",
    "                                                  workspace_name=WORKSPACE_NAME,\n",
    "                                                  workspace_description=DESCRIPTION,\n",
    "                                                  portal_group_id=host_group.id,\n",
    "                                                  host_contact_first_name=FIRST_NAME,\n",
    "                                                  host_contact_last_name=LAST_NAME,\n",
    "                                                  host_contact_email_address=EMAIL,\n",
    "                                                  access_mode='sendAndReceive')\n",
    "collab_id = host_collab['id']\n",
    "print(collab_id)\n",
    "host_collab"
   ]
  },
  {
   "cell_type": "markdown",
   "metadata": {},
   "source": [
    "# Invite participant GIS to the collaboration"
   ]
  },
  {
   "cell_type": "code",
   "execution_count": 23,
   "metadata": {},
   "outputs": [
    {
     "data": {
      "text/plain": [
       "[{'id': '6f37f40119464bac8076fd62e8870d14',\n",
       "  'name': 'Enterprise Workspace',\n",
       "  'description': 'Data sharing sample between Enterprise and Online',\n",
       "  'collaborationId': '2310456340dd48938656358281013872',\n",
       "  'config': {'maxItemSizeInMB': 1024,\n",
       "   'maxReplicationPackageSizeInMB': 5120,\n",
       "   'copyByRefIfCopyFail': True},\n",
       "  'created': 1544826752000,\n",
       "  'modified': 1544826752000,\n",
       "  'lastSyncSuccess': -1,\n",
       "  'participantGroupLinks': [{'portalId': '9F2Q47vO7UfnIjjV',\n",
       "    'portalGroupId': 'ee213017ab39402fb933d01c8bbe2e87',\n",
       "    'portalGroupName': 'TEST-1',\n",
       "    'config': {'enableRealtimeSync': True, 'copyFeatureServiceData': False},\n",
       "    'accessMode': 'sendAndReceive',\n",
       "    'canSyncWorkspace': False}],\n",
       "  'participantsWithoutGroupLinks': []}]"
      ]
     },
     "execution_count": 23,
     "metadata": {},
     "output_type": "execute_result"
    }
   ],
   "source": [
    "# get the list of workspaces available as part of the collaboration\n",
    "host_collab.workspaces"
   ]
  },
  {
   "cell_type": "code",
   "execution_count": 24,
   "metadata": {},
   "outputs": [
    {
     "data": {
      "text/plain": [
       "'/Users/grac9792/Documents/pdo-scripts/collaboration-pdoscriptdev.esri.com.invite'"
      ]
     },
     "execution_count": 24,
     "metadata": {},
     "output_type": "execute_result"
    }
   ],
   "source": [
    "# compose the list of collaboration workspaces and the privileges for each\n",
    "# assume there is only one workspace in the collaboration?\n",
    "config = [{host_collab.workspaces[0]['id']:'sendAndReceive'}]\n",
    "\n",
    "# invite the guest GIS and download the invitation file\n",
    "invite_file = host_collab.invite_participant(config_json=config, expiration=EXPIRATION, \n",
    "                                             guest_portal_url=GUEST_URL,\n",
    "                                             save_path=LOCAL_TMP_DIR)\n",
    "\n",
    "# print the path to the invite file\n",
    "invite_file"
   ]
  },
  {
   "cell_type": "markdown",
   "metadata": {},
   "source": [
    "# Accept the invitation at the participant GIS"
   ]
  },
  {
   "cell_type": "code",
   "execution_count": 25,
   "metadata": {},
   "outputs": [
    {
     "data": {
      "text/plain": [
       "{'success': True}"
      ]
     },
     "execution_count": 25,
     "metadata": {},
     "output_type": "execute_result"
    }
   ],
   "source": [
    "guest_gis.admin.collaborations.accept_invitation(first_name=GUEST_FIRST, last_name=GUEST_LAST,\n",
    "                                                email=GUEST_EMAIL,\n",
    "                                                invitation_file=invite_file)"
   ]
  },
  {
   "cell_type": "code",
   "execution_count": 27,
   "metadata": {},
   "outputs": [
    {
     "data": {
      "text/plain": [
       "[{'id': '0375e108fa4b475390444fa503330843',\n",
       "  'name': 'Enterprise + Online',\n",
       "  'description': 'Data sharing sample between Enterprise and Online',\n",
       "  'collaborationHostPortalId': '9F2Q47vO7UfnIjjV',\n",
       "  'config': {'ownerUsername': 'admin'},\n",
       "  'created': 1544740972900,\n",
       "  'modified': 1544740972900},\n",
       " {'id': 'd6e8af1167bd4137b89ee712d9806cab',\n",
       "  'name': 'Manual Collaboration Test',\n",
       "  'description': 'test',\n",
       "  'collaborationHostPortalId': '9F2Q47vO7UfnIjjV',\n",
       "  'config': {'ownerUsername': 'admin'},\n",
       "  'created': 1544818473149,\n",
       "  'modified': 1544818473149},\n",
       " {'id': '2310456340dd48938656358281013872',\n",
       "  'name': 'Enterprise + Online',\n",
       "  'description': 'Data sharing sample between Enterprise and Online',\n",
       "  'collaborationHostPortalId': '9F2Q47vO7UfnIjjV',\n",
       "  'config': {'ownerUsername': 'admin'},\n",
       "  'created': 1544826860649,\n",
       "  'modified': 1544826860649}]"
      ]
     },
     "execution_count": 27,
     "metadata": {},
     "output_type": "execute_result"
    }
   ],
   "source": [
    "# get the list of collaborations on the guest GIS and pick the one created earlier\n",
    "guest_gis.admin.collaborations.list()"
   ]
  },
  {
   "cell_type": "code",
   "execution_count": 30,
   "metadata": {},
   "outputs": [
    {
     "name": "stdout",
     "output_type": "stream",
     "text": [
      "{'id': '2310456340dd48938656358281013872', 'name': 'Enterprise + Online', 'description': 'Data sharing sample between Enterprise and Online', 'collaborationHostPortalId': '9F2Q47vO7UfnIjjV', 'config': {'ownerUsername': 'admin'}, 'created': 1544826860649, 'modified': 1544826860649}\n"
     ]
    },
    {
     "data": {
      "text/plain": [
       "arcgis.gis.admin._collaboration.Collaboration"
      ]
     },
     "execution_count": 30,
     "metadata": {},
     "output_type": "execute_result"
    }
   ],
   "source": [
    "# assume it's the only collaboration, but might need user to be paying attention here\n",
    "# enterprise can only have one collaboration though, right, so it will be the only collaboration?\n",
    "#guest_collab = guest_gis.admin.collaborations.list()[0]\n",
    "\n",
    "guest_collab = Collaboration(guest_gis.admin.collaborations, collab_id)\n",
    "type(guest_collab)"
   ]
  },
  {
   "cell_type": "markdown",
   "metadata": {},
   "source": [
    "## Export the response file"
   ]
  },
  {
   "cell_type": "code",
   "execution_count": 10,
   "metadata": {},
   "outputs": [
    {
     "data": {
      "text/plain": [
       "'/Users/grac9792/Documents/pdo-scripts/collaboration-pdoscriptdev.esri.com.response'"
      ]
     },
     "execution_count": 10,
     "metadata": {},
     "output_type": "execute_result"
    }
   ],
   "source": [
    "# now export a response file that can be sent back to the host GIS\n",
    "response_file = guest_collab.export_invitation(out_folder=LOCAL_TMP_DIR)\n",
    "response_file"
   ]
  },
  {
   "cell_type": "markdown",
   "metadata": {},
   "source": [
    "# Join a Group to the Collaboration in the guest GIS"
   ]
  },
  {
   "cell_type": "code",
   "execution_count": 11,
   "metadata": {},
   "outputs": [
    {
     "data": {
      "text/plain": [
       "[{'id': '11ed756d6b42422ebf46c125586622a9',\n",
       "  'name': 'Enterprise sharing',\n",
       "  'description': 'Data sharing sample between Enterprise and Online',\n",
       "  'collaborationId': '0375e108fa4b475390444fa503330843',\n",
       "  'config': {'maxItemSizeInMB': 1024,\n",
       "   'maxReplicationPackageSizeInMB': 5120,\n",
       "   'copyByRefIfCopyFail': True},\n",
       "  'created': 1544740973010,\n",
       "  'modified': 1544740973010,\n",
       "  'lastSyncSuccess': -1,\n",
       "  'participantGroupLinks': [{'portalId': '9F2Q47vO7UfnIjjV',\n",
       "    'accessMode': 'sendAndReceive',\n",
       "    'config': {}}],\n",
       "  'participantsWithoutGroupLinks': [{'portalId': '39dde654-828b-4a97-ad02-92e952a33ff9',\n",
       "    'accessMode': 'sendAndReceive',\n",
       "    'config': {}}]}]"
      ]
     },
     "execution_count": 11,
     "metadata": {},
     "output_type": "execute_result"
    }
   ],
   "source": [
    "# first get the list of workspaces in the guest collaboration\n",
    "guest_collab.workspaces"
   ]
  },
  {
   "cell_type": "code",
   "execution_count": 12,
   "metadata": {},
   "outputs": [
    {
     "name": "stdout",
     "output_type": "stream",
     "text": [
      "aec-test-group\n",
      "['aec group']\n",
      "None\n",
      "To be used for testing aec scripts\n",
      "private\n"
     ]
    },
    {
     "data": {
      "text/html": [
       "<div class=\"9item_container\" style=\"height: auto; overflow: hidden; border: 1px solid #cfcfcf; border-radius: 2px; background: #f6fafa; line-height: 1.21429em; padding: 10px;\">\n",
       "                    <div class=\"item_left\" style=\"width: 210px; float: left;\">\n",
       "                       <a href='https://pdoscriptdev.esri.com/portal/home/group.html?id=6ea3e9992afe40bc8716a720fdce97b2' target='_blank'>\n",
       "                        <img src='https://pdoscriptdev.esri.com/portal/home/images/group-no-image.png' class=\"itemThumbnail\">\n",
       "                       </a>\n",
       "                    </div>\n",
       "\n",
       "                    <div class=\"item_right\" style=\"float: none; width: auto; overflow: hidden;\">\n",
       "                        <a href='https://pdoscriptdev.esri.com/portal/home/group.html?id=6ea3e9992afe40bc8716a720fdce97b2' target='_blank'><b>aec-test-group</b>\n",
       "                        </a>\n",
       "                        <br/>\n",
       "                        <br/><b>Summary</b>: To be used for testing aec scripts\n",
       "                        <br/><b>Description</b>: None\n",
       "                        <br/><b>Owner</b>: admin\n",
       "                        <br/><b>Created</b>: December 13, 2018\n",
       "\n",
       "                    </div>\n",
       "                </div>\n",
       "                "
      ],
      "text/plain": [
       "<Group title:\"aec-test-group\" owner:admin>"
      ]
     },
     "execution_count": 12,
     "metadata": {},
     "output_type": "execute_result"
    }
   ],
   "source": [
    "#guest_group = guest_gis.groups.create(title=host_group.title,\n",
    "#                                     tags=host_group.tags,\n",
    "#                                     description=host_group.description,\n",
    "#                                     snippet=host_group.snippet,\n",
    "#                                     access=host_group.access)\n",
    "guest_group = host_gis.groups.search(COLLAB_GUEST_GROUP)[0]\n",
    "guest_group"
   ]
  },
  {
   "cell_type": "code",
   "execution_count": 13,
   "metadata": {},
   "outputs": [
    {
     "data": {
      "text/plain": [
       "{'success': True}"
      ]
     },
     "execution_count": 13,
     "metadata": {},
     "output_type": "execute_result"
    }
   ],
   "source": [
    "# again assuming it's the first workspace\n",
    "guest_collab.add_group_to_workspace(portal_group=guest_group, workspace=guest_collab.workspaces[0])"
   ]
  },
  {
   "cell_type": "markdown",
   "metadata": {},
   "source": [
    "# Accept the collaboration response at the host GIS"
   ]
  },
  {
   "cell_type": "code",
   "execution_count": 14,
   "metadata": {},
   "outputs": [
    {
     "data": {
      "text/plain": [
       "{'success': True}"
      ]
     },
     "execution_count": 14,
     "metadata": {},
     "output_type": "execute_result"
    }
   ],
   "source": [
    "host_collab.import_invitation_response(response_file)"
   ]
  },
  {
   "cell_type": "code",
   "execution_count": 15,
   "metadata": {},
   "outputs": [
    {
     "name": "stdout",
     "output_type": "stream",
     "text": [
      "Collaborations on host GIS:\n",
      "Enterprise + Online\n",
      "-----------------------------\n",
      "Collaborations on guest GIS:\n",
      "Enterprise + Online\n"
     ]
    }
   ],
   "source": [
    "# verify the collaboration\n",
    "print(\"Collaborations on host GIS:\")\n",
    "for collab in host_gis.admin.collaborations.list():\n",
    "    print(collab.name)\n",
    "    \n",
    "print(\"-----------------------------\")\n",
    "print(\"Collaborations on guest GIS:\")\n",
    "for collab in guest_gis.admin.collaborations.list():\n",
    "    print(collab.name)"
   ]
  },
  {
   "cell_type": "code",
   "execution_count": null,
   "metadata": {},
   "outputs": [],
   "source": []
  }
 ],
 "metadata": {
  "kernelspec": {
   "display_name": "Python 3",
   "language": "python",
   "name": "python3"
  },
  "language_info": {
   "codemirror_mode": {
    "name": "ipython",
    "version": 3
   },
   "file_extension": ".py",
   "mimetype": "text/x-python",
   "name": "python",
   "nbconvert_exporter": "python",
   "pygments_lexer": "ipython3",
   "version": "3.7.1"
  }
 },
 "nbformat": 4,
 "nbformat_minor": 2
}
