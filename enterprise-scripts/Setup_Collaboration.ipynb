{
 "cells": [
  {
   "cell_type": "code",
   "execution_count": 1,
   "metadata": {},
   "outputs": [],
   "source": [
    "# Global Variables Set by User **change these values before running script**\n",
    "\n",
    "# host organization is the ArcGIS Online Org - needs to be admin account\n",
    "HOST_URL = \"https://ps-cc.maps.arcgis.com\"\n",
    "HOST_USERNAME = \"gbushong_PS_CC\"\n",
    "\n",
    "# guest organization is the Enterprise Portal - needs to be admin account\n",
    "GUEST_URL = \"https://amicaent.esri.com/portal\"\n",
    "GUEST_USERNAME = \"admin\"\n",
    "\n",
    "# this group in the host org contains items to share in the collaboration or is empty\n",
    "# this should be empty most of the time\n",
    "HOST_GROUP_ID = \"6fd586038d76406594d72ed2cb348e41\" #aec-test-group\n",
    "\n",
    "# this group in the guest org contains items to share in the collaboration or is empty\n",
    "GUEST_GROUP_ID = \"c14c069f2b9a4f72905c49e28373394d\" #aec-enterprise-group\n",
    "\n",
    "# this will be the name of the collaboration and the name of the folder created in enterprise\n",
    "COLLAB_NAME = \"Enterprise + Online\"\n",
    "\n",
    "# name of the workspace that the groups will be added to\n",
    "WORKSPACE_NAME = \"Enterprise Workspace\"\n",
    "\n",
    "# description for the collaboration and workspace\n",
    "DESCRIPTION = \"Data sharing sample between Enterprise and Online\"\n",
    "\n",
    "# host contact info\n",
    "HOST_FIRST = \"Joe\"\n",
    "HOST_LAST = \"Smith\"\n",
    "HOST_EMAIL = \"jsmith@sample.com\"\n",
    "\n",
    "# guest contact info\n",
    "GUEST_FIRST = \"Judy\"\n",
    "GUEST_LAST = \"Smith\"\n",
    "GUEST_EMAIL = \"jsmith1@sample.com\"\n",
    "\n",
    "# local folder to temporarily save invitation and response docs into\n",
    "LOCAL_TMP_DIR = \"/Users/grac9792/OneDrive - Esri/pdo-scripts\""
   ]
  },
  {
   "cell_type": "code",
   "execution_count": 2,
   "metadata": {},
   "outputs": [],
   "source": [
    "# import libraries\n",
    "from arcgis.gis import GIS\n",
    "from arcgis.gis import Group\n",
    "from arcgis.gis.admin import Collaboration"
   ]
  },
  {
   "cell_type": "code",
   "execution_count": 3,
   "metadata": {},
   "outputs": [
    {
     "name": "stdout",
     "output_type": "stream",
     "text": [
      "Connecting to https://ps-cc.maps.arcgis.com with username gbushong_PS_CC...\n",
      "Enter password: ········\n",
      "Connecting to https://amicaent.esri.com/portal with username admin...\n",
      "Enter password: ········\n"
     ]
    }
   ],
   "source": [
    "# connect to host GIS, the new ArcGIS Online instance\n",
    "print(\"Connecting to {} with username {}...\".format(HOST_URL, HOST_USERNAME))\n",
    "host_gis = GIS(HOST_URL, HOST_USERNAME)\n",
    "\n",
    "# connect to guest GIS, the ArcGIS Enterprise instance\n",
    "print(\"Connecting to {} with username {}...\".format(GUEST_URL, GUEST_USERNAME))\n",
    "guest_gis = GIS(GUEST_URL, GUEST_USERNAME, verify_cert=False)"
   ]
  },
  {
   "cell_type": "code",
   "execution_count": 4,
   "metadata": {},
   "outputs": [
    {
     "data": {
      "text/html": [
       "<div class=\"9item_container\" style=\"height: auto; overflow: hidden; border: 1px solid #cfcfcf; border-radius: 2px; background: #f6fafa; line-height: 1.21429em; padding: 10px;\">\n",
       "                    <div class=\"item_left\" style=\"width: 210px; float: left;\">\n",
       "                       <a href='https://PS-CC.maps.arcgis.com/home/group.html?id=6fd586038d76406594d72ed2cb348e41' target='_blank'>\n",
       "                        <img src='https://PS-CC.maps.arcgis.com/home/images/group-no-image.png' class=\"itemThumbnail\">\n",
       "                       </a>\n",
       "                    </div>\n",
       "\n",
       "                    <div class=\"item_right\" style=\"float: none; width: auto; overflow: hidden;\">\n",
       "                        <a href='https://PS-CC.maps.arcgis.com/home/group.html?id=6fd586038d76406594d72ed2cb348e41' target='_blank'><b>PDO Test Group</b>\n",
       "                        </a>\n",
       "                        <br/>\n",
       "                        <br/><b>Summary</b>: None\n",
       "                        <br/><b>Description</b>: None\n",
       "                        <br/><b>Owner</b>: gbushong_PS_CC\n",
       "                        <br/><b>Created</b>: June 08, 2021\n",
       "\n",
       "                    </div>\n",
       "                </div>\n",
       "                "
      ],
      "text/plain": [
       "<Group title:\"PDO Test Group\" owner:gbushong_PS_CC>"
      ]
     },
     "execution_count": 4,
     "metadata": {},
     "output_type": "execute_result"
    }
   ],
   "source": [
    "# search for sharing groups in host gis\n",
    "host_group = Group(host_gis, HOST_GROUP_ID)\n",
    "host_group"
   ]
  },
  {
   "cell_type": "code",
   "execution_count": 5,
   "metadata": {},
   "outputs": [
    {
     "data": {
      "text/plain": [
       "{'id': '556b362c106248f49233437d36275bee',\n",
       " 'name': 'Enterprise + Online',\n",
       " 'description': 'Data sharing sample between Enterprise and Online',\n",
       " 'collaborationHostPortalId': 'dOFzdrPdRgtU4fRo',\n",
       " 'config': {'ownerUsername': 'gbushong_PS_CC'},\n",
       " 'created': 1625778530000,\n",
       " 'modified': 1625778530000}"
      ]
     },
     "execution_count": 5,
     "metadata": {},
     "output_type": "execute_result"
    }
   ],
   "source": [
    "# create a collaboration\n",
    "host_collab = host_gis.admin.collaborations.create(name=COLLAB_NAME, description=DESCRIPTION,\n",
    "                                                  workspace_name=WORKSPACE_NAME,\n",
    "                                                  workspace_description=DESCRIPTION,\n",
    "                                                  portal_group_id=host_group.id,\n",
    "                                                  host_contact_first_name=HOST_FIRST,\n",
    "                                                  host_contact_last_name=HOST_LAST,\n",
    "                                                  host_contact_email_address=HOST_EMAIL,\n",
    "                                                  access_mode='sendAndReceive')\n",
    "\n",
    "collab_id = host_collab['id']\n",
    "host_collab"
   ]
  },
  {
   "cell_type": "code",
   "execution_count": 6,
   "metadata": {},
   "outputs": [
    {
     "data": {
      "text/plain": [
       "'/Users/grac9792/OneDrive - Esri/pdo-scripts/collaboration-amicaent.esri.com.invite'"
      ]
     },
     "execution_count": 6,
     "metadata": {},
     "output_type": "execute_result"
    }
   ],
   "source": [
    "# set privileges for the new workspace in the new collaboration\n",
    "config = [{host_collab.workspaces[0]['id']:'sendAndReceive'}]\n",
    "\n",
    "# invite the guest GIS to the collaboration and download the invitation file\n",
    "invite_file = host_collab.invite_participant(config_json=config, expiration=24, \n",
    "                                             guest_portal_url=GUEST_URL,\n",
    "                                             save_path=LOCAL_TMP_DIR)\n",
    "\n",
    "# print the path to the invite file\n",
    "invite_file"
   ]
  },
  {
   "cell_type": "code",
   "execution_count": 7,
   "metadata": {},
   "outputs": [
    {
     "data": {
      "text/plain": [
       "{'success': True}"
      ]
     },
     "execution_count": 7,
     "metadata": {},
     "output_type": "execute_result"
    }
   ],
   "source": [
    "# accept the invitation at the participant GIS\n",
    "guest_gis.admin.collaborations.accept_invitation(first_name=GUEST_FIRST, last_name=GUEST_LAST,\n",
    "                                                 email=GUEST_EMAIL,\n",
    "                                                 invitation_file=invite_file)"
   ]
  },
  {
   "cell_type": "code",
   "execution_count": 8,
   "metadata": {},
   "outputs": [
    {
     "data": {
      "text/plain": [
       "arcgis.gis.admin._collaboration.Collaboration"
      ]
     },
     "execution_count": 8,
     "metadata": {},
     "output_type": "execute_result"
    }
   ],
   "source": [
    "# get the correct guest collaboration based off shared collaboration id\n",
    "guest_collab = Collaboration(guest_gis.admin.collaborations, collab_id)\n",
    "type(guest_collab)"
   ]
  },
  {
   "cell_type": "code",
   "execution_count": 9,
   "metadata": {},
   "outputs": [
    {
     "data": {
      "text/plain": [
       "{'success': True}"
      ]
     },
     "execution_count": 9,
     "metadata": {},
     "output_type": "execute_result"
    }
   ],
   "source": [
    "# now export a response file that can be sent back to the host GIS\n",
    "response_file = guest_collab.export_invitation(out_folder=LOCAL_TMP_DIR)\n",
    "response_file\n",
    "\n",
    "# accept the collaboration response at the host GIS\n",
    "host_collab.import_invitation_response(response_file)"
   ]
  },
  {
   "cell_type": "code",
   "execution_count": 10,
   "metadata": {},
   "outputs": [
    {
     "name": "stdout",
     "output_type": "stream",
     "text": [
      "a3bfd7fb-3f7a-46b6-a6e6-2b3b4010e0e2\n",
      "dOFzdrPdRgtU4fRo\n"
     ]
    },
    {
     "data": {
      "text/html": [
       "<div class=\"9item_container\" style=\"height: auto; overflow: hidden; border: 1px solid #cfcfcf; border-radius: 2px; background: #f6fafa; line-height: 1.21429em; padding: 10px;\">\n",
       "                    <div class=\"item_left\" style=\"width: 210px; float: left;\">\n",
       "                       <a href='https://amicaent.esri.com/portal/home/group.html?id=c14c069f2b9a4f72905c49e28373394d' target='_blank'>\n",
       "                        <img src='https://amicaent.esri.com/portal/home/images/group-no-image.png' class=\"itemThumbnail\">\n",
       "                       </a>\n",
       "                    </div>\n",
       "\n",
       "                    <div class=\"item_right\" style=\"float: none; width: auto; overflow: hidden;\">\n",
       "                        <a href='https://amicaent.esri.com/portal/home/group.html?id=c14c069f2b9a4f72905c49e28373394d' target='_blank'><b>PDO Test Group</b>\n",
       "                        </a>\n",
       "                        <br/>\n",
       "                        <br/><b>Summary</b>: None\n",
       "                        <br/><b>Description</b>: None\n",
       "                        <br/><b>Owner</b>: admin\n",
       "                        <br/><b>Created</b>: June 11, 2021\n",
       "\n",
       "                    </div>\n",
       "                </div>\n",
       "                "
      ],
      "text/plain": [
       "<Group title:\"PDO Test Group\" owner:admin>"
      ]
     },
     "execution_count": 10,
     "metadata": {},
     "output_type": "execute_result"
    }
   ],
   "source": [
    "# get guest portal id\n",
    "guest_portal_id = guest_collab.workspaces[0]['participantsWithoutGroupLinks'][0]['portalId']\n",
    "print(guest_portal_id)\n",
    "\n",
    "host_portal_id = guest_collab.workspaces[0]['participantGroupLinks'][0]['portalId']\n",
    "print(host_portal_id)\n",
    "\n",
    "# find the guest groups to add to collaboration workspace\n",
    "guest_group = Group(guest_gis, GUEST_GROUP_ID)\n",
    "guest_group"
   ]
  },
  {
   "cell_type": "code",
   "execution_count": 11,
   "metadata": {},
   "outputs": [
    {
     "data": {
      "text/plain": [
       "'dOFzdrPdRgtU4fRo'"
      ]
     },
     "execution_count": 11,
     "metadata": {},
     "output_type": "execute_result"
    }
   ],
   "source": [
    "# join a group from the guest GIS to the collaboration\n",
    "guest_collab.add_group_to_workspace(portal_group=guest_group, workspace=guest_collab.workspaces[0])\n",
    "\n",
    "# get workspace ID\n",
    "workspace_id = guest_collab.workspaces[0]['id']\n",
    "\n",
    "# get portal ID\n",
    "host_portal_id = guest_collab['collaborationHostPortalId']\n",
    "host_portal_id"
   ]
  },
  {
   "cell_type": "code",
   "execution_count": 12,
   "metadata": {},
   "outputs": [
    {
     "name": "stdout",
     "output_type": "stream",
     "text": [
      "Collaborations on host GIS:\n",
      "EOC\n",
      "Trucking-PSCC\n",
      "Enterprise + Online\n",
      "-----------------------------\n",
      "Collaborations on guest GIS:\n",
      "collab_Enterprise + Online\n",
      "Enterprise + Online\n",
      "Enterprise + Online\n"
     ]
    }
   ],
   "source": [
    "# verify the collaboration\n",
    "print(\"Collaborations on host GIS:\")\n",
    "for collab in host_gis.admin.collaborations.list():\n",
    "    print(collab.name)\n",
    "    \n",
    "print(\"-----------------------------\")\n",
    "print(\"Collaborations on guest GIS:\")\n",
    "for collab in guest_gis.admin.collaborations.list():\n",
    "    print(collab.name)"
   ]
  },
  {
   "cell_type": "code",
   "execution_count": null,
   "metadata": {},
   "outputs": [],
   "source": []
  }
 ],
 "metadata": {
  "kernelspec": {
   "display_name": "Python 3",
   "language": "python",
   "name": "python3"
  },
  "language_info": {
   "codemirror_mode": {
    "name": "ipython",
    "version": 3
   },
   "file_extension": ".py",
   "mimetype": "text/x-python",
   "name": "python",
   "nbconvert_exporter": "python",
   "pygments_lexer": "ipython3",
   "version": "3.6.8"
  }
 },
 "nbformat": 4,
 "nbformat_minor": 2
}
