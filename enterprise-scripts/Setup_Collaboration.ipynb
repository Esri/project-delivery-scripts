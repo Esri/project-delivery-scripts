{
 "cells": [
  {
   "cell_type": "code",
   "execution_count": 1,
   "metadata": {},
   "outputs": [],
   "source": [
    "# Global Variables Set by User **change these values before running script**\n",
    "\n",
    "# host organization is the ArcGIS Online Org\n",
    "HOST_URL = \"https://envisioning.maps.arcgis.com\"\n",
    "HOST_USERNAME = \"GBushongENV\"\n",
    "\n",
    "# guest organization is the Enterprise Portal\n",
    "GUEST_URL = \"https://pdoscriptdev.esri.com/portal\"\n",
    "GUEST_USERNAME = \"admin\"\n",
    "\n",
    "# this group in the host org contains items to share or is empty\n",
    "HOST_GROUP_ID = \"4d7ff4f81d6340428ef290b7de801204\"\n",
    "\n",
    "# this group in the guest org contains items to share or is empty\n",
    "GUEST_GROUP_ID = \"51b8c8ec928e4a1bba1f801395796880\"\n",
    "\n",
    "# this will be the name of the collaboration and the name of the folder created in enterprise\n",
    "COLLAB_NAME = \"Enterprise + Online\"\n",
    "\n",
    "# name of the workspace that the groups will be added to\n",
    "WORKSPACE_NAME = \"Enterprise Workspace\"\n",
    "\n",
    "# description for the collaboration and workspace\n",
    "DESCRIPTION = \"Data sharing sample between Enterprise and Online\"\n",
    "\n",
    "# how many hours from sending the invitation should be valid for (integer)\n",
    "EXPIRATION = 24\n",
    "\n",
    "# host contact info\n",
    "FIRST_NAME = \"Grace\"\n",
    "LAST_NAME = \"Bushong\"\n",
    "EMAIL = \"gbushong@esri.com\"\n",
    "\n",
    "# guest contact info\n",
    "GUEST_FIRST = \"Grace\"\n",
    "GUEST_LAST = \"Bushong\"\n",
    "GUEST_EMAIL = \"gbushong@esri.com\"\n",
    "\n",
    "# local folder to temporarily save invitation and response docs into\n",
    "LOCAL_TMP_DIR = \"/Users/grac9792/Documents/pdo-scripts\"\n",
    "\n",
    "# sync variables\n",
    "# if this is true the group content will be shared whenever changes are made, if it is false\n",
    "# group content will be shared on a set schedule determined by interval\n",
    "REALTIME = False\n",
    "\n",
    "# if Realtime is false, this determines how frequently (in hours) the group will share\n",
    "INTERVAL = 1"
   ]
  },
  {
   "cell_type": "code",
   "execution_count": 2,
   "metadata": {},
   "outputs": [],
   "source": [
    "# import libraries\n",
    "from arcgis.gis import GIS\n",
    "from arcgis.gis import Group\n",
    "from arcgis.gis.admin import Collaboration"
   ]
  },
  {
   "cell_type": "code",
   "execution_count": 3,
   "metadata": {},
   "outputs": [
    {
     "name": "stdout",
     "output_type": "stream",
     "text": [
      "Connecting to https://envisioning.maps.arcgis.com with username GBushongENV...\n",
      "Enter password: ········\n",
      "Connecting to https://pdoscriptdev.esri.com/portal with username admin...\n",
      "Enter password: ········\n"
     ]
    }
   ],
   "source": [
    "# connect to host GIS, the new ArcGIS Online instance\n",
    "print(\"Connecting to {} with username {}...\".format(HOST_URL, HOST_USERNAME))\n",
    "host_gis = GIS(HOST_URL, HOST_USERNAME)\n",
    "\n",
    "# connect to guest GIS, the ArcGIS Enterprise instance\n",
    "print(\"Connecting to {} with username {}...\".format(GUEST_URL, GUEST_USERNAME))\n",
    "guest_gis = GIS(GUEST_URL, GUEST_USERNAME, verify_cert=False)"
   ]
  },
  {
   "cell_type": "code",
   "execution_count": 4,
   "metadata": {},
   "outputs": [
    {
     "data": {
      "text/html": [
       "<div class=\"9item_container\" style=\"height: auto; overflow: hidden; border: 1px solid #cfcfcf; border-radius: 2px; background: #f6fafa; line-height: 1.21429em; padding: 10px;\">\n",
       "                    <div class=\"item_left\" style=\"width: 210px; float: left;\">\n",
       "                       <a href='https://Envisioning.maps.arcgis.com/home/group.html?id=4d7ff4f81d6340428ef290b7de801204' target='_blank'>\n",
       "                        <img src='https://Envisioning.maps.arcgis.com/home/images/group-no-image.png' class=\"itemThumbnail\">\n",
       "                       </a>\n",
       "                    </div>\n",
       "\n",
       "                    <div class=\"item_right\" style=\"float: none; width: auto; overflow: hidden;\">\n",
       "                        <a href='https://Envisioning.maps.arcgis.com/home/group.html?id=4d7ff4f81d6340428ef290b7de801204' target='_blank'><b>aec-test-group</b>\n",
       "                        </a>\n",
       "                        <br/>\n",
       "                        <br/><b>Summary</b>: To be used for testing aec scripts\n",
       "                        <br/><b>Description</b>: None\n",
       "                        <br/><b>Owner</b>: GBushongENV\n",
       "                        <br/><b>Created</b>: November 27, 2018\n",
       "\n",
       "                    </div>\n",
       "                </div>\n",
       "                "
      ],
      "text/plain": [
       "<Group title:\"aec-test-group\" owner:GBushongENV>"
      ]
     },
     "execution_count": 4,
     "metadata": {},
     "output_type": "execute_result"
    }
   ],
   "source": [
    "# search for sharing groups in host gis\n",
    "host_group = Group(host_gis, HOST_GROUP_ID)\n",
    "host_group"
   ]
  },
  {
   "cell_type": "code",
   "execution_count": 5,
   "metadata": {},
   "outputs": [
    {
     "data": {
      "text/plain": [
       "{'id': 'bdccdebf779c4d42b7bee4169b1d324c',\n",
       " 'name': 'Enterprise + Online',\n",
       " 'description': 'Data sharing sample between Enterprise and Online',\n",
       " 'collaborationHostPortalId': '9F2Q47vO7UfnIjjV',\n",
       " 'config': {'ownerUsername': 'GBushongENV'},\n",
       " 'created': 1545251772000,\n",
       " 'modified': 1545251772000}"
      ]
     },
     "execution_count": 5,
     "metadata": {},
     "output_type": "execute_result"
    }
   ],
   "source": [
    "# create a collaboration\n",
    "host_collab = host_gis.admin.collaborations.create(name=COLLAB_NAME, description=DESCRIPTION,\n",
    "                                                  workspace_name=WORKSPACE_NAME,\n",
    "                                                  workspace_description=DESCRIPTION,\n",
    "                                                  portal_group_id=host_group.id,\n",
    "                                                  host_contact_first_name=FIRST_NAME,\n",
    "                                                  host_contact_last_name=LAST_NAME,\n",
    "                                                  host_contact_email_address=EMAIL,\n",
    "                                                  access_mode='sendAndReceive')\n",
    "\n",
    "collab_id = host_collab['id']\n",
    "host_collab"
   ]
  },
  {
   "cell_type": "code",
   "execution_count": 6,
   "metadata": {},
   "outputs": [
    {
     "data": {
      "text/plain": [
       "'/Users/grac9792/Documents/pdo-scripts/collaboration-pdoscriptdev.esri.com.invite'"
      ]
     },
     "execution_count": 6,
     "metadata": {},
     "output_type": "execute_result"
    }
   ],
   "source": [
    "# set privileges for the new workspace in the new collaboration\n",
    "config = [{host_collab.workspaces[0]['id']:'sendAndReceive'}]\n",
    "\n",
    "# invite the guest GIS to the collaboration and download the invitation file\n",
    "invite_file = host_collab.invite_participant(config_json=config, expiration=EXPIRATION, \n",
    "                                             guest_portal_url=GUEST_URL,\n",
    "                                             save_path=LOCAL_TMP_DIR)\n",
    "\n",
    "# print the path to the invite file\n",
    "invite_file"
   ]
  },
  {
   "cell_type": "code",
   "execution_count": 7,
   "metadata": {},
   "outputs": [
    {
     "data": {
      "text/plain": [
       "{'success': True}"
      ]
     },
     "execution_count": 7,
     "metadata": {},
     "output_type": "execute_result"
    }
   ],
   "source": [
    "# accept the invitation at the participant GIS\n",
    "guest_gis.admin.collaborations.accept_invitation(first_name=GUEST_FIRST, last_name=GUEST_LAST,\n",
    "                                                email=GUEST_EMAIL,\n",
    "                                                invitation_file=invite_file)"
   ]
  },
  {
   "cell_type": "code",
   "execution_count": 8,
   "metadata": {},
   "outputs": [
    {
     "data": {
      "text/plain": [
       "arcgis.gis.admin._collaboration.Collaboration"
      ]
     },
     "execution_count": 8,
     "metadata": {},
     "output_type": "execute_result"
    }
   ],
   "source": [
    "# get the correct guest collaboration based off shared collaboration id\n",
    "guest_collab = Collaboration(guest_gis.admin.collaborations, collab_id)\n",
    "type(guest_collab)"
   ]
  },
  {
   "cell_type": "code",
   "execution_count": 9,
   "metadata": {},
   "outputs": [
    {
     "data": {
      "text/plain": [
       "'/Users/grac9792/Documents/pdo-scripts/collaboration-pdoscriptdev.esri.com.response'"
      ]
     },
     "execution_count": 9,
     "metadata": {},
     "output_type": "execute_result"
    }
   ],
   "source": [
    "# now export a response file that can be sent back to the host GIS\n",
    "response_file = guest_collab.export_invitation(out_folder=LOCAL_TMP_DIR)\n",
    "response_file"
   ]
  },
  {
   "cell_type": "code",
   "execution_count": 10,
   "metadata": {},
   "outputs": [
    {
     "name": "stdout",
     "output_type": "stream",
     "text": [
      "39dde654-828b-4a97-ad02-92e952a33ff9\n",
      "9F2Q47vO7UfnIjjV\n"
     ]
    },
    {
     "data": {
      "text/html": [
       "<div class=\"9item_container\" style=\"height: auto; overflow: hidden; border: 1px solid #cfcfcf; border-radius: 2px; background: #f6fafa; line-height: 1.21429em; padding: 10px;\">\n",
       "                    <div class=\"item_left\" style=\"width: 210px; float: left;\">\n",
       "                       <a href='https://pdoscriptdev.esri.com/portal/home/group.html?id=51b8c8ec928e4a1bba1f801395796880' target='_blank'>\n",
       "                        <img src='https://pdoscriptdev.esri.com/portal/home/images/group-no-image.png' class=\"itemThumbnail\">\n",
       "                       </a>\n",
       "                    </div>\n",
       "\n",
       "                    <div class=\"item_right\" style=\"float: none; width: auto; overflow: hidden;\">\n",
       "                        <a href='https://pdoscriptdev.esri.com/portal/home/group.html?id=51b8c8ec928e4a1bba1f801395796880' target='_blank'><b>aec-enterprise-group</b>\n",
       "                        </a>\n",
       "                        <br/>\n",
       "                        <br/><b>Summary</b>: None\n",
       "                        <br/><b>Description</b>: None\n",
       "                        <br/><b>Owner</b>: admin\n",
       "                        <br/><b>Created</b>: December 12, 2018\n",
       "\n",
       "                    </div>\n",
       "                </div>\n",
       "                "
      ],
      "text/plain": [
       "<Group title:\"aec-enterprise-group\" owner:admin>"
      ]
     },
     "execution_count": 10,
     "metadata": {},
     "output_type": "execute_result"
    }
   ],
   "source": [
    "# get guest portal id\n",
    "guest_portal_id = guest_collab.workspaces[0]['participantsWithoutGroupLinks'][0]['portalId']\n",
    "print(guest_portal_id)\n",
    "\n",
    "host_portal_id = guest_collab.workspaces[0]['participantGroupLinks'][0]['portalId']\n",
    "print(host_portal_id)\n",
    "\n",
    "# find the guest groups to add to collaboration workspace\n",
    "guest_group = Group(guest_gis, GUEST_GROUP_ID)\n",
    "guest_group"
   ]
  },
  {
   "cell_type": "code",
   "execution_count": 11,
   "metadata": {},
   "outputs": [
    {
     "name": "stdout",
     "output_type": "stream",
     "text": [
      "[{'id': 'b811112503374161b85474168c48db24', 'name': 'Enterprise Workspace', 'description': 'Data sharing sample between Enterprise and Online', 'collaborationId': 'bdccdebf779c4d42b7bee4169b1d324c', 'config': {'maxItemSizeInMB': 1024, 'maxReplicationPackageSizeInMB': 5120, 'copyByRefIfCopyFail': True}, 'created': 1545251776714, 'modified': 1545251776714, 'lastSyncSuccess': -1, 'participantGroupLinks': [{'portalId': '9F2Q47vO7UfnIjjV', 'accessMode': 'sendAndReceive', 'config': {}}], 'participantsWithoutGroupLinks': [{'portalId': '39dde654-828b-4a97-ad02-92e952a33ff9', 'accessMode': 'sendAndReceive', 'config': {}}]}]\n"
     ]
    },
    {
     "data": {
      "text/plain": [
       "[{'id': 'b811112503374161b85474168c48db24',\n",
       "  'name': 'Enterprise Workspace',\n",
       "  'description': 'Data sharing sample between Enterprise and Online',\n",
       "  'collaborationId': 'bdccdebf779c4d42b7bee4169b1d324c',\n",
       "  'config': {'maxItemSizeInMB': 1024,\n",
       "   'maxReplicationPackageSizeInMB': 5120,\n",
       "   'copyByRefIfCopyFail': True},\n",
       "  'created': 1545251772000,\n",
       "  'modified': 1545251772000,\n",
       "  'lastSyncSuccess': -1,\n",
       "  'participantGroupLinks': [{'portalId': '9F2Q47vO7UfnIjjV',\n",
       "    'portalGroupId': '4d7ff4f81d6340428ef290b7de801204',\n",
       "    'portalGroupName': 'aec-test-group',\n",
       "    'config': {'enableRealtimeSync': True, 'copyFeatureServiceData': False},\n",
       "    'accessMode': 'sendAndReceive',\n",
       "    'canSyncWorkspace': False}],\n",
       "  'participantsWithoutGroupLinks': []}]"
      ]
     },
     "execution_count": 11,
     "metadata": {},
     "output_type": "execute_result"
    }
   ],
   "source": [
    "print(guest_collab.workspaces)\n",
    "host_collab.workspaces"
   ]
  },
  {
   "cell_type": "code",
   "execution_count": 12,
   "metadata": {},
   "outputs": [
    {
     "data": {
      "text/plain": [
       "'9F2Q47vO7UfnIjjV'"
      ]
     },
     "execution_count": 12,
     "metadata": {},
     "output_type": "execute_result"
    }
   ],
   "source": [
    "# join a group from the guest GIS to the collaboration\n",
    "guest_collab.add_group_to_workspace(portal_group=guest_group, workspace=guest_collab.workspaces[0])\n",
    "\n",
    "# get workspace ID\n",
    "workspace_id = guest_collab.workspaces[0]['id']\n",
    "\n",
    "# get portal ID\n",
    "host_portal_id = guest_collab['collaborationHostPortalId']\n",
    "host_portal_id"
   ]
  },
  {
   "cell_type": "code",
   "execution_count": 13,
   "metadata": {},
   "outputs": [
    {
     "data": {
      "text/plain": [
       "{'success': True}"
      ]
     },
     "execution_count": 13,
     "metadata": {},
     "output_type": "execute_result"
    }
   ],
   "source": [
    "# accept the collaboration response at the host GIS\n",
    "host_collab.import_invitation_response(response_file)"
   ]
  },
  {
   "cell_type": "code",
   "execution_count": 14,
   "metadata": {},
   "outputs": [
    {
     "name": "stdout",
     "output_type": "stream",
     "text": [
      "Workspace ID: b811112503374161b85474168c48db24\n",
      "Host Portal ID: 9F2Q47vO7UfnIjjV\n",
      "Guest Portal ID: 39dde654-828b-4a97-ad02-92e952a33ff9\n",
      "Guest Collab Object: {'id': 'bdccdebf779c4d42b7bee4169b1d324c', 'name': 'Enterprise + Online', 'description': 'Data sharing sample between Enterprise and Online', 'collaborationHostPortalId': '9F2Q47vO7UfnIjjV', 'config': {'ownerUsername': 'admin'}, 'created': 1545251776346, 'modified': 1545251776346}\n",
      "Guest Collab Workspace: {'id': 'b811112503374161b85474168c48db24', 'name': 'Enterprise Workspace', 'description': 'Data sharing sample between Enterprise and Online', 'collaborationId': 'bdccdebf779c4d42b7bee4169b1d324c', 'config': {'maxItemSizeInMB': 1024, 'maxReplicationPackageSizeInMB': 5120, 'copyByRefIfCopyFail': True}, 'created': 1545251776714, 'modified': 1545251776714, 'lastSyncSuccess': -1, 'participantGroupLinks': [{'portalId': '9F2Q47vO7UfnIjjV', 'accessMode': 'sendAndReceive', 'config': {}}], 'participantsWithoutGroupLinks': [{'portalId': '39dde654-828b-4a97-ad02-92e952a33ff9', 'accessMode': 'sendAndReceive', 'config': {}}]}\n"
     ]
    },
    {
     "data": {
      "text/plain": [
       "{'success': True}"
      ]
     },
     "execution_count": 14,
     "metadata": {},
     "output_type": "execute_result"
    }
   ],
   "source": [
    "# set the sharing schedule from the guest GIS\n",
    "\n",
    "# printing variables to make sure they are correct\n",
    "print(\"Workspace ID: {}\".format(workspace_id))\n",
    "print(\"Host Portal ID: {}\".format(host_portal_id))\n",
    "print(\"Guest Portal ID: {}\".format(guest_portal_id))\n",
    "print(\"Guest Collab Object: {}\".format(guest_collab))\n",
    "print(\"Guest Collab Workspace: {}\".format(guest_collab.workspaces[0]))\n",
    "\n",
    "# this works, but the documentation says all the arguments are optional and the function requires all of them\n",
    "guest_collab.update_collaboration(name=\"Enterprise + Online\", description=DESCRIPTION, config={'ownerUsername': HOST_USERNAME})"
   ]
  },
  {
   "cell_type": "code",
   "execution_count": null,
   "metadata": {},
   "outputs": [],
   "source": [
    "# Update Workspace gives an error where it looks like it's not finding the collaboration ID\n",
    "# the workspace_id is the only required argument according to the documentation, but I tried it with\n",
    "# all the args as well\n",
    "#guest_collab.update_workspace(workspace_id)\n",
    "guest_collab.update_workspace(workspace_id, name=WORKSPACE_NAME, description=DESCRIPTION, config={'enableRealtimeSync':True})\n",
    "\n",
    "# This function just gives an error that says invalid URL so I assume that has to do with the\n",
    "# workspace ID or the Guest Portal ID as those are part of the REST query url\n",
    "guest_collab.update_portal_group_link(workspace_id, guest_portal_id)"
   ]
  },
  {
   "cell_type": "code",
   "execution_count": 13,
   "metadata": {},
   "outputs": [
    {
     "name": "stdout",
     "output_type": "stream",
     "text": [
      "Collaborations on host GIS:\n",
      "Enterprise + Online\n",
      "-----------------------------\n",
      "Collaborations on guest GIS:\n",
      "Enterprise + Online\n"
     ]
    }
   ],
   "source": [
    "# verify the collaboration\n",
    "print(\"Collaborations on host GIS:\")\n",
    "for collab in host_gis.admin.collaborations.list():\n",
    "    print(collab.name)\n",
    "    \n",
    "print(\"-----------------------------\")\n",
    "print(\"Collaborations on guest GIS:\")\n",
    "for collab in guest_gis.admin.collaborations.list():\n",
    "    print(collab.name)"
   ]
  },
  {
   "cell_type": "code",
   "execution_count": null,
   "metadata": {},
   "outputs": [],
   "source": []
  }
 ],
 "metadata": {
  "kernelspec": {
   "display_name": "Python 3",
   "language": "python",
   "name": "python3"
  },
  "language_info": {
   "codemirror_mode": {
    "name": "ipython",
    "version": 3
   },
   "file_extension": ".py",
   "mimetype": "text/x-python",
   "name": "python",
   "nbconvert_exporter": "python",
   "pygments_lexer": "ipython3",
   "version": "3.7.1"
  }
 },
 "nbformat": 4,
 "nbformat_minor": 2
}
