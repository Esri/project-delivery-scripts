{
 "cells": [
  {
   "cell_type": "code",
   "execution_count": 1,
   "metadata": {},
   "outputs": [],
   "source": [
    "# Global Variables Set by User **change these values before running script**\n",
    "\n",
    "# URL of the portal with the template content\n",
    "PROJECT_URL = \"https://ps-cc.maps.arcgis.com\"\n",
    "\n",
    "# Portal Username for Log-on (needs to be admin)\n",
    "PROJECT_USERNAME = \"gbushong_PS_CC\"\n",
    "\n",
    "# URL of the portal that will be customized and have users added\n",
    "DELIVERY_URL = \"https://pdo-scripts.maps.arcgis.com\"\n",
    "\n",
    "# Delivery username for log-on (needs to be admin)\n",
    "DELIVERY_USERNAME = \"pdo_admin\"\n",
    "\n",
    "# delivery org UX Component locations - local full path\n",
    "FOLDER = \"/Users/grac9792/OneDrive - Esri/pdo-scripts/Sample_Config\" \n",
    "\n",
    "# project groups to share with *ALL* delivery users\n",
    "GROUP_IDS = [\"5e831faa6e574e46ae2e019d0e897a4f\"]\n",
    "\n",
    "# featured group to display on delivery home page #aec-test-group\n",
    "FEATURED_GROUP_ID = \"5e831faa6e574e46ae2e019d0e897a4f\"\n",
    "\n",
    "# filenames of UI components and user file, which are located in FOLDER\n",
    "THUMBNAIL_FILENAME = \"thumbnail.png\"\n",
    "FOOTER_FILENAME = \"footer.txt\"\n",
    "BACKGROUND_FILENAME = \"background.png\"\n",
    "BANNER_FILENAME = \"banner.png\"\n",
    "DESCRIPTION_FILENAME = \"description.txt\"\n",
    "USERS_FILENAME = \"users.csv\""
   ]
  },
  {
   "cell_type": "code",
   "execution_count": 2,
   "metadata": {},
   "outputs": [],
   "source": [
    "# import libraries\n",
    "from arcgis.gis import GIS\n",
    "from arcgis.gis import Group\n",
    "from arcgis.gis import UserManager\n",
    "import os\n",
    "import csv"
   ]
  },
  {
   "cell_type": "code",
   "execution_count": 3,
   "metadata": {},
   "outputs": [],
   "source": [
    "# get UI component filepaths\n",
    "THUMBNAIL = os.path.join(FOLDER, THUMBNAIL_FILENAME)\n",
    "FOOTER = os.path.join(FOLDER, FOOTER_FILENAME)\n",
    "BACKGROUND = os.path.join(FOLDER, BACKGROUND_FILENAME)\n",
    "BANNER = os.path.join(FOLDER, BANNER_FILENAME)\n",
    "DESCRIPTION = os.path.join(FOLDER, DESCRIPTION_FILENAME)\n",
    "USERS = os.path.join(FOLDER, USERS_FILENAME)\n",
    "USER_FIELDS = [\"Email\", \"First Name\", \"Last Name\", \"Username\", \"Password\", \"Role\", \"User Type\", \"groups\"]"
   ]
  },
  {
   "cell_type": "code",
   "execution_count": 4,
   "metadata": {},
   "outputs": [
    {
     "name": "stdout",
     "output_type": "stream",
     "text": [
      "Connecting to https://ps-cc.maps.arcgis.com with username gbushong_PS_CC...\n",
      "Enter password: ········\n",
      "Connecting to https://pdo-scripts.maps.arcgis.com with username pdo_admin...\n",
      "Enter password: ········\n"
     ]
    }
   ],
   "source": [
    "# connect to project and delivery orgs\n",
    "print(\"Connecting to {} with username {}...\".format(PROJECT_URL, PROJECT_USERNAME))\n",
    "project = GIS(PROJECT_URL, PROJECT_USERNAME)\n",
    "\n",
    "print(\"Connecting to {} with username {}...\".format(DELIVERY_URL, DELIVERY_USERNAME))\n",
    "delivery = GIS(DELIVERY_URL, DELIVERY_USERNAME)"
   ]
  },
  {
   "cell_type": "code",
   "execution_count": 5,
   "metadata": {},
   "outputs": [],
   "source": [
    "# Creation of functions to be used later\n",
    "def optional_args_handler(key, user, default=None):\n",
    "    \"\"\"Sets optional user creation arguments appropriately\"\"\"\n",
    "    try:\n",
    "        var = None\n",
    "        if key in user:\n",
    "            var = user[key]\n",
    "        else:\n",
    "            if default:\n",
    "                var = default\n",
    "        return var\n",
    "    except Exception as e:\n",
    "        print(\"Optional args handler failed with args {}, {}, and {}: {}\".format(key, user, default, e))\n",
    "\n",
    "def add_user(user, origin, target, groups=[]):\n",
    "    \"\"\"Add user to the gis and to specified groups\n",
    "    * Abstraction for creating from dict such as with csv\n",
    "\n",
    "    args:\n",
    "    user -- a dictionary containing user fields, see fields:\n",
    "        http://esri.github.io/arcgis-python-api/apidoc/html/arcgis.gis.toc.html#arcgis.gis.UserManager.create\n",
    "    origin -- the project org, where users will be invited to groups\n",
    "    target -- the delivery org, where users are added\n",
    "    groups -- (optional) destination groups, compliments those in dict\n",
    "    \"\"\"\n",
    "    try:\n",
    "        print(\"INFO: Creating user {}\".format(user[\"Username\"]))\n",
    "        role = optional_args_handler('Role', user, 'viewer') # default is viewer\n",
    "        user_type = optional_args_handler('User Type', user, 'viewer') # default is viewer\n",
    "        \n",
    "        # create array of groups for user\n",
    "        user_groups = []\n",
    "        for grp in groups:\n",
    "            user_groups.append(grp)\n",
    "\n",
    "        group_str = user.pop('groups', None)\n",
    "        if group_str:\n",
    "            group_list = group_str.split(\",\")\n",
    "            for g in group_list:\n",
    "                try:\n",
    "                    group_search = Group(origin, g)\n",
    "                    if group_search.title:\n",
    "                        user_groups.append(group_search)\n",
    "                except Exception as e:\n",
    "                    print(\"ERR: Could not find group id {}\".format(g))\n",
    "                    continue\n",
    "        print(\"User will be invited to join: {}\".format([g.title for g in user_groups]))\n",
    "        \n",
    "        result = target.users.create(username=user['Username'], password=user['Password'], firstname=user['First Name'], \n",
    "                                  lastname=user['Last Name'], email=user['Email'], role=role, user_type=user_type)\n",
    "\n",
    "        # create users returns None if it was unsuccessful\n",
    "        if not result:\n",
    "            print(\"Did not create user: Check username {}\".format(user['Username']))\n",
    "            return\n",
    "\n",
    "        # Invite user to groups\n",
    "        print(\"Inviting to groups\")\n",
    "        for g in user_groups:\n",
    "            try:\n",
    "                res = g.invite_users([user['Username']])                \n",
    "                if res == True:\n",
    "                    print(\"Invited user {} to group {}\".format(user['Username'], g.title))\n",
    "                else: # res == False\n",
    "                    print(\"Failed to invite user {} to group {}: {}\".format(user['Username'], g.title, res))\n",
    "            except Exception as e:\n",
    "                print(\"ERR: Could not add user {} to group {}: {}\".format(user['Username'], g, e))\n",
    "                continue\n",
    "        return result\n",
    "    except Exception as e:\n",
    "        print(\"ERR: Could not create User {}: Add User encountered error {}\".format(user['Username'], e))\n",
    "\n",
    "def add_users_csv(csv_file, origin, target, groups=None):\n",
    "    \"\"\"Add users from csv to gis\n",
    "\n",
    "    args:\n",
    "    csv_file -- path to csv with users to create\n",
    "    origin -- project organization\n",
    "    target -- delivery organization where users are added\n",
    "    groups -- (optional) destination groups, compliments those in csv (default [])\n",
    "    \"\"\"\n",
    "    try:\n",
    "        results = []\n",
    "        with open(csv_file, 'r') as users_csv:\n",
    "            users = csv.DictReader(users_csv, fieldnames=USER_FIELDS)\n",
    "            next(users, None) # skip the header\n",
    "            for user in users:\n",
    "                result = add_user(user, origin, target, groups=groups)\n",
    "                results.append(result)\n",
    "        return results\n",
    "    except Exception as e:\n",
    "        print(\"Add users csv failed with args {}, {}, {}, and {}: {}\".format(csv_file, origin, target, groups, e))"
   ]
  },
  {
   "cell_type": "code",
   "execution_count": 6,
   "metadata": {},
   "outputs": [
    {
     "name": "stdout",
     "output_type": "stream",
     "text": [
      "(<Group title:\"Louisville-PDO Test Group\" owner:gbushong_PS_CC>,)\n",
      "INFO: Creating user ljccstudent1_pdo\n",
      "User will be invited to join: ['Louisville-PDO Test Group']\n",
      "Inviting to groups\n",
      "Invited user ljccstudent1_pdo to group Louisville-PDO Test Group\n",
      "INFO: Creating user ljccstudent2_pdo\n",
      "User will be invited to join: ['Louisville-PDO Test Group']\n",
      "Inviting to groups\n"
     ]
    },
    {
     "name": "stderr",
     "output_type": "stream",
     "text": [
      "Unable to invite user to group. The user does not have the privileges needed to join the group.\n"
     ]
    },
    {
     "name": "stdout",
     "output_type": "stream",
     "text": [
      "ERR: Could not add user ljccstudent2_pdo to group <Group title:\"Louisville-PDO Test Group\" owner:gbushong_PS_CC>: Unable to invite user to group. The user does not have the privileges needed to join the group.\n",
      "(Error Code: 400)\n",
      "INFO: Creating user ljccstudent3_pdo\n",
      "User will be invited to join: ['Louisville-PDO Test Group']\n",
      "Inviting to groups\n"
     ]
    },
    {
     "name": "stderr",
     "output_type": "stream",
     "text": [
      "Unable to invite user to group. The user does not have the privileges needed to join the group.\n"
     ]
    },
    {
     "name": "stdout",
     "output_type": "stream",
     "text": [
      "ERR: Could not add user ljccstudent3_pdo to group <Group title:\"Louisville-PDO Test Group\" owner:gbushong_PS_CC>: Unable to invite user to group. The user does not have the privileges needed to join the group.\n",
      "(Error Code: 400)\n",
      "INFO: Creating user ljccstudent4_pdo\n",
      "User will be invited to join: ['Louisville-PDO Test Group']\n",
      "Inviting to groups\n"
     ]
    },
    {
     "name": "stderr",
     "output_type": "stream",
     "text": [
      "Unable to invite user to group. The user does not have the privileges needed to join the group.\n"
     ]
    },
    {
     "name": "stdout",
     "output_type": "stream",
     "text": [
      "ERR: Could not add user ljccstudent4_pdo to group <Group title:\"Louisville-PDO Test Group\" owner:gbushong_PS_CC>: Unable to invite user to group. The user does not have the privileges needed to join the group.\n",
      "(Error Code: 400)\n"
     ]
    },
    {
     "data": {
      "text/plain": [
       "[<User username:ljccstudent1_pdo>,\n",
       " <User username:ljccstudent2_pdo>,\n",
       " <User username:ljccstudent3_pdo>,\n",
       " <User username:ljccstudent4_pdo>]"
      ]
     },
     "execution_count": 6,
     "metadata": {},
     "output_type": "execute_result"
    }
   ],
   "source": [
    "# fetch groups where *ALL* users will be added\n",
    "share_groups = tuple(Group(project, g) for g in GROUP_IDS)\n",
    "print(share_groups)\n",
    "\n",
    "# add users to the delivery org and invite them to groups in project org\n",
    "add_users_csv(USERS, project, delivery, groups=share_groups)"
   ]
  },
  {
   "cell_type": "code",
   "execution_count": 7,
   "metadata": {},
   "outputs": [],
   "source": [
    "# customize UI by setting background, banner, logo, etc.\n",
    "ux = delivery.admin.ux\n",
    "ux.set_background(BACKGROUND)\n",
    "ux.set_banner(BANNER)\n",
    "ux.set_logo(THUMBNAIL)\n",
    "\n",
    "# read description text file and set portal description\n",
    "with open(DESCRIPTION, 'r') as f:\n",
    "    description = f.read()\n",
    "    ux.description = description\n",
    "    \n",
    "# find and set featured group\n",
    "if FEATURED_GROUP_ID:\n",
    "    featured_group = Group(delivery, FEATURED_GROUP_ID)\n",
    "    ux.featured_content = {'group': featured_group}"
   ]
  },
  {
   "cell_type": "code",
   "execution_count": null,
   "metadata": {},
   "outputs": [],
   "source": []
  }
 ],
 "metadata": {
  "kernelspec": {
   "display_name": "Python 3",
   "language": "python",
   "name": "python3"
  },
  "language_info": {
   "codemirror_mode": {
    "name": "ipython",
    "version": 3
   },
   "file_extension": ".py",
   "mimetype": "text/x-python",
   "name": "python",
   "nbconvert_exporter": "python",
   "pygments_lexer": "ipython3",
   "version": "3.6.8"
  }
 },
 "nbformat": 4,
 "nbformat_minor": 2
}
