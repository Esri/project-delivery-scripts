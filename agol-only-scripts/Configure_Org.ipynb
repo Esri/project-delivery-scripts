{
 "cells": [
  {
   "cell_type": "code",
   "execution_count": 1,
   "metadata": {},
   "outputs": [],
   "source": [
    "# Global Variables Set by User **change these values before running script**\n",
    "\n",
    "# URL of the portal with the template content\n",
    "SOURCE_URL = \"https://my-portal.maps.arcgis.com\"\n",
    "\n",
    "# Portal Username for Log-on (needs to be admin)\n",
    "SOURCE_USERNAME = \"my_username\"\n",
    "\n",
    "# URL of the portal that will be customized and have users added\n",
    "TARGET_URL = \"https://pdo-scripts.maps.arcgis.com\"\n",
    "\n",
    "# Delivery username for log-on (needs to be admin)\n",
    "TARGET_USERNAME = \"target_username\"\n",
    "\n",
    "# project groups to share with *ALL* delivery users\n",
    "GROUP_IDS = [\"5e831faa6e574e46ae2e019d0e897a4f\"]\n",
    "\n",
    "# featured group to display on delivery home page #aec-test-group\n",
    "FEATURED_GROUP_ID = \"5e831faa6e574e46ae2e019d0e897a4f\"\n"
   ]
  },
  {
   "cell_type": "code",
   "execution_count": 2,
   "metadata": {},
   "outputs": [],
   "source": [
    "# import libraries\n",
    "from arcgis.gis import GIS\n",
    "from arcgis.gis import Group\n",
    "from arcgis.gis import UserManager\n",
    "import os\n",
    "import csv"
   ]
  },
  {
   "cell_type": "code",
   "execution_count": 3,
   "metadata": {},
   "outputs": [],
   "source": [
    "# get UI component filepaths\n",
    "USERS = os.path.join(FOLDER, USERS_FILENAME)\n",
    "USER_FIELDS = [\"Email\", \"First Name\", \"Last Name\", \"Username\", \"Password\", \"Role\", \"User Type\", \"groups\"]"
   ]
  },
  {
   "cell_type": "code",
   "execution_count": 4,
   "metadata": {},
   "outputs": [
    {
     "name": "stdout",
     "output_type": "stream",
     "text": [
      "Connecting to https://ps-cc.maps.arcgis.com with username gbushong_PS_CC...\n",
      "Enter password: ········\n",
      "Connecting to https://pdo-scripts.maps.arcgis.com with username pdo_admin...\n",
      "Enter password: ········\n"
     ]
    }
   ],
   "source": [
    "# connect to project and delivery orgs\n",
    "print(\"Connecting to {} with username {}...\".format(SOURCE_URL, SOURCE_USERNAME))\n",
    "project = GIS(SOURCE_URL, SOURCE_USERNAME)\n",
    "\n",
    "print(\"Connecting to {} with username {}...\".format(TARGET_URL, TARGET_USERNAME))\n",
    "delivery = GIS(TARGET_URL, TARGET_USERNAME)"
   ]
  },
  {
   "cell_type": "code",
   "execution_count": 5,
   "metadata": {},
   "outputs": [],
   "source": [
    "# Creation of functions to be used later\n",
    "def optional_args_handler(key, user, default=None):\n",
    "    \"\"\"Sets optional user creation arguments appropriately\"\"\"\n",
    "    try:\n",
    "        var = None\n",
    "        if key in user:\n",
    "            var = user[key]\n",
    "        else:\n",
    "            if default:\n",
    "                var = default\n",
    "        return var\n",
    "    except Exception as e:\n",
    "        print(\"Optional args handler failed with args {}, {}, and {}: {}\".format(key, user, default, e))\n",
    "\n",
    "def add_user(user, origin, target, groups=[]):\n",
    "    \"\"\"Add user to the gis and to specified groups\n",
    "    * Abstraction for creating from dict such as with csv\n",
    "\n",
    "    args:\n",
    "    user -- a dictionary containing user fields, see fields:\n",
    "        http://esri.github.io/arcgis-python-api/apidoc/html/arcgis.gis.toc.html#arcgis.gis.UserManager.create\n",
    "    origin -- the project org, where users will be invited to groups\n",
    "    target -- the delivery org, where users are added\n",
    "    groups -- (optional) destination groups, compliments those in dict\n",
    "    \"\"\"\n",
    "    try:\n",
    "        print(\"INFO: Creating user {}\".format(user[\"Username\"]))\n",
    "        role = optional_args_handler('Role', user, 'viewer') # default is viewer\n",
    "        user_type = optional_args_handler('User Type', user, 'viewer') # default is viewer\n",
    "        \n",
    "        # create array of groups for user\n",
    "        user_groups = []\n",
    "        for grp in groups:\n",
    "            user_groups.append(grp)\n",
    "\n",
    "        group_str = user.pop('groups', None)\n",
    "        if group_str:\n",
    "            group_list = group_str.split(\",\")\n",
    "            for g in group_list:\n",
    "                try:\n",
    "                    group_search = Group(origin, g)\n",
    "                    if group_search.title:\n",
    "                        user_groups.append(group_search)\n",
    "                except Exception as e:\n",
    "                    print(\"ERR: Could not find group id {}\".format(g))\n",
    "                    continue\n",
    "        print(\"User will be invited to join: {}\".format([g.title for g in user_groups]))\n",
    "        \n",
    "        result = target.users.create(username=user['Username'], password=user['Password'], firstname=user['First Name'], \n",
    "                                  lastname=user['Last Name'], email=user['Email'], role=role, user_type=user_type)\n",
    "\n",
    "        # create users returns None if it was unsuccessful\n",
    "        if not result:\n",
    "            print(\"Did not create user: Check username {}\".format(user['Username']))\n",
    "            return\n",
    "\n",
    "        # Invite user to groups\n",
    "        print(\"Inviting to groups\")\n",
    "        for g in user_groups:\n",
    "            try:\n",
    "                res = target.groups.get(g.groupid).invite_users([user['Username']])\n",
    "                if res == True:\n",
    "                    print(\"Invited user {} to group {}\".format(user['Username'], g.title))\n",
    "                else: # res == False\n",
    "                    print(\"Failed to invite user {} to group {}: {}\".format(user['Username'], g.title, res))\n",
    "            except Exception as e:\n",
    "                print(\"ERR: Could not add user {} to group {}: {}\".format(user['Username'], g, e))\n",
    "                continue\n",
    "        return result\n",
    "    except Exception as e:\n",
    "        print(\"ERR: Could not create User {}: Add User encountered error {}\".format(user['Username'], e))\n",
    "\n",
    "def add_users_csv(csv_file, origin, target, groups=None):\n",
    "    \"\"\"Add users from csv to gis\n",
    "\n",
    "    args:\n",
    "    csv_file -- path to csv with users to create\n",
    "    origin -- project organization\n",
    "    target -- delivery organization where users are added\n",
    "    groups -- (optional) destination groups, compliments those in csv (default [])\n",
    "    \"\"\"\n",
    "    try:\n",
    "        results = []\n",
    "        with open(csv_file, 'r') as users_csv:\n",
    "            users = csv.DictReader(users_csv, fieldnames=USER_FIELDS)\n",
    "            next(users, None) # skip the header\n",
    "            for user in users:\n",
    "                result = add_user(user, origin, target, groups=groups)\n",
    "                results.append(result)\n",
    "        return results\n",
    "    except Exception as e:\n",
    "        print(\"Add users csv failed with args {}, {}, {}, and {}: {}\".format(csv_file, origin, target, groups, e))"
   ]
  },
  {
   "cell_type": "code",
   "execution_count": null,
   "metadata": {},
   "outputs": [],
   "source": [
    "# fetch groups where *ALL* users will be added\n",
    "share_groups = tuple(Group(project, g) for g in GROUP_IDS)\n",
    "print(share_groups)\n",
    "\n",
    "# add users to the delivery org and invite them to groups in project org\n",
    "add_users_csv(USERS, project, delivery, groups=share_groups)"
   ]
  },
  {
   "cell_type": "code",
   "execution_count": null,
   "metadata": {},
   "outputs": [],
   "source": []
  }
 ],
 "metadata": {
  "kernelspec": {
   "display_name": "Python 3",
   "language": "python",
   "name": "python3"
  },
  "language_info": {
   "codemirror_mode": {
    "name": "ipython",
    "version": 3
   },
   "file_extension": ".py",
   "mimetype": "text/x-python",
   "name": "python",
   "nbconvert_exporter": "python",
   "pygments_lexer": "ipython3",
   "version": "3.7.10"
  }
 },
 "nbformat": 4,
 "nbformat_minor": 2
}
