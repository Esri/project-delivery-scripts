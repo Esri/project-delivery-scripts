{
 "cells": [
  {
   "cell_type": "code",
   "execution_count": 1,
   "metadata": {
    "collapsed": true
   },
   "outputs": [],
   "source": [
    "# common imports\n",
    "from arcgis.gis import GIS"
   ]
  },
  {
   "cell_type": "code",
   "execution_count": null,
   "metadata": {
    "collapsed": true
   },
   "outputs": [],
   "source": [
    "# org to be customized\n",
    "gis = GIS(\"<template GIS>\", \"<un>\", \"<pw>\")"
   ]
  },
  {
   "cell_type": "code",
   "execution_count": 2,
   "metadata": {
    "collapsed": true
   },
   "outputs": [],
   "source": [
    "# path to csv with users to be added\n",
    "USER_CSV = \"<CSV PATH>\"\n",
    "\n",
    "# groups to share with users\n",
    "GROUPS = [\"external apps\"]\n",
    "\n",
    "# delivery organization UX component locations\n",
    "THUMBNAIL_PATH = \"<THUMBNAIL PATH>\"\n",
    "FOOTER_PATH = \"<FOOTER PATH>\"\n",
    "BANNER_PATH = \"<BANNER PATH>\"\n",
    "BACKGROUND_PATH = \"<BACKGROUND PATH>\"\n",
    "\n",
    "# featured content group\n",
    "FEATURED_GROUP = \"data\""
   ]
  },
  {
   "cell_type": "code",
   "execution_count": null,
   "metadata": {
    "collapsed": true
   },
   "outputs": [],
   "source": [
    "share_groups = [gis.groups.search(g)[0] for g in GROUPS]"
   ]
  },
  {
   "cell_type": "code",
   "execution_count": 3,
   "metadata": {
    "collapsed": true
   },
   "outputs": [],
   "source": [
    "from clone_utils import add_users_csv"
   ]
  },
  {
   "cell_type": "code",
   "execution_count": null,
   "metadata": {
    "collapsed": true
   },
   "outputs": [],
   "source": [
    "# add users to delivery org\n",
    "add_users_csv(USER_CSV, delivery, groups=delivery_groups)"
   ]
  },
  {
   "cell_type": "code",
   "execution_count": null,
   "metadata": {
    "collapsed": true
   },
   "outputs": [],
   "source": [
    "ux = delivery.admin.ux\n",
    "ux.set_background(BACKGROUND_PATH)\n",
    "ux.set_banner(BANNER_PATH)\n",
    "ux.set_logo(THUMBNAIL_PATH)\n",
    "\n",
    "featured_group = next(group for group in delivery_groups if group.title == FEATURED_GROUP)\n",
    "ux.featured_content = {'group': featured_group}"
   ]
  }
 ],
 "metadata": {
  "kernelspec": {
   "display_name": "Python 3",
   "language": "python",
   "name": "python3"
  },
  "language_info": {
   "codemirror_mode": {
    "name": "ipython",
    "version": 3
   },
   "file_extension": ".py",
   "mimetype": "text/x-python",
   "name": "python",
   "nbconvert_exporter": "python",
   "pygments_lexer": "ipython3",
   "version": "3.6.3"
  }
 },
 "nbformat": 4,
 "nbformat_minor": 2
}
