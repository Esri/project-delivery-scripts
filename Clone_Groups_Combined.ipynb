{
 "cells": [
  {
   "cell_type": "code",
   "execution_count": 16,
   "metadata": {},
   "outputs": [],
   "source": [
    "# Global Variables set by user\n",
    "PROJECT_PORTAL = \"https://envisioning.maps.arcgis.com\"\n",
    "PROJECT_USERNAME = \"GBushongENV\"\n",
    "PROJECT_GROUPS = [\"aec-test-group\", \"aec-test-group-2\"] # specify groups to be shared with delivery org\n",
    "DELIVERY_PORTAL = \"https://esrienergy.maps.arcgis.com\"\n",
    "DELIVERY_USERNAME = \"PDOAdmin\"\n",
    "COPY_PREFIX = \"Test\" # the word or words that should be appended to the front to distinguish these copies of the template items\n",
    "FOLDER_SUFFIX = \"Content\" # the folder containing these copies of files will be named COPY_PREFIX + FOLDER_SUFFIX"
   ]
  },
  {
   "cell_type": "code",
   "execution_count": 17,
   "metadata": {},
   "outputs": [],
   "source": [
    "# import libraries\n",
    "from arcgis.gis import GIS\n",
    "from IPython.display import display\n",
    "import tempfile"
   ]
  },
  {
   "cell_type": "code",
   "execution_count": 18,
   "metadata": {},
   "outputs": [
    {
     "name": "stdout",
     "output_type": "stream",
     "text": [
      "Enter password: ········\n",
      "Enter password: ········\n"
     ]
    }
   ],
   "source": [
    "# connections to Project and Delivery organizations\n",
    "project = GIS(PROJECT_PORTAL, PROJECT_USERNAME)\n",
    "delivery_org = GIS(DELIVERY_PORTAL, DELIVERY_USERNAME)\n",
    "GROUP_NAME_STRUCTURE = COPY_PREFIX + \"-{}\"\n",
    "NAME_STRUCTURE = COPY_PREFIX + \" {}\"\n",
    "#FOLDER = COPY_PREFIX + \" \" + FOLDER_SUFFIX\n",
    "FOLDER = NAME_STRUCTURE.format(FOLDER_SUFFIX)"
   ]
  },
  {
   "cell_type": "code",
   "execution_count": 21,
   "metadata": {},
   "outputs": [],
   "source": [
    "# functions from utils/clone_utils\n",
    "def search_by_title(target, title, obj_type):\n",
    "    \"\"\"search org for an existing item with title\n",
    "    args:\n",
    "    target -- target GIS to search\n",
    "    title -- item or group to search\n",
    "    obj_type -- can be \"item\" or \"group\"\n",
    "    \"\"\"\n",
    "    if(obj_type == \"group\"):\n",
    "        s_items = target.groups.search(title)\n",
    "    elif(obj_type == \"item\"):\n",
    "        s_items = target.content.search(query='title:{}'.format(title))\n",
    "    for s_item in s_items:\n",
    "        if s_item.title == title:\n",
    "            return s_item\n",
    "    return None\n",
    "\n",
    "# functions to modify the title of the cloned items and groups\n",
    "def modify_item(item, target):\n",
    "    title = NAME_STRUCTURE.format(item.title)\n",
    "    while search_by_title(target, title, \"item\"):\n",
    "        title = input(\"Title `{0}` for ITEM `{1}` already exists \\nNew title: \".format(title, item.title))\n",
    "    return {\"title\": title}\n",
    "\n",
    "def modify_group(expected_title, target):\n",
    "    title = GROUP_NAME_STRUCTURE.format(expected_title)\n",
    "    while search_by_title(target, title, \"group\"):\n",
    "        title = input(\"Title `{0}` for GROUP `{1}` already exists \\nNew title: \".format(title, expected_title))\n",
    "    return {\"title\": title}\n",
    "\n",
    "def clone_group_modify(group, target):\n",
    "    res = modify_group(group.title, target)\n",
    "    new_group_title = res['title']\n",
    "    if not search_by_title(project, new_group_title, \"group\"):\n",
    "        try:\n",
    "            with tempfile.TemporaryDirectory() as temp_dir:\n",
    "                thumbnail_file = group.download_thumbnail(temp_dir)\n",
    "                target_group = project.groups.create(title=new_group_title, tags=group.tags,\n",
    "                                                    description=group.description, snippet=group.snippet,\n",
    "                                                    access=group.access, thumbnail=thumbnail_file,\n",
    "                                                    is_invitation_only=True, sort_field='avgRating',\n",
    "                                                    sort_order='asc', is_view_only=False)\n",
    "                display(target_group)\n",
    "            return target_group\n",
    "        except Exception as e:\n",
    "            print('Group {} could not be created: {}'.format(new_group_title, e))\n",
    "            return None\n",
    "    else: # shouldn't ever get here because modify_group should ensure a unique group name\n",
    "        print('Group {} already exists in portal'.format(new_group_title))\n",
    "        return None\n",
    "        \n",
    "def clone_items_modify(group, target, modify_item_callback=None, modify_group_callback=None, **kwargs):\n",
    "    \"\"\"Clone groups and items to a target GIS\n",
    "    * Abstraction over arcgis.gis.ContentManager.clone_items to:\n",
    "    - Provide callbacks to update properties, sometimes shouldn't have 1:1 copy\n",
    "\n",
    "    args:\n",
    "    group -- group containing items to be cloned. cloned group name based off 'GROUP_NAME_STRUCTURE'\n",
    "    target -- target gis where items or groups will be cloned\n",
    "    modify_item_callback -- callback to update Item properties, expects args: (item_clone, target_gis)\n",
    "        returns: flattened dict of args, eg {'title':'<>'; 'data':'<>'}, args here:\n",
    "    https://esri.github.io/arcgis-python-api/apidoc/html/arcgis.gis.toc.html?highlight=clone_items#arcgis.gis.Item.update\n",
    "\n",
    "    modify_group_callback -- callback to update Group properties, expects args: (expected_title, target_gis)\n",
    "        returns: dict of args here:\n",
    "    https://esri.github.io/arcgis-python-api/apidoc/html/arcgis.gis.toc.html?highlight=clone_items#arcgis.gis.Group.update\n",
    "\n",
    "    **kwargs:\n",
    "    all additional args go into the gis.ContentManager.clone_items function described here:\n",
    "    https://esri.github.io/arcgis-python-api/apidoc/html/arcgis.gis.toc.html?highlight=clone_items#arcgis.gis.ContentManager.clone_items\n",
    "    \"\"\"\n",
    "\n",
    "    from arcgis.gis import Group\n",
    "    from arcgis.gis import Item\n",
    "\n",
    "    # allow single values\n",
    "    items = group if isinstance(group, list) else [group]\n",
    "    \n",
    "    # clone the group\n",
    "    new_group = clone_group_modify(group, target)\n",
    "    group_map = {group.id: new_group.id} # put cloned items in the new group just created\n",
    "    \n",
    "    # clone items in the specified group to the folder\n",
    "    results = target.content.clone_items(items, group_mapping=group_map, **kwargs) \n",
    "\n",
    "    # update each result\n",
    "    for result in results:\n",
    "        if isinstance(result, Item) and modify_item_callback:\n",
    "            props = modify_item_callback(result, target)\n",
    "            args = {}\n",
    "            args['data'] = props.pop('data', None)\n",
    "            args['thumbnail'] = props.pop('thumbnail', None)\n",
    "            args['metadata'] = props.pop('metadata', None)\n",
    "            args['item_properties'] = props\n",
    "            result.update(**args)\n",
    "        else:\n",
    "            print(result)\n",
    "            \n",
    "    return results"
   ]
  },
  {
   "cell_type": "code",
   "execution_count": 22,
   "metadata": {},
   "outputs": [
    {
     "data": {
      "text/html": [
       "<div class=\"9item_container\" style=\"height: auto; overflow: hidden; border: 1px solid #cfcfcf; border-radius: 2px; background: #f6fafa; line-height: 1.21429em; padding: 10px;\">\n",
       "                    <div class=\"item_left\" style=\"width: 210px; float: left;\">\n",
       "                       <a href='https://Envisioning.maps.arcgis.com/home/group.html?id=4d7ff4f81d6340428ef290b7de801204' target='_blank'>\n",
       "                        <img src='https://Envisioning.maps.arcgis.com/home/images/group-no-image.png' class=\"itemThumbnail\">\n",
       "                       </a>\n",
       "                    </div>\n",
       "\n",
       "                    <div class=\"item_right\" style=\"float: none; width: auto; overflow: hidden;\">\n",
       "                        <a href='https://Envisioning.maps.arcgis.com/home/group.html?id=4d7ff4f81d6340428ef290b7de801204' target='_blank'><b>aec-test-group</b>\n",
       "                        </a>\n",
       "                        <br/>\n",
       "                        <br/><b>Summary</b>: To be used for testing aec scripts\n",
       "                        <br/><b>Description</b>: None\n",
       "                        <br/><b>Owner</b>: GBushongENV\n",
       "                        <br/><b>Created</b>: November 27, 2018\n",
       "\n",
       "                    </div>\n",
       "                </div>\n",
       "                "
      ],
      "text/plain": [
       "<Group title:\"aec-test-group\" owner:GBushongENV>"
      ]
     },
     "metadata": {},
     "output_type": "display_data"
    },
    {
     "data": {
      "text/html": [
       "<div class=\"9item_container\" style=\"height: auto; overflow: hidden; border: 1px solid #cfcfcf; border-radius: 2px; background: #f6fafa; line-height: 1.21429em; padding: 10px;\">\n",
       "                    <div class=\"item_left\" style=\"width: 210px; float: left;\">\n",
       "                       <a href='https://Envisioning.maps.arcgis.com/home/group.html?id=c7235e224da3441594a701bb4485528a' target='_blank'>\n",
       "                        <img src='https://Envisioning.maps.arcgis.com/home/images/group-no-image.png' class=\"itemThumbnail\">\n",
       "                       </a>\n",
       "                    </div>\n",
       "\n",
       "                    <div class=\"item_right\" style=\"float: none; width: auto; overflow: hidden;\">\n",
       "                        <a href='https://Envisioning.maps.arcgis.com/home/group.html?id=c7235e224da3441594a701bb4485528a' target='_blank'><b>aec-test-group-2</b>\n",
       "                        </a>\n",
       "                        <br/>\n",
       "                        <br/><b>Summary</b>: Second test group for aec scripts (group-to-group sharing)\n",
       "                        <br/><b>Description</b>: None\n",
       "                        <br/><b>Owner</b>: GBushongENV\n",
       "                        <br/><b>Created</b>: November 27, 2018\n",
       "\n",
       "                    </div>\n",
       "                </div>\n",
       "                "
      ],
      "text/plain": [
       "<Group title:\"aec-test-group-2\" owner:GBushongENV>"
      ]
     },
     "metadata": {},
     "output_type": "display_data"
    }
   ],
   "source": [
    "# get and print project groups to copy to all new delivery orgs\n",
    "project_groups = [search_by_title(project, title, \"group\") for title in PROJECT_GROUPS]\n",
    "\n",
    "for group in project_groups:\n",
    "    display(group)"
   ]
  },
  {
   "cell_type": "code",
   "execution_count": 23,
   "metadata": {},
   "outputs": [
    {
     "name": "stdout",
     "output_type": "stream",
     "text": [
      "Title `Test-aec-test-group` for GROUP `aec-test-group` already exists \n",
      "New title: TEST-1\n"
     ]
    },
    {
     "data": {
      "text/html": [
       "<div class=\"9item_container\" style=\"height: auto; overflow: hidden; border: 1px solid #cfcfcf; border-radius: 2px; background: #f6fafa; line-height: 1.21429em; padding: 10px;\">\n",
       "                    <div class=\"item_left\" style=\"width: 210px; float: left;\">\n",
       "                       <a href='https://Envisioning.maps.arcgis.com/home/group.html?id=ee213017ab39402fb933d01c8bbe2e87' target='_blank'>\n",
       "                        <img src='https://Envisioning.maps.arcgis.com/home/images/group-no-image.png' class=\"itemThumbnail\">\n",
       "                       </a>\n",
       "                    </div>\n",
       "\n",
       "                    <div class=\"item_right\" style=\"float: none; width: auto; overflow: hidden;\">\n",
       "                        <a href='https://Envisioning.maps.arcgis.com/home/group.html?id=ee213017ab39402fb933d01c8bbe2e87' target='_blank'><b>TEST-1</b>\n",
       "                        </a>\n",
       "                        <br/>\n",
       "                        <br/><b>Summary</b>: To be used for testing aec scripts\n",
       "                        <br/><b>Description</b>: None\n",
       "                        <br/><b>Owner</b>: GBushongENV\n",
       "                        <br/><b>Created</b>: December 07, 2018\n",
       "\n",
       "                    </div>\n",
       "                </div>\n",
       "                "
      ],
      "text/plain": [
       "<Group title:\"TEST-1\" owner:GBushongENV>"
      ]
     },
     "metadata": {},
     "output_type": "display_data"
    },
    {
     "name": "stdout",
     "output_type": "stream",
     "text": [
      "Title `Test Sample Feature Layer` for ITEM `Sample Feature Layer` already exists \n",
      "New title: SFL 1\n",
      "Title `Test Sample Map` for ITEM `Sample Map` already exists \n",
      "New title: SM 1\n",
      "Title `Test Sample Scene` for ITEM `Sample Scene` already exists \n",
      "New title: SS 1\n"
     ]
    },
    {
     "data": {
      "text/plain": [
       "[<Item title:\"SFL 1\" type:Feature Layer Collection owner:GBushongENV>,\n",
       " <Item title:\"SM 1\" type:Web Map owner:GBushongENV>,\n",
       " <Item title:\"SS 1\" type:Web Scene owner:GBushongENV>]"
      ]
     },
     "metadata": {},
     "output_type": "display_data"
    },
    {
     "name": "stdout",
     "output_type": "stream",
     "text": [
      "Title `Test-aec-test-group-2` for GROUP `aec-test-group-2` already exists \n",
      "New title: TEST-2\n"
     ]
    },
    {
     "data": {
      "text/html": [
       "<div class=\"9item_container\" style=\"height: auto; overflow: hidden; border: 1px solid #cfcfcf; border-radius: 2px; background: #f6fafa; line-height: 1.21429em; padding: 10px;\">\n",
       "                    <div class=\"item_left\" style=\"width: 210px; float: left;\">\n",
       "                       <a href='https://Envisioning.maps.arcgis.com/home/group.html?id=da8394e31c76490180ad87b0b8c38a61' target='_blank'>\n",
       "                        <img src='https://Envisioning.maps.arcgis.com/home/images/group-no-image.png' class=\"itemThumbnail\">\n",
       "                       </a>\n",
       "                    </div>\n",
       "\n",
       "                    <div class=\"item_right\" style=\"float: none; width: auto; overflow: hidden;\">\n",
       "                        <a href='https://Envisioning.maps.arcgis.com/home/group.html?id=da8394e31c76490180ad87b0b8c38a61' target='_blank'><b>TEST-2</b>\n",
       "                        </a>\n",
       "                        <br/>\n",
       "                        <br/><b>Summary</b>: Second test group for aec scripts (group-to-group sharing)\n",
       "                        <br/><b>Description</b>: None\n",
       "                        <br/><b>Owner</b>: GBushongENV\n",
       "                        <br/><b>Created</b>: December 07, 2018\n",
       "\n",
       "                    </div>\n",
       "                </div>\n",
       "                "
      ],
      "text/plain": [
       "<Group title:\"TEST-2\" owner:GBushongENV>"
      ]
     },
     "metadata": {},
     "output_type": "display_data"
    },
    {
     "name": "stdout",
     "output_type": "stream",
     "text": [
      "Title `Test Sample Locator` for ITEM `Sample Locator` already exists \n",
      "New title: SL 1\n"
     ]
    },
    {
     "data": {
      "text/plain": [
       "[<Item title:\"SL 1\" type:Geocoding Layer owner:GBushongENV>]"
      ]
     },
     "metadata": {},
     "output_type": "display_data"
    }
   ],
   "source": [
    "# copy project groups to project org (external version)\n",
    "for group in project_groups:\n",
    "    clone_res = clone_items_modify(group, project, modify_item_callback=modify_item, \n",
    "                                   modify_group_callback=modify_group, \n",
    "                                   copy_data=False, search_existing_items=False, folder=FOLDER)\n",
    "    display(clone_res)"
   ]
  },
  {
   "cell_type": "code",
   "execution_count": null,
   "metadata": {},
   "outputs": [],
   "source": []
  }
 ],
 "metadata": {
  "kernelspec": {
   "display_name": "Python 3",
   "language": "python",
   "name": "python3"
  },
  "language_info": {
   "codemirror_mode": {
    "name": "ipython",
    "version": 3
   },
   "file_extension": ".py",
   "mimetype": "text/x-python",
   "name": "python",
   "nbconvert_exporter": "python",
   "pygments_lexer": "ipython3",
   "version": "3.7.1"
  }
 },
 "nbformat": 4,
 "nbformat_minor": 2
}
